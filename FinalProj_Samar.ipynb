{
  "nbformat": 4,
  "nbformat_minor": 0,
  "metadata": {
    "colab": {
      "name": "FinalProj Samar.ipynb",
      "provenance": [],
      "collapsed_sections": [],
      "authorship_tag": "ABX9TyNSF6XV2ABBl/BrwLypk5zh",
      "include_colab_link": true
    },
    "kernelspec": {
      "name": "python3",
      "display_name": "Python 3"
    },
    "language_info": {
      "name": "python"
    }
  },
  "cells": [
    {
      "cell_type": "markdown",
      "metadata": {
        "id": "view-in-github",
        "colab_type": "text"
      },
      "source": [
        "<a href=\"https://colab.research.google.com/github/SamarHamdy/Train.csv/blob/main/FinalProj_Samar.ipynb\" target=\"_parent\"><img src=\"https://colab.research.google.com/assets/colab-badge.svg\" alt=\"Open In Colab\"/></a>"
      ]
    },
    {
      "cell_type": "code",
      "execution_count": 11,
      "metadata": {
        "id": "DLT83EyG4XTv"
      },
      "outputs": [],
      "source": [
        "import numpy as np\n",
        "import pandas as pd\n",
        "import matplotlib as mtl\n",
        "import matplotlib.pyplot as plt\n",
        "import seaborn as sns\n",
        "from sklearn.model_selection import train_test_split\n",
        "from sklearn import svm\n",
        "from sklearn.metrics import accuracy_score\n",
        "import missingno as msno\n",
        "%matplotlib inline\n"
      ]
    },
    {
      "cell_type": "code",
      "source": [
        "filename='/content/LoanExport.csv'\n",
        "Loan_data= pd.read_csv(filename)"
      ],
      "metadata": {
        "colab": {
          "base_uri": "https://localhost:8080/"
        },
        "id": "ZkfQQd3mK0Lb",
        "outputId": "496ea106-b07d-4f90-f64e-8f5bd887230c"
      },
      "execution_count": 6,
      "outputs": [
        {
          "output_type": "stream",
          "name": "stderr",
          "text": [
            "/usr/local/lib/python3.7/dist-packages/IPython/core/interactiveshell.py:2882: DtypeWarning: Columns (18) have mixed types.Specify dtype option on import or set low_memory=False.\n",
            "  exec(code_obj, self.user_global_ns, self.user_ns)\n"
          ]
        }
      ]
    },
    {
      "cell_type": "code",
      "source": [
        "type(Loan_data)"
      ],
      "metadata": {
        "colab": {
          "base_uri": "https://localhost:8080/"
        },
        "id": "hwIPjFfogYBX",
        "outputId": "aef1bcd8-d470-44b2-cde6-b918f9438088"
      },
      "execution_count": 12,
      "outputs": [
        {
          "output_type": "execute_result",
          "data": {
            "text/plain": [
              "pandas.core.frame.DataFrame"
            ]
          },
          "metadata": {},
          "execution_count": 12
        }
      ]
    },
    {
      "cell_type": "code",
      "source": [
        "print(Loan_data.shape)"
      ],
      "metadata": {
        "colab": {
          "base_uri": "https://localhost:8080/"
        },
        "id": "3B072bNS7MCn",
        "outputId": "ee15dfee-a7b9-4962-aefa-0c3819fceb20"
      },
      "execution_count": 13,
      "outputs": [
        {
          "output_type": "stream",
          "name": "stdout",
          "text": [
            "(291451, 28)\n"
          ]
        }
      ]
    },
    {
      "cell_type": "code",
      "source": [
        "print(Loan_data.columns)"
      ],
      "metadata": {
        "colab": {
          "base_uri": "https://localhost:8080/"
        },
        "id": "9_A4j13D7lAA",
        "outputId": "323d4eac-b59f-42e9-ec9f-8eb0dfd9cfc7"
      },
      "execution_count": 14,
      "outputs": [
        {
          "output_type": "stream",
          "name": "stdout",
          "text": [
            "Index(['CreditScore', 'FirstPaymentDate', 'FirstTimeHomebuyer', 'MaturityDate',\n",
            "       'MSA', 'MIP', 'Units', 'Occupancy', 'OCLTV', 'DTI', 'OrigUPB', 'LTV',\n",
            "       'OrigInterestRate', 'Channel', 'PPM', 'ProductType', 'PropertyState',\n",
            "       'PropertyType', 'PostalCode', 'LoanSeqNum', 'LoanPurpose',\n",
            "       'OrigLoanTerm', 'NumBorrowers', 'SellerName', 'ServicerName',\n",
            "       'EverDelinquent', 'MonthsDelinquent', 'MonthsInRepayment'],\n",
            "      dtype='object')\n"
          ]
        }
      ]
    },
    {
      "cell_type": "code",
      "source": [
        "Loan_data.dtypes"
      ],
      "metadata": {
        "colab": {
          "base_uri": "https://localhost:8080/"
        },
        "id": "9O1G92L476yx",
        "outputId": "80eee63f-0d3b-4740-e4ee-d4437ba6e978"
      },
      "execution_count": 15,
      "outputs": [
        {
          "output_type": "execute_result",
          "data": {
            "text/plain": [
              "CreditScore             int64\n",
              "FirstPaymentDate        int64\n",
              "FirstTimeHomebuyer     object\n",
              "MaturityDate            int64\n",
              "MSA                    object\n",
              "MIP                     int64\n",
              "Units                   int64\n",
              "Occupancy              object\n",
              "OCLTV                   int64\n",
              "DTI                     int64\n",
              "OrigUPB                 int64\n",
              "LTV                     int64\n",
              "OrigInterestRate      float64\n",
              "Channel                object\n",
              "PPM                    object\n",
              "ProductType            object\n",
              "PropertyState          object\n",
              "PropertyType           object\n",
              "PostalCode             object\n",
              "LoanSeqNum             object\n",
              "LoanPurpose            object\n",
              "OrigLoanTerm            int64\n",
              "NumBorrowers           object\n",
              "SellerName             object\n",
              "ServicerName           object\n",
              "EverDelinquent          int64\n",
              "MonthsDelinquent        int64\n",
              "MonthsInRepayment       int64\n",
              "dtype: object"
            ]
          },
          "metadata": {},
          "execution_count": 15
        }
      ]
    },
    {
      "cell_type": "code",
      "source": [
        "#count data types\n",
        "Loan_data.dtypes.value_counts()"
      ],
      "metadata": {
        "colab": {
          "base_uri": "https://localhost:8080/"
        },
        "id": "hI-0uj2ZLyUm",
        "outputId": "1df1b481-4dae-4ddc-f6ef-0d94e3abb362"
      },
      "execution_count": 16,
      "outputs": [
        {
          "output_type": "execute_result",
          "data": {
            "text/plain": [
              "object     14\n",
              "int64      13\n",
              "float64     1\n",
              "dtype: int64"
            ]
          },
          "metadata": {},
          "execution_count": 16
        }
      ]
    },
    {
      "cell_type": "code",
      "source": [
        "Loan_data.describe()\n"
      ],
      "metadata": {
        "colab": {
          "base_uri": "https://localhost:8080/",
          "height": 364
        },
        "id": "PnTVgb_I8JGJ",
        "outputId": "c89e75e5-75b2-445b-f1ca-2a2ce86cbd70"
      },
      "execution_count": 18,
      "outputs": [
        {
          "output_type": "execute_result",
          "data": {
            "text/plain": [
              "         CreditScore  FirstPaymentDate   MaturityDate            MIP  \\\n",
              "count  291451.000000     291451.000000  291451.000000  291451.000000   \n",
              "mean      708.936991     199904.760553  202902.367043       9.216685   \n",
              "std        68.408791         13.821228      16.090508      12.648273   \n",
              "min         0.000000     199901.000000  202402.000000       0.000000   \n",
              "25%       675.000000     199903.000000  202902.000000       0.000000   \n",
              "50%       717.000000     199904.000000  202903.000000       0.000000   \n",
              "75%       753.000000     199905.000000  202904.000000      25.000000   \n",
              "max       849.000000     201303.000000  204302.000000      55.000000   \n",
              "\n",
              "               Units          OCLTV            DTI        OrigUPB  \\\n",
              "count  291451.000000  291451.000000  291451.000000  291451.000000   \n",
              "mean        1.026022      76.960529      30.033453  124940.387921   \n",
              "std         0.202986      15.236154      13.203974   53657.440624   \n",
              "min         0.000000       0.000000       0.000000    8000.000000   \n",
              "25%         1.000000      70.000000      22.000000   83000.000000   \n",
              "50%         1.000000      80.000000      31.000000  117000.000000   \n",
              "75%         1.000000      90.000000      39.000000  160000.000000   \n",
              "max         4.000000     110.000000      65.000000  497000.000000   \n",
              "\n",
              "                 LTV  OrigInterestRate   OrigLoanTerm  EverDelinquent  \\\n",
              "count  291451.000000     291451.000000  291451.000000   291451.000000   \n",
              "mean       76.937986          6.926547     359.835375        0.197848   \n",
              "std        15.225298          0.343541       2.286939        0.398378   \n",
              "min         0.000000          4.000000     301.000000        0.000000   \n",
              "25%        70.000000          6.750000     360.000000        0.000000   \n",
              "50%        80.000000          6.875000     360.000000        0.000000   \n",
              "75%        90.000000          7.125000     360.000000        0.000000   \n",
              "max       103.000000         12.350000     361.000000        1.000000   \n",
              "\n",
              "       MonthsDelinquent  MonthsInRepayment  \n",
              "count     291451.000000      291451.000000  \n",
              "mean           1.837729          60.805291  \n",
              "std            8.809392          46.142599  \n",
              "min            0.000000           1.000000  \n",
              "25%            0.000000          34.000000  \n",
              "50%            0.000000          48.000000  \n",
              "75%            0.000000          63.000000  \n",
              "max          180.000000         212.000000  "
            ],
            "text/html": [
              "\n",
              "  <div id=\"df-3a7108ae-94df-4349-ba94-bef9f743a171\">\n",
              "    <div class=\"colab-df-container\">\n",
              "      <div>\n",
              "<style scoped>\n",
              "    .dataframe tbody tr th:only-of-type {\n",
              "        vertical-align: middle;\n",
              "    }\n",
              "\n",
              "    .dataframe tbody tr th {\n",
              "        vertical-align: top;\n",
              "    }\n",
              "\n",
              "    .dataframe thead th {\n",
              "        text-align: right;\n",
              "    }\n",
              "</style>\n",
              "<table border=\"1\" class=\"dataframe\">\n",
              "  <thead>\n",
              "    <tr style=\"text-align: right;\">\n",
              "      <th></th>\n",
              "      <th>CreditScore</th>\n",
              "      <th>FirstPaymentDate</th>\n",
              "      <th>MaturityDate</th>\n",
              "      <th>MIP</th>\n",
              "      <th>Units</th>\n",
              "      <th>OCLTV</th>\n",
              "      <th>DTI</th>\n",
              "      <th>OrigUPB</th>\n",
              "      <th>LTV</th>\n",
              "      <th>OrigInterestRate</th>\n",
              "      <th>OrigLoanTerm</th>\n",
              "      <th>EverDelinquent</th>\n",
              "      <th>MonthsDelinquent</th>\n",
              "      <th>MonthsInRepayment</th>\n",
              "    </tr>\n",
              "  </thead>\n",
              "  <tbody>\n",
              "    <tr>\n",
              "      <th>count</th>\n",
              "      <td>291451.000000</td>\n",
              "      <td>291451.000000</td>\n",
              "      <td>291451.000000</td>\n",
              "      <td>291451.000000</td>\n",
              "      <td>291451.000000</td>\n",
              "      <td>291451.000000</td>\n",
              "      <td>291451.000000</td>\n",
              "      <td>291451.000000</td>\n",
              "      <td>291451.000000</td>\n",
              "      <td>291451.000000</td>\n",
              "      <td>291451.000000</td>\n",
              "      <td>291451.000000</td>\n",
              "      <td>291451.000000</td>\n",
              "      <td>291451.000000</td>\n",
              "    </tr>\n",
              "    <tr>\n",
              "      <th>mean</th>\n",
              "      <td>708.936991</td>\n",
              "      <td>199904.760553</td>\n",
              "      <td>202902.367043</td>\n",
              "      <td>9.216685</td>\n",
              "      <td>1.026022</td>\n",
              "      <td>76.960529</td>\n",
              "      <td>30.033453</td>\n",
              "      <td>124940.387921</td>\n",
              "      <td>76.937986</td>\n",
              "      <td>6.926547</td>\n",
              "      <td>359.835375</td>\n",
              "      <td>0.197848</td>\n",
              "      <td>1.837729</td>\n",
              "      <td>60.805291</td>\n",
              "    </tr>\n",
              "    <tr>\n",
              "      <th>std</th>\n",
              "      <td>68.408791</td>\n",
              "      <td>13.821228</td>\n",
              "      <td>16.090508</td>\n",
              "      <td>12.648273</td>\n",
              "      <td>0.202986</td>\n",
              "      <td>15.236154</td>\n",
              "      <td>13.203974</td>\n",
              "      <td>53657.440624</td>\n",
              "      <td>15.225298</td>\n",
              "      <td>0.343541</td>\n",
              "      <td>2.286939</td>\n",
              "      <td>0.398378</td>\n",
              "      <td>8.809392</td>\n",
              "      <td>46.142599</td>\n",
              "    </tr>\n",
              "    <tr>\n",
              "      <th>min</th>\n",
              "      <td>0.000000</td>\n",
              "      <td>199901.000000</td>\n",
              "      <td>202402.000000</td>\n",
              "      <td>0.000000</td>\n",
              "      <td>0.000000</td>\n",
              "      <td>0.000000</td>\n",
              "      <td>0.000000</td>\n",
              "      <td>8000.000000</td>\n",
              "      <td>0.000000</td>\n",
              "      <td>4.000000</td>\n",
              "      <td>301.000000</td>\n",
              "      <td>0.000000</td>\n",
              "      <td>0.000000</td>\n",
              "      <td>1.000000</td>\n",
              "    </tr>\n",
              "    <tr>\n",
              "      <th>25%</th>\n",
              "      <td>675.000000</td>\n",
              "      <td>199903.000000</td>\n",
              "      <td>202902.000000</td>\n",
              "      <td>0.000000</td>\n",
              "      <td>1.000000</td>\n",
              "      <td>70.000000</td>\n",
              "      <td>22.000000</td>\n",
              "      <td>83000.000000</td>\n",
              "      <td>70.000000</td>\n",
              "      <td>6.750000</td>\n",
              "      <td>360.000000</td>\n",
              "      <td>0.000000</td>\n",
              "      <td>0.000000</td>\n",
              "      <td>34.000000</td>\n",
              "    </tr>\n",
              "    <tr>\n",
              "      <th>50%</th>\n",
              "      <td>717.000000</td>\n",
              "      <td>199904.000000</td>\n",
              "      <td>202903.000000</td>\n",
              "      <td>0.000000</td>\n",
              "      <td>1.000000</td>\n",
              "      <td>80.000000</td>\n",
              "      <td>31.000000</td>\n",
              "      <td>117000.000000</td>\n",
              "      <td>80.000000</td>\n",
              "      <td>6.875000</td>\n",
              "      <td>360.000000</td>\n",
              "      <td>0.000000</td>\n",
              "      <td>0.000000</td>\n",
              "      <td>48.000000</td>\n",
              "    </tr>\n",
              "    <tr>\n",
              "      <th>75%</th>\n",
              "      <td>753.000000</td>\n",
              "      <td>199905.000000</td>\n",
              "      <td>202904.000000</td>\n",
              "      <td>25.000000</td>\n",
              "      <td>1.000000</td>\n",
              "      <td>90.000000</td>\n",
              "      <td>39.000000</td>\n",
              "      <td>160000.000000</td>\n",
              "      <td>90.000000</td>\n",
              "      <td>7.125000</td>\n",
              "      <td>360.000000</td>\n",
              "      <td>0.000000</td>\n",
              "      <td>0.000000</td>\n",
              "      <td>63.000000</td>\n",
              "    </tr>\n",
              "    <tr>\n",
              "      <th>max</th>\n",
              "      <td>849.000000</td>\n",
              "      <td>201303.000000</td>\n",
              "      <td>204302.000000</td>\n",
              "      <td>55.000000</td>\n",
              "      <td>4.000000</td>\n",
              "      <td>110.000000</td>\n",
              "      <td>65.000000</td>\n",
              "      <td>497000.000000</td>\n",
              "      <td>103.000000</td>\n",
              "      <td>12.350000</td>\n",
              "      <td>361.000000</td>\n",
              "      <td>1.000000</td>\n",
              "      <td>180.000000</td>\n",
              "      <td>212.000000</td>\n",
              "    </tr>\n",
              "  </tbody>\n",
              "</table>\n",
              "</div>\n",
              "      <button class=\"colab-df-convert\" onclick=\"convertToInteractive('df-3a7108ae-94df-4349-ba94-bef9f743a171')\"\n",
              "              title=\"Convert this dataframe to an interactive table.\"\n",
              "              style=\"display:none;\">\n",
              "        \n",
              "  <svg xmlns=\"http://www.w3.org/2000/svg\" height=\"24px\"viewBox=\"0 0 24 24\"\n",
              "       width=\"24px\">\n",
              "    <path d=\"M0 0h24v24H0V0z\" fill=\"none\"/>\n",
              "    <path d=\"M18.56 5.44l.94 2.06.94-2.06 2.06-.94-2.06-.94-.94-2.06-.94 2.06-2.06.94zm-11 1L8.5 8.5l.94-2.06 2.06-.94-2.06-.94L8.5 2.5l-.94 2.06-2.06.94zm10 10l.94 2.06.94-2.06 2.06-.94-2.06-.94-.94-2.06-.94 2.06-2.06.94z\"/><path d=\"M17.41 7.96l-1.37-1.37c-.4-.4-.92-.59-1.43-.59-.52 0-1.04.2-1.43.59L10.3 9.45l-7.72 7.72c-.78.78-.78 2.05 0 2.83L4 21.41c.39.39.9.59 1.41.59.51 0 1.02-.2 1.41-.59l7.78-7.78 2.81-2.81c.8-.78.8-2.07 0-2.86zM5.41 20L4 18.59l7.72-7.72 1.47 1.35L5.41 20z\"/>\n",
              "  </svg>\n",
              "      </button>\n",
              "      \n",
              "  <style>\n",
              "    .colab-df-container {\n",
              "      display:flex;\n",
              "      flex-wrap:wrap;\n",
              "      gap: 12px;\n",
              "    }\n",
              "\n",
              "    .colab-df-convert {\n",
              "      background-color: #E8F0FE;\n",
              "      border: none;\n",
              "      border-radius: 50%;\n",
              "      cursor: pointer;\n",
              "      display: none;\n",
              "      fill: #1967D2;\n",
              "      height: 32px;\n",
              "      padding: 0 0 0 0;\n",
              "      width: 32px;\n",
              "    }\n",
              "\n",
              "    .colab-df-convert:hover {\n",
              "      background-color: #E2EBFA;\n",
              "      box-shadow: 0px 1px 2px rgba(60, 64, 67, 0.3), 0px 1px 3px 1px rgba(60, 64, 67, 0.15);\n",
              "      fill: #174EA6;\n",
              "    }\n",
              "\n",
              "    [theme=dark] .colab-df-convert {\n",
              "      background-color: #3B4455;\n",
              "      fill: #D2E3FC;\n",
              "    }\n",
              "\n",
              "    [theme=dark] .colab-df-convert:hover {\n",
              "      background-color: #434B5C;\n",
              "      box-shadow: 0px 1px 3px 1px rgba(0, 0, 0, 0.15);\n",
              "      filter: drop-shadow(0px 1px 2px rgba(0, 0, 0, 0.3));\n",
              "      fill: #FFFFFF;\n",
              "    }\n",
              "  </style>\n",
              "\n",
              "      <script>\n",
              "        const buttonEl =\n",
              "          document.querySelector('#df-3a7108ae-94df-4349-ba94-bef9f743a171 button.colab-df-convert');\n",
              "        buttonEl.style.display =\n",
              "          google.colab.kernel.accessAllowed ? 'block' : 'none';\n",
              "\n",
              "        async function convertToInteractive(key) {\n",
              "          const element = document.querySelector('#df-3a7108ae-94df-4349-ba94-bef9f743a171');\n",
              "          const dataTable =\n",
              "            await google.colab.kernel.invokeFunction('convertToInteractive',\n",
              "                                                     [key], {});\n",
              "          if (!dataTable) return;\n",
              "\n",
              "          const docLinkHtml = 'Like what you see? Visit the ' +\n",
              "            '<a target=\"_blank\" href=https://colab.research.google.com/notebooks/data_table.ipynb>data table notebook</a>'\n",
              "            + ' to learn more about interactive tables.';\n",
              "          element.innerHTML = '';\n",
              "          dataTable['output_type'] = 'display_data';\n",
              "          await google.colab.output.renderOutput(dataTable, element);\n",
              "          const docLink = document.createElement('div');\n",
              "          docLink.innerHTML = docLinkHtml;\n",
              "          element.appendChild(docLink);\n",
              "        }\n",
              "      </script>\n",
              "    </div>\n",
              "  </div>\n",
              "  "
            ]
          },
          "metadata": {},
          "execution_count": 18
        }
      ]
    },
    {
      "cell_type": "markdown",
      "source": [
        "Abbriviations: \n",
        "\n",
        "MSA - Marketing Services Agreements\n",
        "\n",
        "OCLTV - Combined loan-to-value\n",
        "\n",
        "LTV - Loan to value\n",
        "\n",
        "PPM - Private Placement Memorandum\n",
        "\n",
        "MIP% - Mortgag Insurance Percentage / MIP- Mortgage Insurance Premium\n",
        "\n",
        "OCLTV - Original Combined Loan to Value\n",
        "\n",
        "DTI - Debt to Income ratio\n",
        "\n",
        "OrigUPB - Original Unpaid principal balance\n",
        "\n",
        "PPM - Prepayment Penalty Mortgage"
      ],
      "metadata": {
        "id": "4npq1Jx-3AVy"
      }
    },
    {
      "cell_type": "code",
      "source": [
        "Loan_data.head()"
      ],
      "metadata": {
        "colab": {
          "base_uri": "https://localhost:8080/",
          "height": 300
        },
        "id": "fk_baSA1-irt",
        "outputId": "1d7f2a60-fb1d-4eb6-b6bb-d8456ba601a9"
      },
      "execution_count": 19,
      "outputs": [
        {
          "output_type": "execute_result",
          "data": {
            "text/plain": [
              "   CreditScore  FirstPaymentDate FirstTimeHomebuyer  MaturityDate    MSA  MIP  \\\n",
              "0            0            199902                  N        202901  16974   25   \n",
              "1            0            199902                  N        202901  19740    0   \n",
              "2            0            199902                  N        202901  29940    0   \n",
              "3            0            199902                  N        202901  31084    0   \n",
              "4            0            199902                  N        202901  35644    0   \n",
              "\n",
              "   Units Occupancy  OCLTV  DTI  ...  PostalCode    LoanSeqNum  LoanPurpose  \\\n",
              "0      1         O     89   27  ...       60400  F199Q1268030            P   \n",
              "1      1         O     73   17  ...       80200  F199Q1015092            N   \n",
              "2      1         O     75   16  ...       66000  F199Q1266886            N   \n",
              "3      1         O     76   14  ...       90700  F199Q1178167            N   \n",
              "4      1         O     78   18  ...        7600  F199Q1178517            N   \n",
              "\n",
              "  OrigLoanTerm NumBorrowers SellerName          ServicerName EverDelinquent  \\\n",
              "0          360            2         FL  WASHINGTONMUTUALBANK              0   \n",
              "1          360            1         FT  CHASEHOMEFINANCELLC               0   \n",
              "2          360            2         FL  WASHINGTONMUTUALBANK              0   \n",
              "3          360            2         GM  GMACMTGECORP                      0   \n",
              "4          360            2         GM  GMACMTGECORP                      0   \n",
              "\n",
              "  MonthsDelinquent MonthsInRepayment  \n",
              "0                0                52  \n",
              "1                0               144  \n",
              "2                0                67  \n",
              "3                0                35  \n",
              "4                0                54  \n",
              "\n",
              "[5 rows x 28 columns]"
            ],
            "text/html": [
              "\n",
              "  <div id=\"df-39b74e65-e01b-4299-9217-8ff2632d921d\">\n",
              "    <div class=\"colab-df-container\">\n",
              "      <div>\n",
              "<style scoped>\n",
              "    .dataframe tbody tr th:only-of-type {\n",
              "        vertical-align: middle;\n",
              "    }\n",
              "\n",
              "    .dataframe tbody tr th {\n",
              "        vertical-align: top;\n",
              "    }\n",
              "\n",
              "    .dataframe thead th {\n",
              "        text-align: right;\n",
              "    }\n",
              "</style>\n",
              "<table border=\"1\" class=\"dataframe\">\n",
              "  <thead>\n",
              "    <tr style=\"text-align: right;\">\n",
              "      <th></th>\n",
              "      <th>CreditScore</th>\n",
              "      <th>FirstPaymentDate</th>\n",
              "      <th>FirstTimeHomebuyer</th>\n",
              "      <th>MaturityDate</th>\n",
              "      <th>MSA</th>\n",
              "      <th>MIP</th>\n",
              "      <th>Units</th>\n",
              "      <th>Occupancy</th>\n",
              "      <th>OCLTV</th>\n",
              "      <th>DTI</th>\n",
              "      <th>...</th>\n",
              "      <th>PostalCode</th>\n",
              "      <th>LoanSeqNum</th>\n",
              "      <th>LoanPurpose</th>\n",
              "      <th>OrigLoanTerm</th>\n",
              "      <th>NumBorrowers</th>\n",
              "      <th>SellerName</th>\n",
              "      <th>ServicerName</th>\n",
              "      <th>EverDelinquent</th>\n",
              "      <th>MonthsDelinquent</th>\n",
              "      <th>MonthsInRepayment</th>\n",
              "    </tr>\n",
              "  </thead>\n",
              "  <tbody>\n",
              "    <tr>\n",
              "      <th>0</th>\n",
              "      <td>0</td>\n",
              "      <td>199902</td>\n",
              "      <td>N</td>\n",
              "      <td>202901</td>\n",
              "      <td>16974</td>\n",
              "      <td>25</td>\n",
              "      <td>1</td>\n",
              "      <td>O</td>\n",
              "      <td>89</td>\n",
              "      <td>27</td>\n",
              "      <td>...</td>\n",
              "      <td>60400</td>\n",
              "      <td>F199Q1268030</td>\n",
              "      <td>P</td>\n",
              "      <td>360</td>\n",
              "      <td>2</td>\n",
              "      <td>FL</td>\n",
              "      <td>WASHINGTONMUTUALBANK</td>\n",
              "      <td>0</td>\n",
              "      <td>0</td>\n",
              "      <td>52</td>\n",
              "    </tr>\n",
              "    <tr>\n",
              "      <th>1</th>\n",
              "      <td>0</td>\n",
              "      <td>199902</td>\n",
              "      <td>N</td>\n",
              "      <td>202901</td>\n",
              "      <td>19740</td>\n",
              "      <td>0</td>\n",
              "      <td>1</td>\n",
              "      <td>O</td>\n",
              "      <td>73</td>\n",
              "      <td>17</td>\n",
              "      <td>...</td>\n",
              "      <td>80200</td>\n",
              "      <td>F199Q1015092</td>\n",
              "      <td>N</td>\n",
              "      <td>360</td>\n",
              "      <td>1</td>\n",
              "      <td>FT</td>\n",
              "      <td>CHASEHOMEFINANCELLC</td>\n",
              "      <td>0</td>\n",
              "      <td>0</td>\n",
              "      <td>144</td>\n",
              "    </tr>\n",
              "    <tr>\n",
              "      <th>2</th>\n",
              "      <td>0</td>\n",
              "      <td>199902</td>\n",
              "      <td>N</td>\n",
              "      <td>202901</td>\n",
              "      <td>29940</td>\n",
              "      <td>0</td>\n",
              "      <td>1</td>\n",
              "      <td>O</td>\n",
              "      <td>75</td>\n",
              "      <td>16</td>\n",
              "      <td>...</td>\n",
              "      <td>66000</td>\n",
              "      <td>F199Q1266886</td>\n",
              "      <td>N</td>\n",
              "      <td>360</td>\n",
              "      <td>2</td>\n",
              "      <td>FL</td>\n",
              "      <td>WASHINGTONMUTUALBANK</td>\n",
              "      <td>0</td>\n",
              "      <td>0</td>\n",
              "      <td>67</td>\n",
              "    </tr>\n",
              "    <tr>\n",
              "      <th>3</th>\n",
              "      <td>0</td>\n",
              "      <td>199902</td>\n",
              "      <td>N</td>\n",
              "      <td>202901</td>\n",
              "      <td>31084</td>\n",
              "      <td>0</td>\n",
              "      <td>1</td>\n",
              "      <td>O</td>\n",
              "      <td>76</td>\n",
              "      <td>14</td>\n",
              "      <td>...</td>\n",
              "      <td>90700</td>\n",
              "      <td>F199Q1178167</td>\n",
              "      <td>N</td>\n",
              "      <td>360</td>\n",
              "      <td>2</td>\n",
              "      <td>GM</td>\n",
              "      <td>GMACMTGECORP</td>\n",
              "      <td>0</td>\n",
              "      <td>0</td>\n",
              "      <td>35</td>\n",
              "    </tr>\n",
              "    <tr>\n",
              "      <th>4</th>\n",
              "      <td>0</td>\n",
              "      <td>199902</td>\n",
              "      <td>N</td>\n",
              "      <td>202901</td>\n",
              "      <td>35644</td>\n",
              "      <td>0</td>\n",
              "      <td>1</td>\n",
              "      <td>O</td>\n",
              "      <td>78</td>\n",
              "      <td>18</td>\n",
              "      <td>...</td>\n",
              "      <td>7600</td>\n",
              "      <td>F199Q1178517</td>\n",
              "      <td>N</td>\n",
              "      <td>360</td>\n",
              "      <td>2</td>\n",
              "      <td>GM</td>\n",
              "      <td>GMACMTGECORP</td>\n",
              "      <td>0</td>\n",
              "      <td>0</td>\n",
              "      <td>54</td>\n",
              "    </tr>\n",
              "  </tbody>\n",
              "</table>\n",
              "<p>5 rows × 28 columns</p>\n",
              "</div>\n",
              "      <button class=\"colab-df-convert\" onclick=\"convertToInteractive('df-39b74e65-e01b-4299-9217-8ff2632d921d')\"\n",
              "              title=\"Convert this dataframe to an interactive table.\"\n",
              "              style=\"display:none;\">\n",
              "        \n",
              "  <svg xmlns=\"http://www.w3.org/2000/svg\" height=\"24px\"viewBox=\"0 0 24 24\"\n",
              "       width=\"24px\">\n",
              "    <path d=\"M0 0h24v24H0V0z\" fill=\"none\"/>\n",
              "    <path d=\"M18.56 5.44l.94 2.06.94-2.06 2.06-.94-2.06-.94-.94-2.06-.94 2.06-2.06.94zm-11 1L8.5 8.5l.94-2.06 2.06-.94-2.06-.94L8.5 2.5l-.94 2.06-2.06.94zm10 10l.94 2.06.94-2.06 2.06-.94-2.06-.94-.94-2.06-.94 2.06-2.06.94z\"/><path d=\"M17.41 7.96l-1.37-1.37c-.4-.4-.92-.59-1.43-.59-.52 0-1.04.2-1.43.59L10.3 9.45l-7.72 7.72c-.78.78-.78 2.05 0 2.83L4 21.41c.39.39.9.59 1.41.59.51 0 1.02-.2 1.41-.59l7.78-7.78 2.81-2.81c.8-.78.8-2.07 0-2.86zM5.41 20L4 18.59l7.72-7.72 1.47 1.35L5.41 20z\"/>\n",
              "  </svg>\n",
              "      </button>\n",
              "      \n",
              "  <style>\n",
              "    .colab-df-container {\n",
              "      display:flex;\n",
              "      flex-wrap:wrap;\n",
              "      gap: 12px;\n",
              "    }\n",
              "\n",
              "    .colab-df-convert {\n",
              "      background-color: #E8F0FE;\n",
              "      border: none;\n",
              "      border-radius: 50%;\n",
              "      cursor: pointer;\n",
              "      display: none;\n",
              "      fill: #1967D2;\n",
              "      height: 32px;\n",
              "      padding: 0 0 0 0;\n",
              "      width: 32px;\n",
              "    }\n",
              "\n",
              "    .colab-df-convert:hover {\n",
              "      background-color: #E2EBFA;\n",
              "      box-shadow: 0px 1px 2px rgba(60, 64, 67, 0.3), 0px 1px 3px 1px rgba(60, 64, 67, 0.15);\n",
              "      fill: #174EA6;\n",
              "    }\n",
              "\n",
              "    [theme=dark] .colab-df-convert {\n",
              "      background-color: #3B4455;\n",
              "      fill: #D2E3FC;\n",
              "    }\n",
              "\n",
              "    [theme=dark] .colab-df-convert:hover {\n",
              "      background-color: #434B5C;\n",
              "      box-shadow: 0px 1px 3px 1px rgba(0, 0, 0, 0.15);\n",
              "      filter: drop-shadow(0px 1px 2px rgba(0, 0, 0, 0.3));\n",
              "      fill: #FFFFFF;\n",
              "    }\n",
              "  </style>\n",
              "\n",
              "      <script>\n",
              "        const buttonEl =\n",
              "          document.querySelector('#df-39b74e65-e01b-4299-9217-8ff2632d921d button.colab-df-convert');\n",
              "        buttonEl.style.display =\n",
              "          google.colab.kernel.accessAllowed ? 'block' : 'none';\n",
              "\n",
              "        async function convertToInteractive(key) {\n",
              "          const element = document.querySelector('#df-39b74e65-e01b-4299-9217-8ff2632d921d');\n",
              "          const dataTable =\n",
              "            await google.colab.kernel.invokeFunction('convertToInteractive',\n",
              "                                                     [key], {});\n",
              "          if (!dataTable) return;\n",
              "\n",
              "          const docLinkHtml = 'Like what you see? Visit the ' +\n",
              "            '<a target=\"_blank\" href=https://colab.research.google.com/notebooks/data_table.ipynb>data table notebook</a>'\n",
              "            + ' to learn more about interactive tables.';\n",
              "          element.innerHTML = '';\n",
              "          dataTable['output_type'] = 'display_data';\n",
              "          await google.colab.output.renderOutput(dataTable, element);\n",
              "          const docLink = document.createElement('div');\n",
              "          docLink.innerHTML = docLinkHtml;\n",
              "          element.appendChild(docLink);\n",
              "        }\n",
              "      </script>\n",
              "    </div>\n",
              "  </div>\n",
              "  "
            ]
          },
          "metadata": {},
          "execution_count": 19
        }
      ]
    },
    {
      "cell_type": "markdown",
      "source": [
        "**Borrower Financial Information:** Credit Score, First_Time_Homebuyer_Flag, original debt-to-income (DTI) ratio, number of borrowers, occupancy status (primary residence, investment or second home)\n",
        "\n",
        "**Loan Information:** First_Payment (date), Maturity_Date, MI_pert (% mortgage insured), original LTV (loan-to-value) ratio, original combined LTV ratio, original interest rate, original unpaid balance, PPM (prepayment penalty mortgage) flag, loan purpose (purchase vs refinance), original loan term, super-conforming flag\n",
        "\n",
        "**Property information:** number of units, property type (condo, single-family home, etc.)\n",
        "\n",
        "**Location: **MSA_Code (Metropolitan statistical area), Property_state, postal_code\n",
        "\n",
        "**Seller/Servicer information:** channel (retail, broker, etc.), seller name, servicer name"
      ],
      "metadata": {
        "id": "Ix4KskqL5kRm"
      }
    },
    {
      "cell_type": "code",
      "source": [
        "Loan_data.tail()"
      ],
      "metadata": {
        "colab": {
          "base_uri": "https://localhost:8080/",
          "height": 386
        },
        "id": "1vxyUnPP-2uF",
        "outputId": "a17e86be-bd3c-4a4c-f915-6169b530219f"
      },
      "execution_count": 20,
      "outputs": [
        {
          "output_type": "execute_result",
          "data": {
            "text/plain": [
              "        CreditScore  FirstPaymentDate FirstTimeHomebuyer  MaturityDate    MSA  \\\n",
              "291446          839            199903                  N        202902  37964   \n",
              "291447          840            200210                  N        202904  35644   \n",
              "291448          840            200304                  N        202904  42044   \n",
              "291449          845            199904                  N        202903  37964   \n",
              "291450          849            199903                  N        202902  37964   \n",
              "\n",
              "        MIP  Units Occupancy  OCLTV  DTI  ...  PostalCode    LoanSeqNum  \\\n",
              "291446    0      1         O     60   32  ...       19400  F199Q1220925   \n",
              "291447    0      1         O     73    0  ...       11600  F199Q1401332   \n",
              "291448    0      1         O     73   31  ...       92800  F199Q1401282   \n",
              "291449    0      1         I     80   54  ...       19300  F199Q1220924   \n",
              "291450    0      1         O     47   29  ...       18900  F199Q1220923   \n",
              "\n",
              "        LoanPurpose OrigLoanTerm NumBorrowers SellerName  \\\n",
              "291446            N          360            2         Ot   \n",
              "291447            P          319            2         Ot   \n",
              "291448            N          313            1         Ot   \n",
              "291449            P          360            2         Ot   \n",
              "291450            P          360            2         Ot   \n",
              "\n",
              "                ServicerName EverDelinquent MonthsDelinquent MonthsInRepayment  \n",
              "291446  Other servicers                   0                0                12  \n",
              "291447  Other servicers                   0                0                53  \n",
              "291448  Other servicers                   0                0                38  \n",
              "291449  Other servicers                   0                0                32  \n",
              "291450  Other servicers                   0                0                29  \n",
              "\n",
              "[5 rows x 28 columns]"
            ],
            "text/html": [
              "\n",
              "  <div id=\"df-a45ee2cb-406c-47c2-aad7-56b5162c4486\">\n",
              "    <div class=\"colab-df-container\">\n",
              "      <div>\n",
              "<style scoped>\n",
              "    .dataframe tbody tr th:only-of-type {\n",
              "        vertical-align: middle;\n",
              "    }\n",
              "\n",
              "    .dataframe tbody tr th {\n",
              "        vertical-align: top;\n",
              "    }\n",
              "\n",
              "    .dataframe thead th {\n",
              "        text-align: right;\n",
              "    }\n",
              "</style>\n",
              "<table border=\"1\" class=\"dataframe\">\n",
              "  <thead>\n",
              "    <tr style=\"text-align: right;\">\n",
              "      <th></th>\n",
              "      <th>CreditScore</th>\n",
              "      <th>FirstPaymentDate</th>\n",
              "      <th>FirstTimeHomebuyer</th>\n",
              "      <th>MaturityDate</th>\n",
              "      <th>MSA</th>\n",
              "      <th>MIP</th>\n",
              "      <th>Units</th>\n",
              "      <th>Occupancy</th>\n",
              "      <th>OCLTV</th>\n",
              "      <th>DTI</th>\n",
              "      <th>...</th>\n",
              "      <th>PostalCode</th>\n",
              "      <th>LoanSeqNum</th>\n",
              "      <th>LoanPurpose</th>\n",
              "      <th>OrigLoanTerm</th>\n",
              "      <th>NumBorrowers</th>\n",
              "      <th>SellerName</th>\n",
              "      <th>ServicerName</th>\n",
              "      <th>EverDelinquent</th>\n",
              "      <th>MonthsDelinquent</th>\n",
              "      <th>MonthsInRepayment</th>\n",
              "    </tr>\n",
              "  </thead>\n",
              "  <tbody>\n",
              "    <tr>\n",
              "      <th>291446</th>\n",
              "      <td>839</td>\n",
              "      <td>199903</td>\n",
              "      <td>N</td>\n",
              "      <td>202902</td>\n",
              "      <td>37964</td>\n",
              "      <td>0</td>\n",
              "      <td>1</td>\n",
              "      <td>O</td>\n",
              "      <td>60</td>\n",
              "      <td>32</td>\n",
              "      <td>...</td>\n",
              "      <td>19400</td>\n",
              "      <td>F199Q1220925</td>\n",
              "      <td>N</td>\n",
              "      <td>360</td>\n",
              "      <td>2</td>\n",
              "      <td>Ot</td>\n",
              "      <td>Other servicers</td>\n",
              "      <td>0</td>\n",
              "      <td>0</td>\n",
              "      <td>12</td>\n",
              "    </tr>\n",
              "    <tr>\n",
              "      <th>291447</th>\n",
              "      <td>840</td>\n",
              "      <td>200210</td>\n",
              "      <td>N</td>\n",
              "      <td>202904</td>\n",
              "      <td>35644</td>\n",
              "      <td>0</td>\n",
              "      <td>1</td>\n",
              "      <td>O</td>\n",
              "      <td>73</td>\n",
              "      <td>0</td>\n",
              "      <td>...</td>\n",
              "      <td>11600</td>\n",
              "      <td>F199Q1401332</td>\n",
              "      <td>P</td>\n",
              "      <td>319</td>\n",
              "      <td>2</td>\n",
              "      <td>Ot</td>\n",
              "      <td>Other servicers</td>\n",
              "      <td>0</td>\n",
              "      <td>0</td>\n",
              "      <td>53</td>\n",
              "    </tr>\n",
              "    <tr>\n",
              "      <th>291448</th>\n",
              "      <td>840</td>\n",
              "      <td>200304</td>\n",
              "      <td>N</td>\n",
              "      <td>202904</td>\n",
              "      <td>42044</td>\n",
              "      <td>0</td>\n",
              "      <td>1</td>\n",
              "      <td>O</td>\n",
              "      <td>73</td>\n",
              "      <td>31</td>\n",
              "      <td>...</td>\n",
              "      <td>92800</td>\n",
              "      <td>F199Q1401282</td>\n",
              "      <td>N</td>\n",
              "      <td>313</td>\n",
              "      <td>1</td>\n",
              "      <td>Ot</td>\n",
              "      <td>Other servicers</td>\n",
              "      <td>0</td>\n",
              "      <td>0</td>\n",
              "      <td>38</td>\n",
              "    </tr>\n",
              "    <tr>\n",
              "      <th>291449</th>\n",
              "      <td>845</td>\n",
              "      <td>199904</td>\n",
              "      <td>N</td>\n",
              "      <td>202903</td>\n",
              "      <td>37964</td>\n",
              "      <td>0</td>\n",
              "      <td>1</td>\n",
              "      <td>I</td>\n",
              "      <td>80</td>\n",
              "      <td>54</td>\n",
              "      <td>...</td>\n",
              "      <td>19300</td>\n",
              "      <td>F199Q1220924</td>\n",
              "      <td>P</td>\n",
              "      <td>360</td>\n",
              "      <td>2</td>\n",
              "      <td>Ot</td>\n",
              "      <td>Other servicers</td>\n",
              "      <td>0</td>\n",
              "      <td>0</td>\n",
              "      <td>32</td>\n",
              "    </tr>\n",
              "    <tr>\n",
              "      <th>291450</th>\n",
              "      <td>849</td>\n",
              "      <td>199903</td>\n",
              "      <td>N</td>\n",
              "      <td>202902</td>\n",
              "      <td>37964</td>\n",
              "      <td>0</td>\n",
              "      <td>1</td>\n",
              "      <td>O</td>\n",
              "      <td>47</td>\n",
              "      <td>29</td>\n",
              "      <td>...</td>\n",
              "      <td>18900</td>\n",
              "      <td>F199Q1220923</td>\n",
              "      <td>P</td>\n",
              "      <td>360</td>\n",
              "      <td>2</td>\n",
              "      <td>Ot</td>\n",
              "      <td>Other servicers</td>\n",
              "      <td>0</td>\n",
              "      <td>0</td>\n",
              "      <td>29</td>\n",
              "    </tr>\n",
              "  </tbody>\n",
              "</table>\n",
              "<p>5 rows × 28 columns</p>\n",
              "</div>\n",
              "      <button class=\"colab-df-convert\" onclick=\"convertToInteractive('df-a45ee2cb-406c-47c2-aad7-56b5162c4486')\"\n",
              "              title=\"Convert this dataframe to an interactive table.\"\n",
              "              style=\"display:none;\">\n",
              "        \n",
              "  <svg xmlns=\"http://www.w3.org/2000/svg\" height=\"24px\"viewBox=\"0 0 24 24\"\n",
              "       width=\"24px\">\n",
              "    <path d=\"M0 0h24v24H0V0z\" fill=\"none\"/>\n",
              "    <path d=\"M18.56 5.44l.94 2.06.94-2.06 2.06-.94-2.06-.94-.94-2.06-.94 2.06-2.06.94zm-11 1L8.5 8.5l.94-2.06 2.06-.94-2.06-.94L8.5 2.5l-.94 2.06-2.06.94zm10 10l.94 2.06.94-2.06 2.06-.94-2.06-.94-.94-2.06-.94 2.06-2.06.94z\"/><path d=\"M17.41 7.96l-1.37-1.37c-.4-.4-.92-.59-1.43-.59-.52 0-1.04.2-1.43.59L10.3 9.45l-7.72 7.72c-.78.78-.78 2.05 0 2.83L4 21.41c.39.39.9.59 1.41.59.51 0 1.02-.2 1.41-.59l7.78-7.78 2.81-2.81c.8-.78.8-2.07 0-2.86zM5.41 20L4 18.59l7.72-7.72 1.47 1.35L5.41 20z\"/>\n",
              "  </svg>\n",
              "      </button>\n",
              "      \n",
              "  <style>\n",
              "    .colab-df-container {\n",
              "      display:flex;\n",
              "      flex-wrap:wrap;\n",
              "      gap: 12px;\n",
              "    }\n",
              "\n",
              "    .colab-df-convert {\n",
              "      background-color: #E8F0FE;\n",
              "      border: none;\n",
              "      border-radius: 50%;\n",
              "      cursor: pointer;\n",
              "      display: none;\n",
              "      fill: #1967D2;\n",
              "      height: 32px;\n",
              "      padding: 0 0 0 0;\n",
              "      width: 32px;\n",
              "    }\n",
              "\n",
              "    .colab-df-convert:hover {\n",
              "      background-color: #E2EBFA;\n",
              "      box-shadow: 0px 1px 2px rgba(60, 64, 67, 0.3), 0px 1px 3px 1px rgba(60, 64, 67, 0.15);\n",
              "      fill: #174EA6;\n",
              "    }\n",
              "\n",
              "    [theme=dark] .colab-df-convert {\n",
              "      background-color: #3B4455;\n",
              "      fill: #D2E3FC;\n",
              "    }\n",
              "\n",
              "    [theme=dark] .colab-df-convert:hover {\n",
              "      background-color: #434B5C;\n",
              "      box-shadow: 0px 1px 3px 1px rgba(0, 0, 0, 0.15);\n",
              "      filter: drop-shadow(0px 1px 2px rgba(0, 0, 0, 0.3));\n",
              "      fill: #FFFFFF;\n",
              "    }\n",
              "  </style>\n",
              "\n",
              "      <script>\n",
              "        const buttonEl =\n",
              "          document.querySelector('#df-a45ee2cb-406c-47c2-aad7-56b5162c4486 button.colab-df-convert');\n",
              "        buttonEl.style.display =\n",
              "          google.colab.kernel.accessAllowed ? 'block' : 'none';\n",
              "\n",
              "        async function convertToInteractive(key) {\n",
              "          const element = document.querySelector('#df-a45ee2cb-406c-47c2-aad7-56b5162c4486');\n",
              "          const dataTable =\n",
              "            await google.colab.kernel.invokeFunction('convertToInteractive',\n",
              "                                                     [key], {});\n",
              "          if (!dataTable) return;\n",
              "\n",
              "          const docLinkHtml = 'Like what you see? Visit the ' +\n",
              "            '<a target=\"_blank\" href=https://colab.research.google.com/notebooks/data_table.ipynb>data table notebook</a>'\n",
              "            + ' to learn more about interactive tables.';\n",
              "          element.innerHTML = '';\n",
              "          dataTable['output_type'] = 'display_data';\n",
              "          await google.colab.output.renderOutput(dataTable, element);\n",
              "          const docLink = document.createElement('div');\n",
              "          docLink.innerHTML = docLinkHtml;\n",
              "          element.appendChild(docLink);\n",
              "        }\n",
              "      </script>\n",
              "    </div>\n",
              "  </div>\n",
              "  "
            ]
          },
          "metadata": {},
          "execution_count": 20
        }
      ]
    },
    {
      "cell_type": "markdown",
      "source": [
        "Unit refres to number of properties morrtgage\n",
        "\n",
        "Occupancy values refer to O:owner ,Occupaied ,I:investment Peoperty ,S:secondary home\n",
        "\n",
        "Channel values refer to  R:retail, B:broker, C:correspondent\n",
        "\n",
        "Product Type value FRM:fixed rate mortgages\n"
      ],
      "metadata": {
        "id": "uRRfM6jnjL3V"
      }
    },
    {
      "cell_type": "code",
      "source": [
        "Loan_data.info()"
      ],
      "metadata": {
        "colab": {
          "base_uri": "https://localhost:8080/"
        },
        "id": "IfDpbvUT_-Xq",
        "outputId": "6679aaaa-39ea-4d43-d9fc-f673bbf53fc6"
      },
      "execution_count": 21,
      "outputs": [
        {
          "output_type": "stream",
          "name": "stdout",
          "text": [
            "<class 'pandas.core.frame.DataFrame'>\n",
            "RangeIndex: 291451 entries, 0 to 291450\n",
            "Data columns (total 28 columns):\n",
            " #   Column              Non-Null Count   Dtype  \n",
            "---  ------              --------------   -----  \n",
            " 0   CreditScore         291451 non-null  int64  \n",
            " 1   FirstPaymentDate    291451 non-null  int64  \n",
            " 2   FirstTimeHomebuyer  291451 non-null  object \n",
            " 3   MaturityDate        291451 non-null  int64  \n",
            " 4   MSA                 291451 non-null  object \n",
            " 5   MIP                 291451 non-null  int64  \n",
            " 6   Units               291451 non-null  int64  \n",
            " 7   Occupancy           291451 non-null  object \n",
            " 8   OCLTV               291451 non-null  int64  \n",
            " 9   DTI                 291451 non-null  int64  \n",
            " 10  OrigUPB             291451 non-null  int64  \n",
            " 11  LTV                 291451 non-null  int64  \n",
            " 12  OrigInterestRate    291451 non-null  float64\n",
            " 13  Channel             291451 non-null  object \n",
            " 14  PPM                 291451 non-null  object \n",
            " 15  ProductType         291451 non-null  object \n",
            " 16  PropertyState       291451 non-null  object \n",
            " 17  PropertyType        291451 non-null  object \n",
            " 18  PostalCode          291451 non-null  object \n",
            " 19  LoanSeqNum          291451 non-null  object \n",
            " 20  LoanPurpose         291451 non-null  object \n",
            " 21  OrigLoanTerm        291451 non-null  int64  \n",
            " 22  NumBorrowers        291451 non-null  object \n",
            " 23  SellerName          266457 non-null  object \n",
            " 24  ServicerName        291451 non-null  object \n",
            " 25  EverDelinquent      291451 non-null  int64  \n",
            " 26  MonthsDelinquent    291451 non-null  int64  \n",
            " 27  MonthsInRepayment   291451 non-null  int64  \n",
            "dtypes: float64(1), int64(13), object(14)\n",
            "memory usage: 62.3+ MB\n"
          ]
        }
      ]
    },
    {
      "cell_type": "markdown",
      "source": [
        "Processing Data"
      ],
      "metadata": {
        "id": "xeTKLdzcZUvY"
      }
    },
    {
      "cell_type": "code",
      "source": [
        "#find/count null values\n",
        "missing_values=Loan_data.isnull().sum()\n",
        "print(missing_values)"
      ],
      "metadata": {
        "colab": {
          "base_uri": "https://localhost:8080/"
        },
        "id": "pik5v7G2AFTf",
        "outputId": "8dcdb30a-b2ee-439d-c9fc-d9862562d90b"
      },
      "execution_count": 22,
      "outputs": [
        {
          "output_type": "stream",
          "name": "stdout",
          "text": [
            "CreditScore               0\n",
            "FirstPaymentDate          0\n",
            "FirstTimeHomebuyer        0\n",
            "MaturityDate              0\n",
            "MSA                       0\n",
            "MIP                       0\n",
            "Units                     0\n",
            "Occupancy                 0\n",
            "OCLTV                     0\n",
            "DTI                       0\n",
            "OrigUPB                   0\n",
            "LTV                       0\n",
            "OrigInterestRate          0\n",
            "Channel                   0\n",
            "PPM                       0\n",
            "ProductType               0\n",
            "PropertyState             0\n",
            "PropertyType              0\n",
            "PostalCode                0\n",
            "LoanSeqNum                0\n",
            "LoanPurpose               0\n",
            "OrigLoanTerm              0\n",
            "NumBorrowers              0\n",
            "SellerName            24994\n",
            "ServicerName              0\n",
            "EverDelinquent            0\n",
            "MonthsDelinquent          0\n",
            "MonthsInRepayment         0\n",
            "dtype: int64\n"
          ]
        }
      ]
    },
    {
      "cell_type": "code",
      "source": [
        "#bar plot showing where is missing values\n",
        "msno.bar(Loan_data)"
      ],
      "metadata": {
        "id": "kSWIQZX5Atcj",
        "colab": {
          "base_uri": "https://localhost:8080/",
          "height": 499
        },
        "outputId": "8989fb2a-75e6-4f31-9660-8e1aa1f4a27f"
      },
      "execution_count": 23,
      "outputs": [
        {
          "output_type": "execute_result",
          "data": {
            "text/plain": [
              "<matplotlib.axes._subplots.AxesSubplot at 0x7f5dfa0b3d50>"
            ]
          },
          "metadata": {},
          "execution_count": 23
        },
        {
          "output_type": "display_data",
          "data": {
            "text/plain": [
              "<Figure size 1800x720 with 3 Axes>"
            ],
            "image/png": "[encoded data removed]"
          },
          "metadata": {
            "needs_background": "light"
          }
        }
      ]
    },
    {
      "cell_type": "code",
      "source": [
        "#plot shows position of missing values\n",
        "msno.matrix(Loan_data)"
      ],
      "metadata": {
        "colab": {
          "base_uri": "https://localhost:8080/",
          "height": 475
        },
        "id": "b_Zwzt1yQJdR",
        "outputId": "3a62c9d2-c557-4d3f-a5dd-c30fccf6601a"
      },
      "execution_count": 24,
      "outputs": [
        {
          "output_type": "execute_result",
          "data": {
            "text/plain": [
              "<matplotlib.axes._subplots.AxesSubplot at 0x7f5df5916a10>"
            ]
          },
          "metadata": {},
          "execution_count": 24
        },
        {
          "output_type": "display_data",
          "data": {
            "text/plain": [
              "<Figure size 1800x720 with 2 Axes>"
            ],
            "image/png": "[encoded data removed]"
          },
          "metadata": {
            "needs_background": "light"
          }
        }
      ]
    },
    {
      "cell_type": "code",
      "source": [
        "#heatmap shows how miising value is related\n",
        "msno.heatmap(Loan_data)"
      ],
      "metadata": {
        "colab": {
          "base_uri": "https://localhost:8080/",
          "height": 741
        },
        "id": "O9Ui7KhmQZD2",
        "outputId": "aaad7b99-c49e-4f31-e1da-712f19224989"
      },
      "execution_count": 33,
      "outputs": [
        {
          "output_type": "stream",
          "name": "stderr",
          "text": [
            "/usr/local/lib/python3.7/dist-packages/seaborn/matrix.py:305: UserWarning: Attempting to set identical bottom == top == 0 results in singular transformations; automatically expanding.\n",
            "  ax.set(xlim=(0, self.data.shape[1]), ylim=(0, self.data.shape[0]))\n",
            "/usr/local/lib/python3.7/dist-packages/seaborn/matrix.py:305: UserWarning: Attempting to set identical left == right == 0 results in singular transformations; automatically expanding.\n",
            "  ax.set(xlim=(0, self.data.shape[1]), ylim=(0, self.data.shape[0]))\n"
          ]
        },
        {
          "output_type": "execute_result",
          "data": {
            "text/plain": [
              "<matplotlib.axes._subplots.AxesSubplot at 0x7f5dfcc86890>"
            ]
          },
          "metadata": {},
          "execution_count": 33
        },
        {
          "output_type": "display_data",
          "data": {
            "text/plain": [
              "<Figure size 1440x864 with 2 Axes>"
            ],
            "image/png": "[encoded data removed]"
          },
          "metadata": {
            "needs_background": "light"
          }
        }
      ]
    },
    {
      "cell_type": "code",
      "source": [
        "#total missing values\n",
        "total_missing_values= missing_values.sum()\n",
        "print(\"total missing values= \", total_missing_values)\n",
        "\n",
        "#count total cells\n",
        "total_cells = np.product(Loan_data.shape)\n",
        "print(\"total number of cells= \", total_cells)\n",
        "\n",
        "#percentage of total missing values\n",
        "total_missing_values_percentage= (total_missing_values/total_cells)*100\n",
        "print(\"percent of total missing values= %\" ,total_missing_values_percentage)"
      ],
      "metadata": {
        "colab": {
          "base_uri": "https://localhost:8080/"
        },
        "id": "b4hiEdWNSqso",
        "outputId": "3c1a834d-54d0-4578-8bc7-1a5a7a6530d9"
      },
      "execution_count": 27,
      "outputs": [
        {
          "output_type": "stream",
          "name": "stdout",
          "text": [
            "total missing values=  24994\n",
            "total number of cells=  8160628\n",
            "percent of total missing values= % 0.3062754484091175\n"
          ]
        }
      ]
    },
    {
      "cell_type": "code",
      "source": [
        "#drop seller name\n",
        "Loan_data.drop('SellerName', axis = 1, inplace = True)"
      ],
      "metadata": {
        "id": "jTuux5iOg41m"
      },
      "execution_count": 28,
      "outputs": []
    },
    {
      "cell_type": "code",
      "source": [
        "#check null values again\n",
        "Loan_data.isnull().sum()"
      ],
      "metadata": {
        "colab": {
          "base_uri": "https://localhost:8080/"
        },
        "id": "uC7Xbg4ChF1C",
        "outputId": "80e11476-81dd-4007-e159-29255b1f6bc7"
      },
      "execution_count": 34,
      "outputs": [
        {
          "output_type": "execute_result",
          "data": {
            "text/plain": [
              "CreditScore           0\n",
              "FirstPaymentDate      0\n",
              "FirstTimeHomebuyer    0\n",
              "MaturityDate          0\n",
              "MSA                   0\n",
              "MIP                   0\n",
              "Units                 0\n",
              "Occupancy             0\n",
              "OCLTV                 0\n",
              "DTI                   0\n",
              "OrigUPB               0\n",
              "LTV                   0\n",
              "OrigInterestRate      0\n",
              "Channel               0\n",
              "PPM                   0\n",
              "ProductType           0\n",
              "PropertyState         0\n",
              "PropertyType          0\n",
              "PostalCode            0\n",
              "LoanSeqNum            0\n",
              "LoanPurpose           0\n",
              "OrigLoanTerm          0\n",
              "NumBorrowers          0\n",
              "ServicerName          0\n",
              "EverDelinquent        0\n",
              "MonthsDelinquent      0\n",
              "MonthsInRepayment     0\n",
              "dtype: int64"
            ]
          },
          "metadata": {},
          "execution_count": 34
        }
      ]
    },
    {
      "cell_type": "code",
      "source": [
        "#filter column by dtype\n",
        "Loan_data.select_dtypes(include='object').columns"
      ],
      "metadata": {
        "colab": {
          "base_uri": "https://localhost:8080/"
        },
        "id": "MA9BkWz7pwsg",
        "outputId": "927b70b9-96b7-4a8c-b867-697076ef127f"
      },
      "execution_count": 41,
      "outputs": [
        {
          "output_type": "execute_result",
          "data": {
            "text/plain": [
              "Index(['FirstTimeHomebuyer', 'MSA', 'Occupancy', 'Channel', 'PPM',\n",
              "       'ProductType', 'PropertyState', 'PropertyType', 'PostalCode',\n",
              "       'LoanSeqNum', 'LoanPurpose', 'NumBorrowers', 'ServicerName'],\n",
              "      dtype='object')"
            ]
          },
          "metadata": {},
          "execution_count": 41
        }
      ]
    },
    {
      "cell_type": "code",
      "source": [
        "Loan_data.select_dtypes(include='int64').columns"
      ],
      "metadata": {
        "colab": {
          "base_uri": "https://localhost:8080/"
        },
        "id": "QL_sWkRIr99D",
        "outputId": "03565803-9117-4def-b7ac-a6059d200977"
      },
      "execution_count": 44,
      "outputs": [
        {
          "output_type": "execute_result",
          "data": {
            "text/plain": [
              "Index(['CreditScore', 'FirstPaymentDate', 'MaturityDate', 'MIP', 'Units',\n",
              "       'OCLTV', 'DTI', 'OrigUPB', 'LTV', 'OrigLoanTerm', 'EverDelinquent',\n",
              "       'MonthsDelinquent', 'MonthsInRepayment'],\n",
              "      dtype='object')"
            ]
          },
          "metadata": {},
          "execution_count": 44
        }
      ]
    },
    {
      "cell_type": "code",
      "source": [
        "# convert the column contaims Date to datetime format\n",
        "Loan_data['FirstPaymentDate']= pd.to_datetime(Loan_data['FirstPaymentDate'])\n",
        "\n",
        "Loan_data['MaturityDate']= pd.to_datetime(Loan_data['MaturityDate'])\n"
      ],
      "metadata": {
        "id": "-Rb5LE4Zrz_b"
      },
      "execution_count": 50,
      "outputs": []
    },
    {
      "cell_type": "code",
      "source": [
        "Loan_data['FirstTimeHomebuyer'].unique()"
      ],
      "metadata": {
        "colab": {
          "base_uri": "https://localhost:8080/"
        },
        "id": "9IzyxzQSzhv2",
        "outputId": "003d6a8b-72d2-4cfa-ff8b-85d7e2f1b441"
      },
      "execution_count": 53,
      "outputs": [
        {
          "output_type": "execute_result",
          "data": {
            "text/plain": [
              "array(['N', 'X', 'Y'], dtype=object)"
            ]
          },
          "metadata": {},
          "execution_count": 53
        }
      ]
    },
    {
      "cell_type": "code",
      "source": [
        "plt.figure(figsize=(5, 5))\n",
        "sns.countplot(Loan_data.FirstTimeHomebuyer)"
      ],
      "metadata": {
        "colab": {
          "base_uri": "https://localhost:8080/",
          "height": 406
        },
        "id": "IuqIeb4Z0vLW",
        "outputId": "88a3e589-76c1-4bec-bd31-b34a81a31055"
      },
      "execution_count": 55,
      "outputs": [
        {
          "output_type": "stream",
          "name": "stderr",
          "text": [
            "/usr/local/lib/python3.7/dist-packages/seaborn/_decorators.py:43: FutureWarning: Pass the following variable as a keyword arg: x. From version 0.12, the only valid positional argument will be `data`, and passing other arguments without an explicit keyword will result in an error or misinterpretation.\n",
            "  FutureWarning\n"
          ]
        },
        {
          "output_type": "execute_result",
          "data": {
            "text/plain": [
              "<matplotlib.axes._subplots.AxesSubplot at 0x7f5df57e2810>"
            ]
          },
          "metadata": {},
          "execution_count": 55
        },
        {
          "output_type": "display_data",
          "data": {
            "text/plain": [
              "<Figure size 360x360 with 1 Axes>"
            ],
            "image/png": "[encoded data removed]"
          },
          "metadata": {
            "needs_background": "light"
          }
        }
      ]
    }
  ]
}