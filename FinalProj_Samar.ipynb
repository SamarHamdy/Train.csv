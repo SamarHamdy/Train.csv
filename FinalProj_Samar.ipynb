{
  "nbformat": 4,
  "nbformat_minor": 0,
  "metadata": {
    "colab": {
      "name": "FinalProj Samar.ipynb",
      "provenance": [],
      "collapsed_sections": [],
      "authorship_tag": "ABX9TyMqQR4WgkcJv5wY+qMDr7EP",
      "include_colab_link": true
    },
    "kernelspec": {
      "name": "python3",
      "display_name": "Python 3"
    },
    "language_info": {
      "name": "python"
    }
  },
  "cells": [
    {
      "cell_type": "markdown",
      "metadata": {
        "id": "view-in-github",
        "colab_type": "text"
      },
      "source": [
        "<a href=\"https://colab.research.google.com/github/SamarHamdy/Train.csv/blob/main/FinalProj_Samar.ipynb\" target=\"_parent\"><img src=\"https://colab.research.google.com/assets/colab-badge.svg\" alt=\"Open In Colab\"/></a>"
      ]
    },
    {
      "cell_type": "code",
      "execution_count": 1,
      "metadata": {
        "id": "DLT83EyG4XTv"
      },
      "outputs": [],
      "source": [
        "import numpy as np\n",
        "import pandas as pd\n",
        "import matplotlib as mtl\n",
        "import matplotlib.pyplot as plt\n",
        "import seaborn as sns\n",
        "from sklearn.model_selection import train_test_split\n",
        "from sklearn import svm\n",
        "from sklearn.metrics import accuracy_score\n",
        "import missingno as msno\n",
        "%matplotlib inline"
      ]
    },
    {
      "cell_type": "code",
      "source": [
        "filename='LoanExport.csv'\n",
        "Loan_data= pd.read_csv(filename)"
      ],
      "metadata": {
        "colab": {
          "base_uri": "https://localhost:8080/"
        },
        "id": "hiOfE-rrD3Jh",
        "outputId": "e3818183-73cb-4e78-fe16-873da97f8d72"
      },
      "execution_count": 2,
      "outputs": [
        {
          "output_type": "stream",
          "name": "stderr",
          "text": [
            "/usr/local/lib/python3.7/dist-packages/IPython/core/interactiveshell.py:2882: DtypeWarning: Columns (18,22) have mixed types.Specify dtype option on import or set low_memory=False.\n",
            "  exec(code_obj, self.user_global_ns, self.user_ns)\n"
          ]
        }
      ]
    },
    {
      "cell_type": "code",
      "source": [
        "type(Loan_data)"
      ],
      "metadata": {
        "colab": {
          "base_uri": "https://localhost:8080/"
        },
        "id": "hwIPjFfogYBX",
        "outputId": "18bf27ef-d069-4125-d4e7-2c9f9d6d4d08"
      },
      "execution_count": 3,
      "outputs": [
        {
          "output_type": "execute_result",
          "data": {
            "text/plain": [
              "pandas.core.frame.DataFrame"
            ]
          },
          "metadata": {},
          "execution_count": 3
        }
      ]
    },
    {
      "cell_type": "code",
      "source": [
        "print(Loan_data.shape)"
      ],
      "metadata": {
        "colab": {
          "base_uri": "https://localhost:8080/"
        },
        "id": "3B072bNS7MCn",
        "outputId": "bbfa6159-01e5-4b0f-9b1e-ab1fb55a852f"
      },
      "execution_count": 4,
      "outputs": [
        {
          "output_type": "stream",
          "name": "stdout",
          "text": [
            "(33087, 28)\n"
          ]
        }
      ]
    },
    {
      "cell_type": "code",
      "source": [
        "print(Loan_data.columns)"
      ],
      "metadata": {
        "colab": {
          "base_uri": "https://localhost:8080/"
        },
        "id": "9_A4j13D7lAA",
        "outputId": "8faf485d-958c-4899-bdfa-e12702796049"
      },
      "execution_count": 5,
      "outputs": [
        {
          "output_type": "stream",
          "name": "stdout",
          "text": [
            "Index(['CreditScore', 'FirstPaymentDate', 'FirstTimeHomebuyer', 'MaturityDate',\n",
            "       'MSA', 'MIP', 'Units', 'Occupancy', 'OCLTV', 'DTI', 'OrigUPB', 'LTV',\n",
            "       'OrigInterestRate', 'Channel', 'PPM', 'ProductType', 'PropertyState',\n",
            "       'PropertyType', 'PostalCode', 'LoanSeqNum', 'LoanPurpose',\n",
            "       'OrigLoanTerm', 'NumBorrowers', 'SellerName', 'ServicerName',\n",
            "       'EverDelinquent', 'MonthsDelinquent', 'MonthsInRepayment'],\n",
            "      dtype='object')\n"
          ]
        }
      ]
    },
    {
      "cell_type": "code",
      "source": [
        "Loan_data.dtypes"
      ],
      "metadata": {
        "colab": {
          "base_uri": "https://localhost:8080/"
        },
        "id": "9O1G92L476yx",
        "outputId": "6f160b0f-08d6-4198-db56-9d642aac6794"
      },
      "execution_count": 6,
      "outputs": [
        {
          "output_type": "execute_result",
          "data": {
            "text/plain": [
              "CreditScore             int64\n",
              "FirstPaymentDate        int64\n",
              "FirstTimeHomebuyer     object\n",
              "MaturityDate            int64\n",
              "MSA                    object\n",
              "MIP                     int64\n",
              "Units                   int64\n",
              "Occupancy              object\n",
              "OCLTV                   int64\n",
              "DTI                     int64\n",
              "OrigUPB                 int64\n",
              "LTV                     int64\n",
              "OrigInterestRate      float64\n",
              "Channel                object\n",
              "PPM                    object\n",
              "ProductType            object\n",
              "PropertyState          object\n",
              "PropertyType           object\n",
              "PostalCode             object\n",
              "LoanSeqNum             object\n",
              "LoanPurpose            object\n",
              "OrigLoanTerm          float64\n",
              "NumBorrowers           object\n",
              "SellerName             object\n",
              "ServicerName           object\n",
              "EverDelinquent        float64\n",
              "MonthsDelinquent      float64\n",
              "MonthsInRepayment     float64\n",
              "dtype: object"
            ]
          },
          "metadata": {},
          "execution_count": 6
        }
      ]
    },
    {
      "cell_type": "code",
      "source": [
        "#count data types\n",
        "Loan_data.dtypes.value_counts()"
      ],
      "metadata": {
        "colab": {
          "base_uri": "https://localhost:8080/"
        },
        "id": "XUpJzJUtGKUy",
        "outputId": "e79261a8-8326-46ca-c37f-70959809ea9d"
      },
      "execution_count": 7,
      "outputs": [
        {
          "output_type": "execute_result",
          "data": {
            "text/plain": [
              "object     14\n",
              "int64       9\n",
              "float64     5\n",
              "dtype: int64"
            ]
          },
          "metadata": {},
          "execution_count": 7
        }
      ]
    },
    {
      "cell_type": "code",
      "source": [
        "Loan_data.describe()\n"
      ],
      "metadata": {
        "colab": {
          "base_uri": "https://localhost:8080/",
          "height": 364
        },
        "id": "PnTVgb_I8JGJ",
        "outputId": "fde8101b-d637-49f4-9232-377b0a2238db"
      },
      "execution_count": 8,
      "outputs": [
        {
          "output_type": "execute_result",
          "data": {
            "text/plain": [
              "        CreditScore  FirstPaymentDate   MaturityDate           MIP  \\\n",
              "count  33087.000000      33087.000000   33087.000000  33087.000000   \n",
              "mean     596.095566     199904.622661  202902.245232     12.786835   \n",
              "std      117.623416         10.444599      17.605631     13.288161   \n",
              "min        0.000000     199902.000000  202405.000000      0.000000   \n",
              "25%      607.000000     199903.000000  202902.000000      0.000000   \n",
              "50%      625.000000     199904.000000  202903.000000     12.000000   \n",
              "75%      635.000000     199905.000000  202904.000000     25.000000   \n",
              "max      644.000000     200309.000000  203308.000000     52.000000   \n",
              "\n",
              "              Units         OCLTV           DTI        OrigUPB           LTV  \\\n",
              "count  33087.000000  33087.000000  33087.000000   33087.000000  33087.000000   \n",
              "mean       1.021459     81.259316     31.546771  121798.803155     81.243902   \n",
              "std        0.175130     12.430659     12.375150   51843.273513     12.430947   \n",
              "min        1.000000      0.000000      0.000000   10000.000000      0.000000   \n",
              "25%        1.000000     75.000000     25.000000   81000.000000     75.000000   \n",
              "50%        1.000000     80.000000     33.000000  115000.000000     80.000000   \n",
              "75%        1.000000     90.000000     40.000000  155000.000000     90.000000   \n",
              "max        4.000000    105.000000     65.000000  400000.000000    103.000000   \n",
              "\n",
              "       OrigInterestRate  OrigLoanTerm  EverDelinquent  MonthsDelinquent  \\\n",
              "count      33087.000000  33086.000000    33086.000000      33086.000000   \n",
              "mean           7.026419    359.840688        0.415251          5.786979   \n",
              "std            0.403196      2.194621        0.492773         15.859704   \n",
              "min            4.750000    301.000000        0.000000          0.000000   \n",
              "25%            6.750000    360.000000        0.000000          0.000000   \n",
              "50%            7.000000    360.000000        0.000000          0.000000   \n",
              "75%            7.250000    360.000000        1.000000          3.000000   \n",
              "max           11.500000    360.000000        1.000000        180.000000   \n",
              "\n",
              "       MonthsInRepayment  \n",
              "count       33086.000000  \n",
              "mean           63.155353  \n",
              "std            49.532202  \n",
              "min             1.000000  \n",
              "25%            34.000000  \n",
              "50%            49.000000  \n",
              "75%            68.000000  \n",
              "max           212.000000  "
            ],
            "text/html": [
              "\n",
              "  <div id=\"df-66cdec4b-2f20-462e-971d-e392c9fbb7d3\">\n",
              "    <div class=\"colab-df-container\">\n",
              "      <div>\n",
              "<style scoped>\n",
              "    .dataframe tbody tr th:only-of-type {\n",
              "        vertical-align: middle;\n",
              "    }\n",
              "\n",
              "    .dataframe tbody tr th {\n",
              "        vertical-align: top;\n",
              "    }\n",
              "\n",
              "    .dataframe thead th {\n",
              "        text-align: right;\n",
              "    }\n",
              "</style>\n",
              "<table border=\"1\" class=\"dataframe\">\n",
              "  <thead>\n",
              "    <tr style=\"text-align: right;\">\n",
              "      <th></th>\n",
              "      <th>CreditScore</th>\n",
              "      <th>FirstPaymentDate</th>\n",
              "      <th>MaturityDate</th>\n",
              "      <th>MIP</th>\n",
              "      <th>Units</th>\n",
              "      <th>OCLTV</th>\n",
              "      <th>DTI</th>\n",
              "      <th>OrigUPB</th>\n",
              "      <th>LTV</th>\n",
              "      <th>OrigInterestRate</th>\n",
              "      <th>OrigLoanTerm</th>\n",
              "      <th>EverDelinquent</th>\n",
              "      <th>MonthsDelinquent</th>\n",
              "      <th>MonthsInRepayment</th>\n",
              "    </tr>\n",
              "  </thead>\n",
              "  <tbody>\n",
              "    <tr>\n",
              "      <th>count</th>\n",
              "      <td>33087.000000</td>\n",
              "      <td>33087.000000</td>\n",
              "      <td>33087.000000</td>\n",
              "      <td>33087.000000</td>\n",
              "      <td>33087.000000</td>\n",
              "      <td>33087.000000</td>\n",
              "      <td>33087.000000</td>\n",
              "      <td>33087.000000</td>\n",
              "      <td>33087.000000</td>\n",
              "      <td>33087.000000</td>\n",
              "      <td>33086.000000</td>\n",
              "      <td>33086.000000</td>\n",
              "      <td>33086.000000</td>\n",
              "      <td>33086.000000</td>\n",
              "    </tr>\n",
              "    <tr>\n",
              "      <th>mean</th>\n",
              "      <td>596.095566</td>\n",
              "      <td>199904.622661</td>\n",
              "      <td>202902.245232</td>\n",
              "      <td>12.786835</td>\n",
              "      <td>1.021459</td>\n",
              "      <td>81.259316</td>\n",
              "      <td>31.546771</td>\n",
              "      <td>121798.803155</td>\n",
              "      <td>81.243902</td>\n",
              "      <td>7.026419</td>\n",
              "      <td>359.840688</td>\n",
              "      <td>0.415251</td>\n",
              "      <td>5.786979</td>\n",
              "      <td>63.155353</td>\n",
              "    </tr>\n",
              "    <tr>\n",
              "      <th>std</th>\n",
              "      <td>117.623416</td>\n",
              "      <td>10.444599</td>\n",
              "      <td>17.605631</td>\n",
              "      <td>13.288161</td>\n",
              "      <td>0.175130</td>\n",
              "      <td>12.430659</td>\n",
              "      <td>12.375150</td>\n",
              "      <td>51843.273513</td>\n",
              "      <td>12.430947</td>\n",
              "      <td>0.403196</td>\n",
              "      <td>2.194621</td>\n",
              "      <td>0.492773</td>\n",
              "      <td>15.859704</td>\n",
              "      <td>49.532202</td>\n",
              "    </tr>\n",
              "    <tr>\n",
              "      <th>min</th>\n",
              "      <td>0.000000</td>\n",
              "      <td>199902.000000</td>\n",
              "      <td>202405.000000</td>\n",
              "      <td>0.000000</td>\n",
              "      <td>1.000000</td>\n",
              "      <td>0.000000</td>\n",
              "      <td>0.000000</td>\n",
              "      <td>10000.000000</td>\n",
              "      <td>0.000000</td>\n",
              "      <td>4.750000</td>\n",
              "      <td>301.000000</td>\n",
              "      <td>0.000000</td>\n",
              "      <td>0.000000</td>\n",
              "      <td>1.000000</td>\n",
              "    </tr>\n",
              "    <tr>\n",
              "      <th>25%</th>\n",
              "      <td>607.000000</td>\n",
              "      <td>199903.000000</td>\n",
              "      <td>202902.000000</td>\n",
              "      <td>0.000000</td>\n",
              "      <td>1.000000</td>\n",
              "      <td>75.000000</td>\n",
              "      <td>25.000000</td>\n",
              "      <td>81000.000000</td>\n",
              "      <td>75.000000</td>\n",
              "      <td>6.750000</td>\n",
              "      <td>360.000000</td>\n",
              "      <td>0.000000</td>\n",
              "      <td>0.000000</td>\n",
              "      <td>34.000000</td>\n",
              "    </tr>\n",
              "    <tr>\n",
              "      <th>50%</th>\n",
              "      <td>625.000000</td>\n",
              "      <td>199904.000000</td>\n",
              "      <td>202903.000000</td>\n",
              "      <td>12.000000</td>\n",
              "      <td>1.000000</td>\n",
              "      <td>80.000000</td>\n",
              "      <td>33.000000</td>\n",
              "      <td>115000.000000</td>\n",
              "      <td>80.000000</td>\n",
              "      <td>7.000000</td>\n",
              "      <td>360.000000</td>\n",
              "      <td>0.000000</td>\n",
              "      <td>0.000000</td>\n",
              "      <td>49.000000</td>\n",
              "    </tr>\n",
              "    <tr>\n",
              "      <th>75%</th>\n",
              "      <td>635.000000</td>\n",
              "      <td>199905.000000</td>\n",
              "      <td>202904.000000</td>\n",
              "      <td>25.000000</td>\n",
              "      <td>1.000000</td>\n",
              "      <td>90.000000</td>\n",
              "      <td>40.000000</td>\n",
              "      <td>155000.000000</td>\n",
              "      <td>90.000000</td>\n",
              "      <td>7.250000</td>\n",
              "      <td>360.000000</td>\n",
              "      <td>1.000000</td>\n",
              "      <td>3.000000</td>\n",
              "      <td>68.000000</td>\n",
              "    </tr>\n",
              "    <tr>\n",
              "      <th>max</th>\n",
              "      <td>644.000000</td>\n",
              "      <td>200309.000000</td>\n",
              "      <td>203308.000000</td>\n",
              "      <td>52.000000</td>\n",
              "      <td>4.000000</td>\n",
              "      <td>105.000000</td>\n",
              "      <td>65.000000</td>\n",
              "      <td>400000.000000</td>\n",
              "      <td>103.000000</td>\n",
              "      <td>11.500000</td>\n",
              "      <td>360.000000</td>\n",
              "      <td>1.000000</td>\n",
              "      <td>180.000000</td>\n",
              "      <td>212.000000</td>\n",
              "    </tr>\n",
              "  </tbody>\n",
              "</table>\n",
              "</div>\n",
              "      <button class=\"colab-df-convert\" onclick=\"convertToInteractive('df-66cdec4b-2f20-462e-971d-e392c9fbb7d3')\"\n",
              "              title=\"Convert this dataframe to an interactive table.\"\n",
              "              style=\"display:none;\">\n",
              "        \n",
              "  <svg xmlns=\"http://www.w3.org/2000/svg\" height=\"24px\"viewBox=\"0 0 24 24\"\n",
              "       width=\"24px\">\n",
              "    <path d=\"M0 0h24v24H0V0z\" fill=\"none\"/>\n",
              "    <path d=\"M18.56 5.44l.94 2.06.94-2.06 2.06-.94-2.06-.94-.94-2.06-.94 2.06-2.06.94zm-11 1L8.5 8.5l.94-2.06 2.06-.94-2.06-.94L8.5 2.5l-.94 2.06-2.06.94zm10 10l.94 2.06.94-2.06 2.06-.94-2.06-.94-.94-2.06-.94 2.06-2.06.94z\"/><path d=\"M17.41 7.96l-1.37-1.37c-.4-.4-.92-.59-1.43-.59-.52 0-1.04.2-1.43.59L10.3 9.45l-7.72 7.72c-.78.78-.78 2.05 0 2.83L4 21.41c.39.39.9.59 1.41.59.51 0 1.02-.2 1.41-.59l7.78-7.78 2.81-2.81c.8-.78.8-2.07 0-2.86zM5.41 20L4 18.59l7.72-7.72 1.47 1.35L5.41 20z\"/>\n",
              "  </svg>\n",
              "      </button>\n",
              "      \n",
              "  <style>\n",
              "    .colab-df-container {\n",
              "      display:flex;\n",
              "      flex-wrap:wrap;\n",
              "      gap: 12px;\n",
              "    }\n",
              "\n",
              "    .colab-df-convert {\n",
              "      background-color: #E8F0FE;\n",
              "      border: none;\n",
              "      border-radius: 50%;\n",
              "      cursor: pointer;\n",
              "      display: none;\n",
              "      fill: #1967D2;\n",
              "      height: 32px;\n",
              "      padding: 0 0 0 0;\n",
              "      width: 32px;\n",
              "    }\n",
              "\n",
              "    .colab-df-convert:hover {\n",
              "      background-color: #E2EBFA;\n",
              "      box-shadow: 0px 1px 2px rgba(60, 64, 67, 0.3), 0px 1px 3px 1px rgba(60, 64, 67, 0.15);\n",
              "      fill: #174EA6;\n",
              "    }\n",
              "\n",
              "    [theme=dark] .colab-df-convert {\n",
              "      background-color: #3B4455;\n",
              "      fill: #D2E3FC;\n",
              "    }\n",
              "\n",
              "    [theme=dark] .colab-df-convert:hover {\n",
              "      background-color: #434B5C;\n",
              "      box-shadow: 0px 1px 3px 1px rgba(0, 0, 0, 0.15);\n",
              "      filter: drop-shadow(0px 1px 2px rgba(0, 0, 0, 0.3));\n",
              "      fill: #FFFFFF;\n",
              "    }\n",
              "  </style>\n",
              "\n",
              "      <script>\n",
              "        const buttonEl =\n",
              "          document.querySelector('#df-66cdec4b-2f20-462e-971d-e392c9fbb7d3 button.colab-df-convert');\n",
              "        buttonEl.style.display =\n",
              "          google.colab.kernel.accessAllowed ? 'block' : 'none';\n",
              "\n",
              "        async function convertToInteractive(key) {\n",
              "          const element = document.querySelector('#df-66cdec4b-2f20-462e-971d-e392c9fbb7d3');\n",
              "          const dataTable =\n",
              "            await google.colab.kernel.invokeFunction('convertToInteractive',\n",
              "                                                     [key], {});\n",
              "          if (!dataTable) return;\n",
              "\n",
              "          const docLinkHtml = 'Like what you see? Visit the ' +\n",
              "            '<a target=\"_blank\" href=https://colab.research.google.com/notebooks/data_table.ipynb>data table notebook</a>'\n",
              "            + ' to learn more about interactive tables.';\n",
              "          element.innerHTML = '';\n",
              "          dataTable['output_type'] = 'display_data';\n",
              "          await google.colab.output.renderOutput(dataTable, element);\n",
              "          const docLink = document.createElement('div');\n",
              "          docLink.innerHTML = docLinkHtml;\n",
              "          element.appendChild(docLink);\n",
              "        }\n",
              "      </script>\n",
              "    </div>\n",
              "  </div>\n",
              "  "
            ]
          },
          "metadata": {},
          "execution_count": 8
        }
      ]
    },
    {
      "cell_type": "markdown",
      "source": [
        "Abbriviations:\n",
        "\n",
        "MSA - Marketing Services Agreements\n",
        "\n",
        "OCLTV - Combined loan-to-value\n",
        "\n",
        "LTV - Loan to value\n",
        "\n",
        "PPM - Private Placement Memorandum\n",
        "\n",
        "MIP% - Mortgag Insurance Percentage / MIP- Mortgage Insurance Premium\n",
        "\n",
        "OCLTV - Original Combined Loan to Value\n",
        "\n",
        "DTI - Debt to Income ratio\n",
        "\n",
        "OrigUPB - Original Unpaid principal balance\n",
        "\n",
        "PPM - Prepayment Penalty Mortgage"
      ],
      "metadata": {
        "id": "4npq1Jx-3AVy"
      }
    },
    {
      "cell_type": "code",
      "source": [
        "Loan_data.head()"
      ],
      "metadata": {
        "colab": {
          "base_uri": "https://localhost:8080/",
          "height": 300
        },
        "id": "fk_baSA1-irt",
        "outputId": "8bd71ebd-689f-47e6-bd23-e628a54ada47"
      },
      "execution_count": 9,
      "outputs": [
        {
          "output_type": "execute_result",
          "data": {
            "text/plain": [
              "   CreditScore  FirstPaymentDate FirstTimeHomebuyer  MaturityDate    MSA  MIP  \\\n",
              "0            0            199902                  N        202901  16974   25   \n",
              "1            0            199902                  N        202901  19740    0   \n",
              "2            0            199902                  N        202901  29940    0   \n",
              "3            0            199902                  N        202901  31084    0   \n",
              "4            0            199902                  N        202901  35644    0   \n",
              "\n",
              "   Units Occupancy  OCLTV  DTI  ...  PostalCode    LoanSeqNum  LoanPurpose  \\\n",
              "0      1         O     89   27  ...       60400  F199Q1268030            P   \n",
              "1      1         O     73   17  ...       80200  F199Q1015092            N   \n",
              "2      1         O     75   16  ...       66000  F199Q1266886            N   \n",
              "3      1         O     76   14  ...       90700  F199Q1178167            N   \n",
              "4      1         O     78   18  ...        7600  F199Q1178517            N   \n",
              "\n",
              "  OrigLoanTerm NumBorrowers SellerName          ServicerName EverDelinquent  \\\n",
              "0        360.0            2         FL  WASHINGTONMUTUALBANK            0.0   \n",
              "1        360.0            1         FT  CHASEHOMEFINANCELLC             0.0   \n",
              "2        360.0            2         FL  WASHINGTONMUTUALBANK            0.0   \n",
              "3        360.0            2         GM  GMACMTGECORP                    0.0   \n",
              "4        360.0            2         GM  GMACMTGECORP                    0.0   \n",
              "\n",
              "  MonthsDelinquent MonthsInRepayment  \n",
              "0              0.0              52.0  \n",
              "1              0.0             144.0  \n",
              "2              0.0              67.0  \n",
              "3              0.0              35.0  \n",
              "4              0.0              54.0  \n",
              "\n",
              "[5 rows x 28 columns]"
            ],
            "text/html": [
              "\n",
              "  <div id=\"df-04244c28-78c9-4492-a4b9-070cc8c9be27\">\n",
              "    <div class=\"colab-df-container\">\n",
              "      <div>\n",
              "<style scoped>\n",
              "    .dataframe tbody tr th:only-of-type {\n",
              "        vertical-align: middle;\n",
              "    }\n",
              "\n",
              "    .dataframe tbody tr th {\n",
              "        vertical-align: top;\n",
              "    }\n",
              "\n",
              "    .dataframe thead th {\n",
              "        text-align: right;\n",
              "    }\n",
              "</style>\n",
              "<table border=\"1\" class=\"dataframe\">\n",
              "  <thead>\n",
              "    <tr style=\"text-align: right;\">\n",
              "      <th></th>\n",
              "      <th>CreditScore</th>\n",
              "      <th>FirstPaymentDate</th>\n",
              "      <th>FirstTimeHomebuyer</th>\n",
              "      <th>MaturityDate</th>\n",
              "      <th>MSA</th>\n",
              "      <th>MIP</th>\n",
              "      <th>Units</th>\n",
              "      <th>Occupancy</th>\n",
              "      <th>OCLTV</th>\n",
              "      <th>DTI</th>\n",
              "      <th>...</th>\n",
              "      <th>PostalCode</th>\n",
              "      <th>LoanSeqNum</th>\n",
              "      <th>LoanPurpose</th>\n",
              "      <th>OrigLoanTerm</th>\n",
              "      <th>NumBorrowers</th>\n",
              "      <th>SellerName</th>\n",
              "      <th>ServicerName</th>\n",
              "      <th>EverDelinquent</th>\n",
              "      <th>MonthsDelinquent</th>\n",
              "      <th>MonthsInRepayment</th>\n",
              "    </tr>\n",
              "  </thead>\n",
              "  <tbody>\n",
              "    <tr>\n",
              "      <th>0</th>\n",
              "      <td>0</td>\n",
              "      <td>199902</td>\n",
              "      <td>N</td>\n",
              "      <td>202901</td>\n",
              "      <td>16974</td>\n",
              "      <td>25</td>\n",
              "      <td>1</td>\n",
              "      <td>O</td>\n",
              "      <td>89</td>\n",
              "      <td>27</td>\n",
              "      <td>...</td>\n",
              "      <td>60400</td>\n",
              "      <td>F199Q1268030</td>\n",
              "      <td>P</td>\n",
              "      <td>360.0</td>\n",
              "      <td>2</td>\n",
              "      <td>FL</td>\n",
              "      <td>WASHINGTONMUTUALBANK</td>\n",
              "      <td>0.0</td>\n",
              "      <td>0.0</td>\n",
              "      <td>52.0</td>\n",
              "    </tr>\n",
              "    <tr>\n",
              "      <th>1</th>\n",
              "      <td>0</td>\n",
              "      <td>199902</td>\n",
              "      <td>N</td>\n",
              "      <td>202901</td>\n",
              "      <td>19740</td>\n",
              "      <td>0</td>\n",
              "      <td>1</td>\n",
              "      <td>O</td>\n",
              "      <td>73</td>\n",
              "      <td>17</td>\n",
              "      <td>...</td>\n",
              "      <td>80200</td>\n",
              "      <td>F199Q1015092</td>\n",
              "      <td>N</td>\n",
              "      <td>360.0</td>\n",
              "      <td>1</td>\n",
              "      <td>FT</td>\n",
              "      <td>CHASEHOMEFINANCELLC</td>\n",
              "      <td>0.0</td>\n",
              "      <td>0.0</td>\n",
              "      <td>144.0</td>\n",
              "    </tr>\n",
              "    <tr>\n",
              "      <th>2</th>\n",
              "      <td>0</td>\n",
              "      <td>199902</td>\n",
              "      <td>N</td>\n",
              "      <td>202901</td>\n",
              "      <td>29940</td>\n",
              "      <td>0</td>\n",
              "      <td>1</td>\n",
              "      <td>O</td>\n",
              "      <td>75</td>\n",
              "      <td>16</td>\n",
              "      <td>...</td>\n",
              "      <td>66000</td>\n",
              "      <td>F199Q1266886</td>\n",
              "      <td>N</td>\n",
              "      <td>360.0</td>\n",
              "      <td>2</td>\n",
              "      <td>FL</td>\n",
              "      <td>WASHINGTONMUTUALBANK</td>\n",
              "      <td>0.0</td>\n",
              "      <td>0.0</td>\n",
              "      <td>67.0</td>\n",
              "    </tr>\n",
              "    <tr>\n",
              "      <th>3</th>\n",
              "      <td>0</td>\n",
              "      <td>199902</td>\n",
              "      <td>N</td>\n",
              "      <td>202901</td>\n",
              "      <td>31084</td>\n",
              "      <td>0</td>\n",
              "      <td>1</td>\n",
              "      <td>O</td>\n",
              "      <td>76</td>\n",
              "      <td>14</td>\n",
              "      <td>...</td>\n",
              "      <td>90700</td>\n",
              "      <td>F199Q1178167</td>\n",
              "      <td>N</td>\n",
              "      <td>360.0</td>\n",
              "      <td>2</td>\n",
              "      <td>GM</td>\n",
              "      <td>GMACMTGECORP</td>\n",
              "      <td>0.0</td>\n",
              "      <td>0.0</td>\n",
              "      <td>35.0</td>\n",
              "    </tr>\n",
              "    <tr>\n",
              "      <th>4</th>\n",
              "      <td>0</td>\n",
              "      <td>199902</td>\n",
              "      <td>N</td>\n",
              "      <td>202901</td>\n",
              "      <td>35644</td>\n",
              "      <td>0</td>\n",
              "      <td>1</td>\n",
              "      <td>O</td>\n",
              "      <td>78</td>\n",
              "      <td>18</td>\n",
              "      <td>...</td>\n",
              "      <td>7600</td>\n",
              "      <td>F199Q1178517</td>\n",
              "      <td>N</td>\n",
              "      <td>360.0</td>\n",
              "      <td>2</td>\n",
              "      <td>GM</td>\n",
              "      <td>GMACMTGECORP</td>\n",
              "      <td>0.0</td>\n",
              "      <td>0.0</td>\n",
              "      <td>54.0</td>\n",
              "    </tr>\n",
              "  </tbody>\n",
              "</table>\n",
              "<p>5 rows × 28 columns</p>\n",
              "</div>\n",
              "      <button class=\"colab-df-convert\" onclick=\"convertToInteractive('df-04244c28-78c9-4492-a4b9-070cc8c9be27')\"\n",
              "              title=\"Convert this dataframe to an interactive table.\"\n",
              "              style=\"display:none;\">\n",
              "        \n",
              "  <svg xmlns=\"http://www.w3.org/2000/svg\" height=\"24px\"viewBox=\"0 0 24 24\"\n",
              "       width=\"24px\">\n",
              "    <path d=\"M0 0h24v24H0V0z\" fill=\"none\"/>\n",
              "    <path d=\"M18.56 5.44l.94 2.06.94-2.06 2.06-.94-2.06-.94-.94-2.06-.94 2.06-2.06.94zm-11 1L8.5 8.5l.94-2.06 2.06-.94-2.06-.94L8.5 2.5l-.94 2.06-2.06.94zm10 10l.94 2.06.94-2.06 2.06-.94-2.06-.94-.94-2.06-.94 2.06-2.06.94z\"/><path d=\"M17.41 7.96l-1.37-1.37c-.4-.4-.92-.59-1.43-.59-.52 0-1.04.2-1.43.59L10.3 9.45l-7.72 7.72c-.78.78-.78 2.05 0 2.83L4 21.41c.39.39.9.59 1.41.59.51 0 1.02-.2 1.41-.59l7.78-7.78 2.81-2.81c.8-.78.8-2.07 0-2.86zM5.41 20L4 18.59l7.72-7.72 1.47 1.35L5.41 20z\"/>\n",
              "  </svg>\n",
              "      </button>\n",
              "      \n",
              "  <style>\n",
              "    .colab-df-container {\n",
              "      display:flex;\n",
              "      flex-wrap:wrap;\n",
              "      gap: 12px;\n",
              "    }\n",
              "\n",
              "    .colab-df-convert {\n",
              "      background-color: #E8F0FE;\n",
              "      border: none;\n",
              "      border-radius: 50%;\n",
              "      cursor: pointer;\n",
              "      display: none;\n",
              "      fill: #1967D2;\n",
              "      height: 32px;\n",
              "      padding: 0 0 0 0;\n",
              "      width: 32px;\n",
              "    }\n",
              "\n",
              "    .colab-df-convert:hover {\n",
              "      background-color: #E2EBFA;\n",
              "      box-shadow: 0px 1px 2px rgba(60, 64, 67, 0.3), 0px 1px 3px 1px rgba(60, 64, 67, 0.15);\n",
              "      fill: #174EA6;\n",
              "    }\n",
              "\n",
              "    [theme=dark] .colab-df-convert {\n",
              "      background-color: #3B4455;\n",
              "      fill: #D2E3FC;\n",
              "    }\n",
              "\n",
              "    [theme=dark] .colab-df-convert:hover {\n",
              "      background-color: #434B5C;\n",
              "      box-shadow: 0px 1px 3px 1px rgba(0, 0, 0, 0.15);\n",
              "      filter: drop-shadow(0px 1px 2px rgba(0, 0, 0, 0.3));\n",
              "      fill: #FFFFFF;\n",
              "    }\n",
              "  </style>\n",
              "\n",
              "      <script>\n",
              "        const buttonEl =\n",
              "          document.querySelector('#df-04244c28-78c9-4492-a4b9-070cc8c9be27 button.colab-df-convert');\n",
              "        buttonEl.style.display =\n",
              "          google.colab.kernel.accessAllowed ? 'block' : 'none';\n",
              "\n",
              "        async function convertToInteractive(key) {\n",
              "          const element = document.querySelector('#df-04244c28-78c9-4492-a4b9-070cc8c9be27');\n",
              "          const dataTable =\n",
              "            await google.colab.kernel.invokeFunction('convertToInteractive',\n",
              "                                                     [key], {});\n",
              "          if (!dataTable) return;\n",
              "\n",
              "          const docLinkHtml = 'Like what you see? Visit the ' +\n",
              "            '<a target=\"_blank\" href=https://colab.research.google.com/notebooks/data_table.ipynb>data table notebook</a>'\n",
              "            + ' to learn more about interactive tables.';\n",
              "          element.innerHTML = '';\n",
              "          dataTable['output_type'] = 'display_data';\n",
              "          await google.colab.output.renderOutput(dataTable, element);\n",
              "          const docLink = document.createElement('div');\n",
              "          docLink.innerHTML = docLinkHtml;\n",
              "          element.appendChild(docLink);\n",
              "        }\n",
              "      </script>\n",
              "    </div>\n",
              "  </div>\n",
              "  "
            ]
          },
          "metadata": {},
          "execution_count": 9
        }
      ]
    },
    {
      "cell_type": "markdown",
      "source": [
        "**Borrower Financial Information:** Credit Score, First_Time_Homebuyer_Flag, original debt-to-income (DTI) ratio, number of borrowers, occupancy status (primary residence, investment or second home)\n",
        "\n",
        "**Loan Information:** First_Payment (date), Maturity_Date, MI_pert (% mortgage insured), original LTV (loan-to-value) ratio, original combined LTV ratio, original interest rate, original unpaid balance, PPM (prepayment penalty mortgage) flag, loan purpose (purchase vs refinance), original loan term, super-conforming flag\n",
        "\n",
        "**Property information:** number of units, property type (condo, single-family home, etc.)\n",
        "\n",
        "**Location:** MSA_Code (Metropolitan statistical area), Property_state, postal_code\n",
        "\n",
        "**Seller/Servicer information: **channel (retail, broker, etc.), seller name, servicer name"
      ],
      "metadata": {
        "id": "wAHuGsJYGp9u"
      }
    },
    {
      "cell_type": "code",
      "source": [
        "Loan_data.tail()"
      ],
      "metadata": {
        "colab": {
          "base_uri": "https://localhost:8080/",
          "height": 300
        },
        "id": "1vxyUnPP-2uF",
        "outputId": "13a27881-57b7-433e-ab50-83f5b8b73a7e"
      },
      "execution_count": 10,
      "outputs": [
        {
          "output_type": "execute_result",
          "data": {
            "text/plain": [
              "       CreditScore  FirstPaymentDate FirstTimeHomebuyer  MaturityDate    MSA  \\\n",
              "33082          644            199903                  X        202902  40060   \n",
              "33083          644            199903                  X        202902  40060   \n",
              "33084          644            199903                  X        202902  40060   \n",
              "33085          644            199903                  X        202902  41180   \n",
              "33086          644            199903                  X        202902  41180   \n",
              "\n",
              "       MIP  Units Occupancy  OCLTV  DTI  ...  PostalCode    LoanSeqNum  \\\n",
              "33082    0      1         O     75   14  ...     23100.0  F199Q1119192   \n",
              "33083    0      1         O     76   27  ...     23800.0  F199Q1082511   \n",
              "33084   12      1         O     82    0  ...     23200.0  F199Q1369264   \n",
              "33085    0      1         O     80   42  ...     63300.0  F199Q1063641   \n",
              "33086    0      1         O     80   44  ...         NaN           NaN   \n",
              "\n",
              "       LoanPurpose OrigLoanTerm NumBorrowers SellerName          ServicerName  \\\n",
              "33082            N        360.0          2.0         HO  WASHINGTONMUTUALBANK   \n",
              "33083            C        360.0          2.0         OL   BANKOFAMERICANA       \n",
              "33084            N        360.0          2.0         FI  Other servicers        \n",
              "33085            C        360.0          2.0         FL  CHASEMANHATTANMTGECO   \n",
              "33086          NaN          NaN          NaN        NaN                   NaN   \n",
              "\n",
              "      EverDelinquent MonthsDelinquent MonthsInRepayment  \n",
              "33082            1.0             14.0              64.0  \n",
              "33083            0.0              0.0              71.0  \n",
              "33084            0.0              0.0             139.0  \n",
              "33085            0.0              0.0              58.0  \n",
              "33086            NaN              NaN               NaN  \n",
              "\n",
              "[5 rows x 28 columns]"
            ],
            "text/html": [
              "\n",
              "  <div id=\"df-b6595e75-31c5-4340-a8fe-b178ec085560\">\n",
              "    <div class=\"colab-df-container\">\n",
              "      <div>\n",
              "<style scoped>\n",
              "    .dataframe tbody tr th:only-of-type {\n",
              "        vertical-align: middle;\n",
              "    }\n",
              "\n",
              "    .dataframe tbody tr th {\n",
              "        vertical-align: top;\n",
              "    }\n",
              "\n",
              "    .dataframe thead th {\n",
              "        text-align: right;\n",
              "    }\n",
              "</style>\n",
              "<table border=\"1\" class=\"dataframe\">\n",
              "  <thead>\n",
              "    <tr style=\"text-align: right;\">\n",
              "      <th></th>\n",
              "      <th>CreditScore</th>\n",
              "      <th>FirstPaymentDate</th>\n",
              "      <th>FirstTimeHomebuyer</th>\n",
              "      <th>MaturityDate</th>\n",
              "      <th>MSA</th>\n",
              "      <th>MIP</th>\n",
              "      <th>Units</th>\n",
              "      <th>Occupancy</th>\n",
              "      <th>OCLTV</th>\n",
              "      <th>DTI</th>\n",
              "      <th>...</th>\n",
              "      <th>PostalCode</th>\n",
              "      <th>LoanSeqNum</th>\n",
              "      <th>LoanPurpose</th>\n",
              "      <th>OrigLoanTerm</th>\n",
              "      <th>NumBorrowers</th>\n",
              "      <th>SellerName</th>\n",
              "      <th>ServicerName</th>\n",
              "      <th>EverDelinquent</th>\n",
              "      <th>MonthsDelinquent</th>\n",
              "      <th>MonthsInRepayment</th>\n",
              "    </tr>\n",
              "  </thead>\n",
              "  <tbody>\n",
              "    <tr>\n",
              "      <th>33082</th>\n",
              "      <td>644</td>\n",
              "      <td>199903</td>\n",
              "      <td>X</td>\n",
              "      <td>202902</td>\n",
              "      <td>40060</td>\n",
              "      <td>0</td>\n",
              "      <td>1</td>\n",
              "      <td>O</td>\n",
              "      <td>75</td>\n",
              "      <td>14</td>\n",
              "      <td>...</td>\n",
              "      <td>23100.0</td>\n",
              "      <td>F199Q1119192</td>\n",
              "      <td>N</td>\n",
              "      <td>360.0</td>\n",
              "      <td>2.0</td>\n",
              "      <td>HO</td>\n",
              "      <td>WASHINGTONMUTUALBANK</td>\n",
              "      <td>1.0</td>\n",
              "      <td>14.0</td>\n",
              "      <td>64.0</td>\n",
              "    </tr>\n",
              "    <tr>\n",
              "      <th>33083</th>\n",
              "      <td>644</td>\n",
              "      <td>199903</td>\n",
              "      <td>X</td>\n",
              "      <td>202902</td>\n",
              "      <td>40060</td>\n",
              "      <td>0</td>\n",
              "      <td>1</td>\n",
              "      <td>O</td>\n",
              "      <td>76</td>\n",
              "      <td>27</td>\n",
              "      <td>...</td>\n",
              "      <td>23800.0</td>\n",
              "      <td>F199Q1082511</td>\n",
              "      <td>C</td>\n",
              "      <td>360.0</td>\n",
              "      <td>2.0</td>\n",
              "      <td>OL</td>\n",
              "      <td>BANKOFAMERICANA</td>\n",
              "      <td>0.0</td>\n",
              "      <td>0.0</td>\n",
              "      <td>71.0</td>\n",
              "    </tr>\n",
              "    <tr>\n",
              "      <th>33084</th>\n",
              "      <td>644</td>\n",
              "      <td>199903</td>\n",
              "      <td>X</td>\n",
              "      <td>202902</td>\n",
              "      <td>40060</td>\n",
              "      <td>12</td>\n",
              "      <td>1</td>\n",
              "      <td>O</td>\n",
              "      <td>82</td>\n",
              "      <td>0</td>\n",
              "      <td>...</td>\n",
              "      <td>23200.0</td>\n",
              "      <td>F199Q1369264</td>\n",
              "      <td>N</td>\n",
              "      <td>360.0</td>\n",
              "      <td>2.0</td>\n",
              "      <td>FI</td>\n",
              "      <td>Other servicers</td>\n",
              "      <td>0.0</td>\n",
              "      <td>0.0</td>\n",
              "      <td>139.0</td>\n",
              "    </tr>\n",
              "    <tr>\n",
              "      <th>33085</th>\n",
              "      <td>644</td>\n",
              "      <td>199903</td>\n",
              "      <td>X</td>\n",
              "      <td>202902</td>\n",
              "      <td>41180</td>\n",
              "      <td>0</td>\n",
              "      <td>1</td>\n",
              "      <td>O</td>\n",
              "      <td>80</td>\n",
              "      <td>42</td>\n",
              "      <td>...</td>\n",
              "      <td>63300.0</td>\n",
              "      <td>F199Q1063641</td>\n",
              "      <td>C</td>\n",
              "      <td>360.0</td>\n",
              "      <td>2.0</td>\n",
              "      <td>FL</td>\n",
              "      <td>CHASEMANHATTANMTGECO</td>\n",
              "      <td>0.0</td>\n",
              "      <td>0.0</td>\n",
              "      <td>58.0</td>\n",
              "    </tr>\n",
              "    <tr>\n",
              "      <th>33086</th>\n",
              "      <td>644</td>\n",
              "      <td>199903</td>\n",
              "      <td>X</td>\n",
              "      <td>202902</td>\n",
              "      <td>41180</td>\n",
              "      <td>0</td>\n",
              "      <td>1</td>\n",
              "      <td>O</td>\n",
              "      <td>80</td>\n",
              "      <td>44</td>\n",
              "      <td>...</td>\n",
              "      <td>NaN</td>\n",
              "      <td>NaN</td>\n",
              "      <td>NaN</td>\n",
              "      <td>NaN</td>\n",
              "      <td>NaN</td>\n",
              "      <td>NaN</td>\n",
              "      <td>NaN</td>\n",
              "      <td>NaN</td>\n",
              "      <td>NaN</td>\n",
              "      <td>NaN</td>\n",
              "    </tr>\n",
              "  </tbody>\n",
              "</table>\n",
              "<p>5 rows × 28 columns</p>\n",
              "</div>\n",
              "      <button class=\"colab-df-convert\" onclick=\"convertToInteractive('df-b6595e75-31c5-4340-a8fe-b178ec085560')\"\n",
              "              title=\"Convert this dataframe to an interactive table.\"\n",
              "              style=\"display:none;\">\n",
              "        \n",
              "  <svg xmlns=\"http://www.w3.org/2000/svg\" height=\"24px\"viewBox=\"0 0 24 24\"\n",
              "       width=\"24px\">\n",
              "    <path d=\"M0 0h24v24H0V0z\" fill=\"none\"/>\n",
              "    <path d=\"M18.56 5.44l.94 2.06.94-2.06 2.06-.94-2.06-.94-.94-2.06-.94 2.06-2.06.94zm-11 1L8.5 8.5l.94-2.06 2.06-.94-2.06-.94L8.5 2.5l-.94 2.06-2.06.94zm10 10l.94 2.06.94-2.06 2.06-.94-2.06-.94-.94-2.06-.94 2.06-2.06.94z\"/><path d=\"M17.41 7.96l-1.37-1.37c-.4-.4-.92-.59-1.43-.59-.52 0-1.04.2-1.43.59L10.3 9.45l-7.72 7.72c-.78.78-.78 2.05 0 2.83L4 21.41c.39.39.9.59 1.41.59.51 0 1.02-.2 1.41-.59l7.78-7.78 2.81-2.81c.8-.78.8-2.07 0-2.86zM5.41 20L4 18.59l7.72-7.72 1.47 1.35L5.41 20z\"/>\n",
              "  </svg>\n",
              "      </button>\n",
              "      \n",
              "  <style>\n",
              "    .colab-df-container {\n",
              "      display:flex;\n",
              "      flex-wrap:wrap;\n",
              "      gap: 12px;\n",
              "    }\n",
              "\n",
              "    .colab-df-convert {\n",
              "      background-color: #E8F0FE;\n",
              "      border: none;\n",
              "      border-radius: 50%;\n",
              "      cursor: pointer;\n",
              "      display: none;\n",
              "      fill: #1967D2;\n",
              "      height: 32px;\n",
              "      padding: 0 0 0 0;\n",
              "      width: 32px;\n",
              "    }\n",
              "\n",
              "    .colab-df-convert:hover {\n",
              "      background-color: #E2EBFA;\n",
              "      box-shadow: 0px 1px 2px rgba(60, 64, 67, 0.3), 0px 1px 3px 1px rgba(60, 64, 67, 0.15);\n",
              "      fill: #174EA6;\n",
              "    }\n",
              "\n",
              "    [theme=dark] .colab-df-convert {\n",
              "      background-color: #3B4455;\n",
              "      fill: #D2E3FC;\n",
              "    }\n",
              "\n",
              "    [theme=dark] .colab-df-convert:hover {\n",
              "      background-color: #434B5C;\n",
              "      box-shadow: 0px 1px 3px 1px rgba(0, 0, 0, 0.15);\n",
              "      filter: drop-shadow(0px 1px 2px rgba(0, 0, 0, 0.3));\n",
              "      fill: #FFFFFF;\n",
              "    }\n",
              "  </style>\n",
              "\n",
              "      <script>\n",
              "        const buttonEl =\n",
              "          document.querySelector('#df-b6595e75-31c5-4340-a8fe-b178ec085560 button.colab-df-convert');\n",
              "        buttonEl.style.display =\n",
              "          google.colab.kernel.accessAllowed ? 'block' : 'none';\n",
              "\n",
              "        async function convertToInteractive(key) {\n",
              "          const element = document.querySelector('#df-b6595e75-31c5-4340-a8fe-b178ec085560');\n",
              "          const dataTable =\n",
              "            await google.colab.kernel.invokeFunction('convertToInteractive',\n",
              "                                                     [key], {});\n",
              "          if (!dataTable) return;\n",
              "\n",
              "          const docLinkHtml = 'Like what you see? Visit the ' +\n",
              "            '<a target=\"_blank\" href=https://colab.research.google.com/notebooks/data_table.ipynb>data table notebook</a>'\n",
              "            + ' to learn more about interactive tables.';\n",
              "          element.innerHTML = '';\n",
              "          dataTable['output_type'] = 'display_data';\n",
              "          await google.colab.output.renderOutput(dataTable, element);\n",
              "          const docLink = document.createElement('div');\n",
              "          docLink.innerHTML = docLinkHtml;\n",
              "          element.appendChild(docLink);\n",
              "        }\n",
              "      </script>\n",
              "    </div>\n",
              "  </div>\n",
              "  "
            ]
          },
          "metadata": {},
          "execution_count": 10
        }
      ]
    },
    {
      "cell_type": "markdown",
      "source": [
        "**Unit** refres to number of properties morrtgage\n",
        "\n",
        "**Occupancy** values refer to O:owner ,Occupaied ,I:investment Peoperty ,S:secondary home\n",
        "\n",
        "**Channel** values refer to R:retail, B:broker, C:correspondent\n",
        "\n",
        "**Product** Type value FRM:fixed rate mortgages"
      ],
      "metadata": {
        "id": "8EIuqvlgG3rH"
      }
    },
    {
      "cell_type": "code",
      "source": [
        "Loan_data.info()"
      ],
      "metadata": {
        "colab": {
          "base_uri": "https://localhost:8080/"
        },
        "id": "IfDpbvUT_-Xq",
        "outputId": "7cc68ace-d4cb-4356-a73d-172572685a05"
      },
      "execution_count": 11,
      "outputs": [
        {
          "output_type": "stream",
          "name": "stdout",
          "text": [
            "<class 'pandas.core.frame.DataFrame'>\n",
            "RangeIndex: 33087 entries, 0 to 33086\n",
            "Data columns (total 28 columns):\n",
            " #   Column              Non-Null Count  Dtype  \n",
            "---  ------              --------------  -----  \n",
            " 0   CreditScore         33087 non-null  int64  \n",
            " 1   FirstPaymentDate    33087 non-null  int64  \n",
            " 2   FirstTimeHomebuyer  33087 non-null  object \n",
            " 3   MaturityDate        33087 non-null  int64  \n",
            " 4   MSA                 33087 non-null  object \n",
            " 5   MIP                 33087 non-null  int64  \n",
            " 6   Units               33087 non-null  int64  \n",
            " 7   Occupancy           33087 non-null  object \n",
            " 8   OCLTV               33087 non-null  int64  \n",
            " 9   DTI                 33087 non-null  int64  \n",
            " 10  OrigUPB             33087 non-null  int64  \n",
            " 11  LTV                 33087 non-null  int64  \n",
            " 12  OrigInterestRate    33087 non-null  float64\n",
            " 13  Channel             33087 non-null  object \n",
            " 14  PPM                 33087 non-null  object \n",
            " 15  ProductType         33087 non-null  object \n",
            " 16  PropertyState       33087 non-null  object \n",
            " 17  PropertyType        33086 non-null  object \n",
            " 18  PostalCode          33086 non-null  object \n",
            " 19  LoanSeqNum          33086 non-null  object \n",
            " 20  LoanPurpose         33086 non-null  object \n",
            " 21  OrigLoanTerm        33086 non-null  float64\n",
            " 22  NumBorrowers        33086 non-null  object \n",
            " 23  SellerName          30379 non-null  object \n",
            " 24  ServicerName        33086 non-null  object \n",
            " 25  EverDelinquent      33086 non-null  float64\n",
            " 26  MonthsDelinquent    33086 non-null  float64\n",
            " 27  MonthsInRepayment   33086 non-null  float64\n",
            "dtypes: float64(5), int64(9), object(14)\n",
            "memory usage: 7.1+ MB\n"
          ]
        }
      ]
    },
    {
      "cell_type": "code",
      "source": [
        "#filter columns by dtype\n",
        "Loan_data.select_dtypes(include=['float64']).columns"
      ],
      "metadata": {
        "colab": {
          "base_uri": "https://localhost:8080/"
        },
        "id": "Vsrlp2WMIM8s",
        "outputId": "df2622ba-323f-4ffe-84ba-0f36fa17dfe4"
      },
      "execution_count": 12,
      "outputs": [
        {
          "output_type": "execute_result",
          "data": {
            "text/plain": [
              "Index(['OrigInterestRate', 'OrigLoanTerm', 'EverDelinquent',\n",
              "       'MonthsDelinquent', 'MonthsInRepayment'],\n",
              "      dtype='object')"
            ]
          },
          "metadata": {},
          "execution_count": 12
        }
      ]
    },
    {
      "cell_type": "code",
      "source": [
        "Loan_data.select_dtypes(include=['object']).columns"
      ],
      "metadata": {
        "colab": {
          "base_uri": "https://localhost:8080/"
        },
        "id": "RzKbHz7iIfkV",
        "outputId": "c6ad4889-832d-4e1d-c93d-4467f0fd448e"
      },
      "execution_count": 13,
      "outputs": [
        {
          "output_type": "execute_result",
          "data": {
            "text/plain": [
              "Index(['FirstTimeHomebuyer', 'MSA', 'Occupancy', 'Channel', 'PPM',\n",
              "       'ProductType', 'PropertyState', 'PropertyType', 'PostalCode',\n",
              "       'LoanSeqNum', 'LoanPurpose', 'NumBorrowers', 'SellerName',\n",
              "       'ServicerName'],\n",
              "      dtype='object')"
            ]
          },
          "metadata": {},
          "execution_count": 13
        }
      ]
    },
    {
      "cell_type": "code",
      "source": [
        "Loan_data.select_dtypes(include=['int64']).columns"
      ],
      "metadata": {
        "colab": {
          "base_uri": "https://localhost:8080/"
        },
        "id": "ZdY8KroyJSUe",
        "outputId": "533ec08f-ceec-44be-8d78-97550efe48fa"
      },
      "execution_count": 14,
      "outputs": [
        {
          "output_type": "execute_result",
          "data": {
            "text/plain": [
              "Index(['CreditScore', 'FirstPaymentDate', 'MaturityDate', 'MIP', 'Units',\n",
              "       'OCLTV', 'DTI', 'OrigUPB', 'LTV'],\n",
              "      dtype='object')"
            ]
          },
          "metadata": {},
          "execution_count": 14
        }
      ]
    },
    {
      "cell_type": "code",
      "source": [
        "# convert column that contain Date value to datetime \n",
        "Loan_data['FirstPaymentDate'] = pd.to_datetime(Loan_data['FirstPaymentDate'])\n",
        "\n",
        "Loan_data['MaturityDate'] = pd.to_datetime(Loan_data['MaturityDate'])"
      ],
      "metadata": {
        "id": "yUhjo39SLn9o"
      },
      "execution_count": 15,
      "outputs": []
    },
    {
      "cell_type": "code",
      "source": [
        "Loan_data.info()"
      ],
      "metadata": {
        "colab": {
          "base_uri": "https://localhost:8080/"
        },
        "id": "LVtbvE1CMg2h",
        "outputId": "cd3d3755-a8e5-4208-a71c-89953f353bc2"
      },
      "execution_count": 16,
      "outputs": [
        {
          "output_type": "stream",
          "name": "stdout",
          "text": [
            "<class 'pandas.core.frame.DataFrame'>\n",
            "RangeIndex: 33087 entries, 0 to 33086\n",
            "Data columns (total 28 columns):\n",
            " #   Column              Non-Null Count  Dtype         \n",
            "---  ------              --------------  -----         \n",
            " 0   CreditScore         33087 non-null  int64         \n",
            " 1   FirstPaymentDate    33087 non-null  datetime64[ns]\n",
            " 2   FirstTimeHomebuyer  33087 non-null  object        \n",
            " 3   MaturityDate        33087 non-null  datetime64[ns]\n",
            " 4   MSA                 33087 non-null  object        \n",
            " 5   MIP                 33087 non-null  int64         \n",
            " 6   Units               33087 non-null  int64         \n",
            " 7   Occupancy           33087 non-null  object        \n",
            " 8   OCLTV               33087 non-null  int64         \n",
            " 9   DTI                 33087 non-null  int64         \n",
            " 10  OrigUPB             33087 non-null  int64         \n",
            " 11  LTV                 33087 non-null  int64         \n",
            " 12  OrigInterestRate    33087 non-null  float64       \n",
            " 13  Channel             33087 non-null  object        \n",
            " 14  PPM                 33087 non-null  object        \n",
            " 15  ProductType         33087 non-null  object        \n",
            " 16  PropertyState       33087 non-null  object        \n",
            " 17  PropertyType        33086 non-null  object        \n",
            " 18  PostalCode          33086 non-null  object        \n",
            " 19  LoanSeqNum          33086 non-null  object        \n",
            " 20  LoanPurpose         33086 non-null  object        \n",
            " 21  OrigLoanTerm        33086 non-null  float64       \n",
            " 22  NumBorrowers        33086 non-null  object        \n",
            " 23  SellerName          30379 non-null  object        \n",
            " 24  ServicerName        33086 non-null  object        \n",
            " 25  EverDelinquent      33086 non-null  float64       \n",
            " 26  MonthsDelinquent    33086 non-null  float64       \n",
            " 27  MonthsInRepayment   33086 non-null  float64       \n",
            "dtypes: datetime64[ns](2), float64(5), int64(7), object(14)\n",
            "memory usage: 7.1+ MB\n"
          ]
        }
      ]
    },
    {
      "cell_type": "markdown",
      "source": [
        "Processing Data"
      ],
      "metadata": {
        "id": "xeTKLdzcZUvY"
      }
    },
    {
      "cell_type": "code",
      "source": [
        "Loan_data.corr()"
      ],
      "metadata": {
        "colab": {
          "base_uri": "https://localhost:8080/",
          "height": 490
        },
        "id": "XwkxE21wHWsv",
        "outputId": "545fcbf1-eaee-43b7-a60e-8ce7498c9b5d"
      },
      "execution_count": 17,
      "outputs": [
        {
          "output_type": "execute_result",
          "data": {
            "text/plain": [
              "                   CreditScore       MIP     Units     OCLTV       DTI  \\\n",
              "CreditScore           1.000000  0.003048 -0.047707  0.023480  0.066568   \n",
              "MIP                   0.003048  1.000000 -0.049608  0.775640  0.051268   \n",
              "Units                -0.047707 -0.049608  1.000000 -0.067559 -0.002820   \n",
              "OCLTV                 0.023480  0.775640 -0.067559  1.000000  0.041336   \n",
              "DTI                   0.066568  0.051268 -0.002820  0.041336  1.000000   \n",
              "OrigUPB               0.030580  0.063941  0.055076  0.118958  0.082073   \n",
              "LTV                   0.023506  0.776343 -0.067461  0.999363  0.041020   \n",
              "OrigInterestRate     -0.014325  0.105251  0.037093  0.052606  0.075638   \n",
              "OrigLoanTerm          0.016288  0.004471 -0.001485  0.004108  0.042577   \n",
              "EverDelinquent        0.040943  0.021253  0.002862  0.026037  0.022632   \n",
              "MonthsDelinquent      0.015744  0.017184 -0.010009  0.029204  0.016989   \n",
              "MonthsInRepayment    -0.018149 -0.100272  0.001333 -0.091708 -0.011202   \n",
              "\n",
              "                    OrigUPB       LTV  OrigInterestRate  OrigLoanTerm  \\\n",
              "CreditScore        0.030580  0.023506         -0.014325      0.016288   \n",
              "MIP                0.063941  0.776343          0.105251      0.004471   \n",
              "Units              0.055076 -0.067461          0.037093     -0.001485   \n",
              "OCLTV              0.118958  0.999363          0.052606      0.004108   \n",
              "DTI                0.082073  0.041020          0.075638      0.042577   \n",
              "OrigUPB            1.000000  0.118427         -0.106591     -0.005947   \n",
              "LTV                0.118427  1.000000          0.053161      0.004018   \n",
              "OrigInterestRate  -0.106591  0.053161          1.000000     -0.022377   \n",
              "OrigLoanTerm      -0.005947  0.004018         -0.022377      1.000000   \n",
              "EverDelinquent    -0.068214  0.026208          0.036954      0.007512   \n",
              "MonthsDelinquent  -0.090749  0.029315          0.032178      0.010370   \n",
              "MonthsInRepayment -0.190779 -0.092216         -0.115564      0.012345   \n",
              "\n",
              "                   EverDelinquent  MonthsDelinquent  MonthsInRepayment  \n",
              "CreditScore              0.040943          0.015744          -0.018149  \n",
              "MIP                      0.021253          0.017184          -0.100272  \n",
              "Units                    0.002862         -0.010009           0.001333  \n",
              "OCLTV                    0.026037          0.029204          -0.091708  \n",
              "DTI                      0.022632          0.016989          -0.011202  \n",
              "OrigUPB                 -0.068214         -0.090749          -0.190779  \n",
              "LTV                      0.026208          0.029315          -0.092216  \n",
              "OrigInterestRate         0.036954          0.032178          -0.115564  \n",
              "OrigLoanTerm             0.007512          0.010370           0.012345  \n",
              "EverDelinquent           1.000000          0.433005           0.276721  \n",
              "MonthsDelinquent         0.433005          1.000000           0.461896  \n",
              "MonthsInRepayment        0.276721          0.461896           1.000000  "
            ],
            "text/html": [
              "\n",
              "  <div id=\"df-9c614c0d-bd6f-40eb-b09c-549e000d2aa0\">\n",
              "    <div class=\"colab-df-container\">\n",
              "      <div>\n",
              "<style scoped>\n",
              "    .dataframe tbody tr th:only-of-type {\n",
              "        vertical-align: middle;\n",
              "    }\n",
              "\n",
              "    .dataframe tbody tr th {\n",
              "        vertical-align: top;\n",
              "    }\n",
              "\n",
              "    .dataframe thead th {\n",
              "        text-align: right;\n",
              "    }\n",
              "</style>\n",
              "<table border=\"1\" class=\"dataframe\">\n",
              "  <thead>\n",
              "    <tr style=\"text-align: right;\">\n",
              "      <th></th>\n",
              "      <th>CreditScore</th>\n",
              "      <th>MIP</th>\n",
              "      <th>Units</th>\n",
              "      <th>OCLTV</th>\n",
              "      <th>DTI</th>\n",
              "      <th>OrigUPB</th>\n",
              "      <th>LTV</th>\n",
              "      <th>OrigInterestRate</th>\n",
              "      <th>OrigLoanTerm</th>\n",
              "      <th>EverDelinquent</th>\n",
              "      <th>MonthsDelinquent</th>\n",
              "      <th>MonthsInRepayment</th>\n",
              "    </tr>\n",
              "  </thead>\n",
              "  <tbody>\n",
              "    <tr>\n",
              "      <th>CreditScore</th>\n",
              "      <td>1.000000</td>\n",
              "      <td>0.003048</td>\n",
              "      <td>-0.047707</td>\n",
              "      <td>0.023480</td>\n",
              "      <td>0.066568</td>\n",
              "      <td>0.030580</td>\n",
              "      <td>0.023506</td>\n",
              "      <td>-0.014325</td>\n",
              "      <td>0.016288</td>\n",
              "      <td>0.040943</td>\n",
              "      <td>0.015744</td>\n",
              "      <td>-0.018149</td>\n",
              "    </tr>\n",
              "    <tr>\n",
              "      <th>MIP</th>\n",
              "      <td>0.003048</td>\n",
              "      <td>1.000000</td>\n",
              "      <td>-0.049608</td>\n",
              "      <td>0.775640</td>\n",
              "      <td>0.051268</td>\n",
              "      <td>0.063941</td>\n",
              "      <td>0.776343</td>\n",
              "      <td>0.105251</td>\n",
              "      <td>0.004471</td>\n",
              "      <td>0.021253</td>\n",
              "      <td>0.017184</td>\n",
              "      <td>-0.100272</td>\n",
              "    </tr>\n",
              "    <tr>\n",
              "      <th>Units</th>\n",
              "      <td>-0.047707</td>\n",
              "      <td>-0.049608</td>\n",
              "      <td>1.000000</td>\n",
              "      <td>-0.067559</td>\n",
              "      <td>-0.002820</td>\n",
              "      <td>0.055076</td>\n",
              "      <td>-0.067461</td>\n",
              "      <td>0.037093</td>\n",
              "      <td>-0.001485</td>\n",
              "      <td>0.002862</td>\n",
              "      <td>-0.010009</td>\n",
              "      <td>0.001333</td>\n",
              "    </tr>\n",
              "    <tr>\n",
              "      <th>OCLTV</th>\n",
              "      <td>0.023480</td>\n",
              "      <td>0.775640</td>\n",
              "      <td>-0.067559</td>\n",
              "      <td>1.000000</td>\n",
              "      <td>0.041336</td>\n",
              "      <td>0.118958</td>\n",
              "      <td>0.999363</td>\n",
              "      <td>0.052606</td>\n",
              "      <td>0.004108</td>\n",
              "      <td>0.026037</td>\n",
              "      <td>0.029204</td>\n",
              "      <td>-0.091708</td>\n",
              "    </tr>\n",
              "    <tr>\n",
              "      <th>DTI</th>\n",
              "      <td>0.066568</td>\n",
              "      <td>0.051268</td>\n",
              "      <td>-0.002820</td>\n",
              "      <td>0.041336</td>\n",
              "      <td>1.000000</td>\n",
              "      <td>0.082073</td>\n",
              "      <td>0.041020</td>\n",
              "      <td>0.075638</td>\n",
              "      <td>0.042577</td>\n",
              "      <td>0.022632</td>\n",
              "      <td>0.016989</td>\n",
              "      <td>-0.011202</td>\n",
              "    </tr>\n",
              "    <tr>\n",
              "      <th>OrigUPB</th>\n",
              "      <td>0.030580</td>\n",
              "      <td>0.063941</td>\n",
              "      <td>0.055076</td>\n",
              "      <td>0.118958</td>\n",
              "      <td>0.082073</td>\n",
              "      <td>1.000000</td>\n",
              "      <td>0.118427</td>\n",
              "      <td>-0.106591</td>\n",
              "      <td>-0.005947</td>\n",
              "      <td>-0.068214</td>\n",
              "      <td>-0.090749</td>\n",
              "      <td>-0.190779</td>\n",
              "    </tr>\n",
              "    <tr>\n",
              "      <th>LTV</th>\n",
              "      <td>0.023506</td>\n",
              "      <td>0.776343</td>\n",
              "      <td>-0.067461</td>\n",
              "      <td>0.999363</td>\n",
              "      <td>0.041020</td>\n",
              "      <td>0.118427</td>\n",
              "      <td>1.000000</td>\n",
              "      <td>0.053161</td>\n",
              "      <td>0.004018</td>\n",
              "      <td>0.026208</td>\n",
              "      <td>0.029315</td>\n",
              "      <td>-0.092216</td>\n",
              "    </tr>\n",
              "    <tr>\n",
              "      <th>OrigInterestRate</th>\n",
              "      <td>-0.014325</td>\n",
              "      <td>0.105251</td>\n",
              "      <td>0.037093</td>\n",
              "      <td>0.052606</td>\n",
              "      <td>0.075638</td>\n",
              "      <td>-0.106591</td>\n",
              "      <td>0.053161</td>\n",
              "      <td>1.000000</td>\n",
              "      <td>-0.022377</td>\n",
              "      <td>0.036954</td>\n",
              "      <td>0.032178</td>\n",
              "      <td>-0.115564</td>\n",
              "    </tr>\n",
              "    <tr>\n",
              "      <th>OrigLoanTerm</th>\n",
              "      <td>0.016288</td>\n",
              "      <td>0.004471</td>\n",
              "      <td>-0.001485</td>\n",
              "      <td>0.004108</td>\n",
              "      <td>0.042577</td>\n",
              "      <td>-0.005947</td>\n",
              "      <td>0.004018</td>\n",
              "      <td>-0.022377</td>\n",
              "      <td>1.000000</td>\n",
              "      <td>0.007512</td>\n",
              "      <td>0.010370</td>\n",
              "      <td>0.012345</td>\n",
              "    </tr>\n",
              "    <tr>\n",
              "      <th>EverDelinquent</th>\n",
              "      <td>0.040943</td>\n",
              "      <td>0.021253</td>\n",
              "      <td>0.002862</td>\n",
              "      <td>0.026037</td>\n",
              "      <td>0.022632</td>\n",
              "      <td>-0.068214</td>\n",
              "      <td>0.026208</td>\n",
              "      <td>0.036954</td>\n",
              "      <td>0.007512</td>\n",
              "      <td>1.000000</td>\n",
              "      <td>0.433005</td>\n",
              "      <td>0.276721</td>\n",
              "    </tr>\n",
              "    <tr>\n",
              "      <th>MonthsDelinquent</th>\n",
              "      <td>0.015744</td>\n",
              "      <td>0.017184</td>\n",
              "      <td>-0.010009</td>\n",
              "      <td>0.029204</td>\n",
              "      <td>0.016989</td>\n",
              "      <td>-0.090749</td>\n",
              "      <td>0.029315</td>\n",
              "      <td>0.032178</td>\n",
              "      <td>0.010370</td>\n",
              "      <td>0.433005</td>\n",
              "      <td>1.000000</td>\n",
              "      <td>0.461896</td>\n",
              "    </tr>\n",
              "    <tr>\n",
              "      <th>MonthsInRepayment</th>\n",
              "      <td>-0.018149</td>\n",
              "      <td>-0.100272</td>\n",
              "      <td>0.001333</td>\n",
              "      <td>-0.091708</td>\n",
              "      <td>-0.011202</td>\n",
              "      <td>-0.190779</td>\n",
              "      <td>-0.092216</td>\n",
              "      <td>-0.115564</td>\n",
              "      <td>0.012345</td>\n",
              "      <td>0.276721</td>\n",
              "      <td>0.461896</td>\n",
              "      <td>1.000000</td>\n",
              "    </tr>\n",
              "  </tbody>\n",
              "</table>\n",
              "</div>\n",
              "      <button class=\"colab-df-convert\" onclick=\"convertToInteractive('df-9c614c0d-bd6f-40eb-b09c-549e000d2aa0')\"\n",
              "              title=\"Convert this dataframe to an interactive table.\"\n",
              "              style=\"display:none;\">\n",
              "        \n",
              "  <svg xmlns=\"http://www.w3.org/2000/svg\" height=\"24px\"viewBox=\"0 0 24 24\"\n",
              "       width=\"24px\">\n",
              "    <path d=\"M0 0h24v24H0V0z\" fill=\"none\"/>\n",
              "    <path d=\"M18.56 5.44l.94 2.06.94-2.06 2.06-.94-2.06-.94-.94-2.06-.94 2.06-2.06.94zm-11 1L8.5 8.5l.94-2.06 2.06-.94-2.06-.94L8.5 2.5l-.94 2.06-2.06.94zm10 10l.94 2.06.94-2.06 2.06-.94-2.06-.94-.94-2.06-.94 2.06-2.06.94z\"/><path d=\"M17.41 7.96l-1.37-1.37c-.4-.4-.92-.59-1.43-.59-.52 0-1.04.2-1.43.59L10.3 9.45l-7.72 7.72c-.78.78-.78 2.05 0 2.83L4 21.41c.39.39.9.59 1.41.59.51 0 1.02-.2 1.41-.59l7.78-7.78 2.81-2.81c.8-.78.8-2.07 0-2.86zM5.41 20L4 18.59l7.72-7.72 1.47 1.35L5.41 20z\"/>\n",
              "  </svg>\n",
              "      </button>\n",
              "      \n",
              "  <style>\n",
              "    .colab-df-container {\n",
              "      display:flex;\n",
              "      flex-wrap:wrap;\n",
              "      gap: 12px;\n",
              "    }\n",
              "\n",
              "    .colab-df-convert {\n",
              "      background-color: #E8F0FE;\n",
              "      border: none;\n",
              "      border-radius: 50%;\n",
              "      cursor: pointer;\n",
              "      display: none;\n",
              "      fill: #1967D2;\n",
              "      height: 32px;\n",
              "      padding: 0 0 0 0;\n",
              "      width: 32px;\n",
              "    }\n",
              "\n",
              "    .colab-df-convert:hover {\n",
              "      background-color: #E2EBFA;\n",
              "      box-shadow: 0px 1px 2px rgba(60, 64, 67, 0.3), 0px 1px 3px 1px rgba(60, 64, 67, 0.15);\n",
              "      fill: #174EA6;\n",
              "    }\n",
              "\n",
              "    [theme=dark] .colab-df-convert {\n",
              "      background-color: #3B4455;\n",
              "      fill: #D2E3FC;\n",
              "    }\n",
              "\n",
              "    [theme=dark] .colab-df-convert:hover {\n",
              "      background-color: #434B5C;\n",
              "      box-shadow: 0px 1px 3px 1px rgba(0, 0, 0, 0.15);\n",
              "      filter: drop-shadow(0px 1px 2px rgba(0, 0, 0, 0.3));\n",
              "      fill: #FFFFFF;\n",
              "    }\n",
              "  </style>\n",
              "\n",
              "      <script>\n",
              "        const buttonEl =\n",
              "          document.querySelector('#df-9c614c0d-bd6f-40eb-b09c-549e000d2aa0 button.colab-df-convert');\n",
              "        buttonEl.style.display =\n",
              "          google.colab.kernel.accessAllowed ? 'block' : 'none';\n",
              "\n",
              "        async function convertToInteractive(key) {\n",
              "          const element = document.querySelector('#df-9c614c0d-bd6f-40eb-b09c-549e000d2aa0');\n",
              "          const dataTable =\n",
              "            await google.colab.kernel.invokeFunction('convertToInteractive',\n",
              "                                                     [key], {});\n",
              "          if (!dataTable) return;\n",
              "\n",
              "          const docLinkHtml = 'Like what you see? Visit the ' +\n",
              "            '<a target=\"_blank\" href=https://colab.research.google.com/notebooks/data_table.ipynb>data table notebook</a>'\n",
              "            + ' to learn more about interactive tables.';\n",
              "          element.innerHTML = '';\n",
              "          dataTable['output_type'] = 'display_data';\n",
              "          await google.colab.output.renderOutput(dataTable, element);\n",
              "          const docLink = document.createElement('div');\n",
              "          docLink.innerHTML = docLinkHtml;\n",
              "          element.appendChild(docLink);\n",
              "        }\n",
              "      </script>\n",
              "    </div>\n",
              "  </div>\n",
              "  "
            ]
          },
          "metadata": {},
          "execution_count": 17
        }
      ]
    },
    {
      "cell_type": "code",
      "source": [
        "#count/find null values\n",
        "missing_values= Loan_data.isnull().sum()\n",
        "missing_values"
      ],
      "metadata": {
        "colab": {
          "base_uri": "https://localhost:8080/"
        },
        "id": "pik5v7G2AFTf",
        "outputId": "6a6c4dc9-1361-4b23-f6ff-03594f9eeed3"
      },
      "execution_count": 18,
      "outputs": [
        {
          "output_type": "execute_result",
          "data": {
            "text/plain": [
              "CreditScore              0\n",
              "FirstPaymentDate         0\n",
              "FirstTimeHomebuyer       0\n",
              "MaturityDate             0\n",
              "MSA                      0\n",
              "MIP                      0\n",
              "Units                    0\n",
              "Occupancy                0\n",
              "OCLTV                    0\n",
              "DTI                      0\n",
              "OrigUPB                  0\n",
              "LTV                      0\n",
              "OrigInterestRate         0\n",
              "Channel                  0\n",
              "PPM                      0\n",
              "ProductType              0\n",
              "PropertyState            0\n",
              "PropertyType             1\n",
              "PostalCode               1\n",
              "LoanSeqNum               1\n",
              "LoanPurpose              1\n",
              "OrigLoanTerm             1\n",
              "NumBorrowers             1\n",
              "SellerName            2708\n",
              "ServicerName             1\n",
              "EverDelinquent           1\n",
              "MonthsDelinquent         1\n",
              "MonthsInRepayment        1\n",
              "dtype: int64"
            ]
          },
          "metadata": {},
          "execution_count": 18
        }
      ]
    },
    {
      "cell_type": "code",
      "source": [
        "#total missing values\n",
        "total_missing_values= missing_values.sum()\n",
        "print(\"total missing values= \", total_missing_values)\n",
        "\n",
        "#count total cells\n",
        "total_cells = np.product(Loan_data.shape)\n",
        "print(\"total number of cells= \", total_cells)\n",
        "\n",
        "#percentage of total missing values\n",
        "total_missing_values_percentage= (total_missing_values/total_cells)*100\n",
        "print(\"percent of total missing values= %\" ,total_missing_values_percentage)"
      ],
      "metadata": {
        "colab": {
          "base_uri": "https://localhost:8080/"
        },
        "id": "gbIAeie2NbS9",
        "outputId": "ddf620ca-9f55-416a-c8ae-6dbf79dd9a67"
      },
      "execution_count": 19,
      "outputs": [
        {
          "output_type": "stream",
          "name": "stdout",
          "text": [
            "total missing values=  2718\n",
            "total number of cells=  926436\n",
            "percent of total missing values= % 0.29338238151367174\n"
          ]
        }
      ]
    },
    {
      "cell_type": "code",
      "source": [
        "#bar plot showing where is missing values\n",
        "msno.bar(Loan_data)"
      ],
      "metadata": {
        "id": "kSWIQZX5Atcj",
        "colab": {
          "base_uri": "https://localhost:8080/",
          "height": 498
        },
        "outputId": "de11c032-4abc-4348-f671-04984edd4148"
      },
      "execution_count": 20,
      "outputs": [
        {
          "output_type": "execute_result",
          "data": {
            "text/plain": [
              "<matplotlib.axes._subplots.AxesSubplot at 0x7f385a86a310>"
            ]
          },
          "metadata": {},
          "execution_count": 20
        },
        {
          "output_type": "display_data",
          "data": {
            "text/plain": [
              "<Figure size 1800x720 with 3 Axes>"
            ],
            "image/png": "[encoded data removed]"
          },
          "metadata": {
            "needs_background": "light"
          }
        }
      ]
    },
    {
      "cell_type": "code",
      "source": [
        "#plot shows position of missing values\n",
        "msno.matrix(Loan_data)"
      ],
      "metadata": {
        "colab": {
          "base_uri": "https://localhost:8080/",
          "height": 478
        },
        "id": "Rpx2Nrz2HP-P",
        "outputId": "4bb8ab43-f02a-4264-8ac2-6536d23c5a22"
      },
      "execution_count": 21,
      "outputs": [
        {
          "output_type": "execute_result",
          "data": {
            "text/plain": [
              "<matplotlib.axes._subplots.AxesSubplot at 0x7f38579244d0>"
            ]
          },
          "metadata": {},
          "execution_count": 21
        },
        {
          "output_type": "display_data",
          "data": {
            "text/plain": [
              "<Figure size 1800x720 with 2 Axes>"
            ],
            "image/png": "[encoded data removed]"
          },
          "metadata": {
            "needs_background": "light"
          }
        }
      ]
    },
    {
      "cell_type": "code",
      "source": [
        " # filling null values . \n",
        "Loan_data [\"SellerName\"].fillna(\"No Seller Name\", inplace = True)"
      ],
      "metadata": {
        "id": "KUnTQXM3OhnR"
      },
      "execution_count": 22,
      "outputs": []
    },
    {
      "cell_type": "code",
      "source": [
        "Loan_data['SellerName'].isnull().sum()"
      ],
      "metadata": {
        "colab": {
          "base_uri": "https://localhost:8080/"
        },
        "id": "XCiRBOqDP79t",
        "outputId": "05ef0114-3013-4bf2-c86b-ba7ef00d6a2e"
      },
      "execution_count": 23,
      "outputs": [
        {
          "output_type": "execute_result",
          "data": {
            "text/plain": [
              "0"
            ]
          },
          "metadata": {},
          "execution_count": 23
        }
      ]
    },
    {
      "cell_type": "code",
      "source": [
        "Loan_data['FirstTimeHomebuyer'].unique()"
      ],
      "metadata": {
        "colab": {
          "base_uri": "https://localhost:8080/"
        },
        "id": "w2WJfip4Qwbq",
        "outputId": "fa076c4c-b9c6-4e94-a3e4-4f4a4cd68419"
      },
      "execution_count": 24,
      "outputs": [
        {
          "output_type": "execute_result",
          "data": {
            "text/plain": [
              "array(['N', 'X', 'Y'], dtype=object)"
            ]
          },
          "metadata": {},
          "execution_count": 24
        }
      ]
    },
    {
      "cell_type": "code",
      "source": [
        "plt.figure(figsize=(5, 5))\n",
        "sns.countplot(Loan_data.FirstTimeHomebuyer)"
      ],
      "metadata": {
        "colab": {
          "base_uri": "https://localhost:8080/",
          "height": 406
        },
        "id": "_legUrnoREKA",
        "outputId": "7217945c-8343-4b04-fe9a-081f29f45d0a"
      },
      "execution_count": 25,
      "outputs": [
        {
          "output_type": "stream",
          "name": "stderr",
          "text": [
            "/usr/local/lib/python3.7/dist-packages/seaborn/_decorators.py:43: FutureWarning: Pass the following variable as a keyword arg: x. From version 0.12, the only valid positional argument will be `data`, and passing other arguments without an explicit keyword will result in an error or misinterpretation.\n",
            "  FutureWarning\n"
          ]
        },
        {
          "output_type": "execute_result",
          "data": {
            "text/plain": [
              "<matplotlib.axes._subplots.AxesSubplot at 0x7f3857db7e50>"
            ]
          },
          "metadata": {},
          "execution_count": 25
        },
        {
          "output_type": "display_data",
          "data": {
            "text/plain": [
              "<Figure size 360x360 with 1 Axes>"
            ],
            "image/png": "[encoded data removed]"
          },
          "metadata": {
            "needs_background": "light"
          }
        }
      ]
    },
    {
      "cell_type": "code",
      "source": [
        "plt.figure(figsize=(25,15))\n",
        "sns.heatmap(Loan_data.corr(),vmax=1, square=True,annot=True, cmap='viridis')\n",
        "plt.title('Correlation between different attributes')\n",
        "plt.show()"
      ],
      "metadata": {
        "colab": {
          "base_uri": "https://localhost:8080/",
          "height": 857
        },
        "id": "0jEQw3aHSL2Q",
        "outputId": "b4cbf15e-198b-4df6-f968-1d43b097fd06"
      },
      "execution_count": 26,
      "outputs": [
        {
          "output_type": "display_data",
          "data": {
            "text/plain": [
              "<Figure size 1800x1080 with 2 Axes>"
            ],
            "image/png": "[encoded data removed]"
          },
          "metadata": {
            "needs_background": "light"
          }
        }
      ]
    },
    {
      "cell_type": "code",
      "source": [
        "Loan_data['Occupancy'].unique()"
      ],
      "metadata": {
        "colab": {
          "base_uri": "https://localhost:8080/"
        },
        "id": "laGlouoISmDm",
        "outputId": "6efdbf2b-846f-42ef-a0df-44fe24756a94"
      },
      "execution_count": 27,
      "outputs": [
        {
          "output_type": "execute_result",
          "data": {
            "text/plain": [
              "array(['O', 'I', 'S'], dtype=object)"
            ]
          },
          "metadata": {},
          "execution_count": 27
        }
      ]
    },
    {
      "cell_type": "code",
      "source": [
        "plt.figure(figsize=(5, 5))\n",
        "sns.countplot(Loan_data.Occupancy)"
      ],
      "metadata": {
        "colab": {
          "base_uri": "https://localhost:8080/",
          "height": 406
        },
        "id": "C1kb5W54Tcll",
        "outputId": "4dca8eae-5922-40d7-e1c7-a2e5fe4c4a9b"
      },
      "execution_count": 28,
      "outputs": [
        {
          "output_type": "stream",
          "name": "stderr",
          "text": [
            "/usr/local/lib/python3.7/dist-packages/seaborn/_decorators.py:43: FutureWarning: Pass the following variable as a keyword arg: x. From version 0.12, the only valid positional argument will be `data`, and passing other arguments without an explicit keyword will result in an error or misinterpretation.\n",
            "  FutureWarning\n"
          ]
        },
        {
          "output_type": "execute_result",
          "data": {
            "text/plain": [
              "<matplotlib.axes._subplots.AxesSubplot at 0x7f3855f23790>"
            ]
          },
          "metadata": {},
          "execution_count": 28
        },
        {
          "output_type": "display_data",
          "data": {
            "text/plain": [
              "<Figure size 360x360 with 1 Axes>"
            ],
            "image/png": "[encoded data removed]"
          },
          "metadata": {
            "needs_background": "light"
          }
        }
      ]
    },
    {
      "cell_type": "code",
      "source": [
        "plt.figure(figsize=(20, 10))\n",
        "sns.countplot(Loan_data.PropertyState)"
      ],
      "metadata": {
        "colab": {
          "base_uri": "https://localhost:8080/",
          "height": 561
        },
        "id": "4Lql29BXVuc4",
        "outputId": "b1ebcb35-b492-4464-d578-bf4eb32b62d0"
      },
      "execution_count": 29,
      "outputs": [
        {
          "output_type": "stream",
          "name": "stderr",
          "text": [
            "/usr/local/lib/python3.7/dist-packages/seaborn/_decorators.py:43: FutureWarning: Pass the following variable as a keyword arg: x. From version 0.12, the only valid positional argument will be `data`, and passing other arguments without an explicit keyword will result in an error or misinterpretation.\n",
            "  FutureWarning\n"
          ]
        },
        {
          "output_type": "execute_result",
          "data": {
            "text/plain": [
              "<matplotlib.axes._subplots.AxesSubplot at 0x7f3855d10890>"
            ]
          },
          "metadata": {},
          "execution_count": 29
        },
        {
          "output_type": "display_data",
          "data": {
            "text/plain": [
              "<Figure size 1440x720 with 1 Axes>"
            ],
            "image/png": "[encoded data removed]"
          },
          "metadata": {
            "needs_background": "light"
          }
        }
      ]
    },
    {
      "cell_type": "code",
      "source": [
        "Loan_data['Channel'].unique()"
      ],
      "metadata": {
        "colab": {
          "base_uri": "https://localhost:8080/"
        },
        "id": "O0CiLu6-BFtB",
        "outputId": "7129834d-f19a-4c8d-a4fd-3bf8754c3f31"
      },
      "execution_count": 35,
      "outputs": [
        {
          "output_type": "execute_result",
          "data": {
            "text/plain": [
              "array(['T', 'R', 'C', 'B'], dtype=object)"
            ]
          },
          "metadata": {},
          "execution_count": 35
        }
      ]
    },
    {
      "cell_type": "code",
      "source": [
        "sns.countplot(Loan_data.Channel)"
      ],
      "metadata": {
        "colab": {
          "base_uri": "https://localhost:8080/",
          "height": 351
        },
        "id": "ibzuh5dkJunI",
        "outputId": "5a29e080-9177-48d7-beb9-4e6ea5b09454"
      },
      "execution_count": 36,
      "outputs": [
        {
          "output_type": "stream",
          "name": "stderr",
          "text": [
            "/usr/local/lib/python3.7/dist-packages/seaborn/_decorators.py:43: FutureWarning: Pass the following variable as a keyword arg: x. From version 0.12, the only valid positional argument will be `data`, and passing other arguments without an explicit keyword will result in an error or misinterpretation.\n",
            "  FutureWarning\n"
          ]
        },
        {
          "output_type": "execute_result",
          "data": {
            "text/plain": [
              "<matplotlib.axes._subplots.AxesSubplot at 0x7f3853beefd0>"
            ]
          },
          "metadata": {},
          "execution_count": 36
        },
        {
          "output_type": "display_data",
          "data": {
            "text/plain": [
              "<Figure size 432x288 with 1 Axes>"
            ],
            "image/png": "[encoded data removed]"
          },
          "metadata": {
            "needs_background": "light"
          }
        }
      ]
    },
    {
      "cell_type": "code",
      "source": [
        "Loan_data['SellerName'].unique()"
      ],
      "metadata": {
        "colab": {
          "base_uri": "https://localhost:8080/"
        },
        "id": "hgH9bVXpLVUd",
        "outputId": "a7da1850-203a-4a36-d60b-067333a7c02b"
      },
      "execution_count": 42,
      "outputs": [
        {
          "output_type": "execute_result",
          "data": {
            "text/plain": [
              "array(['FL', 'FT', 'GM', 'Ot', 'RE', 'NO', 'ST', 'CR', 'CH', 'FI', 'HO',\n",
              "       'PR', 'No Seller Name', 'PN', 'WA', 'BA', 'G ', 'OL', 'AC', 'CO',\n",
              "       'BI'], dtype=object)"
            ]
          },
          "metadata": {},
          "execution_count": 42
        }
      ]
    },
    {
      "cell_type": "code",
      "source": [
        "Loan_data['NumBorrowers'].unique()"
      ],
      "metadata": {
        "colab": {
          "base_uri": "https://localhost:8080/"
        },
        "id": "NDGR4l9cSpc6",
        "outputId": "225792c9-25e7-48e0-a41f-5d19a9a95704"
      },
      "execution_count": 44,
      "outputs": [
        {
          "output_type": "execute_result",
          "data": {
            "text/plain": [
              "array(['2', '1', 'X ', 1.0, 2.0, nan], dtype=object)"
            ]
          },
          "metadata": {},
          "execution_count": 44
        }
      ]
    },
    {
      "cell_type": "code",
      "source": [
        "Loan_data['SellerName'].value_counts(normalize=True).plot.bar(figsize=(20,10), title='SellerName')"
      ],
      "metadata": {
        "colab": {
          "base_uri": "https://localhost:8080/",
          "height": 570
        },
        "id": "aTZeB8q5Zrsj",
        "outputId": "aad5203d-b6c6-4ef5-9a26-ae44355c3835"
      },
      "execution_count": 49,
      "outputs": [
        {
          "output_type": "execute_result",
          "data": {
            "text/plain": [
              "<matplotlib.axes._subplots.AxesSubplot at 0x7f38533f3d10>"
            ]
          },
          "metadata": {},
          "execution_count": 49
        },
        {
          "output_type": "display_data",
          "data": {
            "text/plain": [
              "<Figure size 1440x720 with 1 Axes>"
            ],
            "image/png": "[encoded data removed]"
          },
          "metadata": {
            "needs_background": "light"
          }
        }
      ]
    }
  ]
}