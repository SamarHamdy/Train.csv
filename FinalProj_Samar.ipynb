{
  "nbformat": 4,
  "nbformat_minor": 0,
  "metadata": {
    "colab": {
      "name": "FinalProj Samar.ipynb",
      "provenance": [],
      "collapsed_sections": [],
      "authorship_tag": "ABX9TyNFaB2/d6MIP9xPqNWpEHAJ",
      "include_colab_link": true
    },
    "kernelspec": {
      "name": "python3",
      "display_name": "Python 3"
    },
    "language_info": {
      "name": "python"
    }
  },
  "cells": [
    {
      "cell_type": "markdown",
      "metadata": {
        "id": "view-in-github",
        "colab_type": "text"
      },
      "source": [
        "<a href=\"https://colab.research.google.com/github/SamarHamdy/Train.csv/blob/main/FinalProj_Samar.ipynb\" target=\"_parent\"><img src=\"https://colab.research.google.com/assets/colab-badge.svg\" alt=\"Open In Colab\"/></a>"
      ]
    },
    {
      "cell_type": "code",
      "execution_count": 1,
      "metadata": {
        "id": "DLT83EyG4XTv"
      },
      "outputs": [],
      "source": [
        "import numpy as np\n",
        "import pandas as pd\n",
        "import matplotlib as mtl\n",
        "import matplotlib.pyplot as plt\n",
        "import seaborn as sns\n",
        "from sklearn.model_selection import train_test_split\n",
        "from sklearn import svm\n",
        "from sklearn.metrics import accuracy_score\n",
        "import missingno as msno\n",
        "%matplotlib inline"
      ]
    },
    {
      "cell_type": "code",
      "source": [
        "filename='LoanExport.csv'\n",
        "Loan_data= pd.read_csv(filename)"
      ],
      "metadata": {
        "colab": {
          "base_uri": "https://localhost:8080/"
        },
        "id": "hiOfE-rrD3Jh",
        "outputId": "44620713-b8be-4673-a3c4-7df6d7a40cdf"
      },
      "execution_count": 2,
      "outputs": [
        {
          "output_type": "stream",
          "name": "stderr",
          "text": [
            "/usr/local/lib/python3.7/dist-packages/IPython/core/interactiveshell.py:2882: DtypeWarning: Columns (18) have mixed types.Specify dtype option on import or set low_memory=False.\n",
            "  exec(code_obj, self.user_global_ns, self.user_ns)\n"
          ]
        }
      ]
    },
    {
      "cell_type": "code",
      "source": [
        "type(Loan_data)"
      ],
      "metadata": {
        "colab": {
          "base_uri": "https://localhost:8080/"
        },
        "id": "hwIPjFfogYBX",
        "outputId": "573f43de-9955-4381-beda-b9fb9268124a"
      },
      "execution_count": 3,
      "outputs": [
        {
          "output_type": "execute_result",
          "data": {
            "text/plain": [
              "pandas.core.frame.DataFrame"
            ]
          },
          "metadata": {},
          "execution_count": 3
        }
      ]
    },
    {
      "cell_type": "code",
      "source": [
        "print(Loan_data.shape)"
      ],
      "metadata": {
        "colab": {
          "base_uri": "https://localhost:8080/"
        },
        "id": "3B072bNS7MCn",
        "outputId": "08ee6b32-db38-4607-9741-93ea9b9bd5c9"
      },
      "execution_count": 4,
      "outputs": [
        {
          "output_type": "stream",
          "name": "stdout",
          "text": [
            "(206934, 28)\n"
          ]
        }
      ]
    },
    {
      "cell_type": "code",
      "source": [
        "print(Loan_data.columns)"
      ],
      "metadata": {
        "colab": {
          "base_uri": "https://localhost:8080/"
        },
        "id": "9_A4j13D7lAA",
        "outputId": "5936c7ed-c860-4c04-8377-46d5bbabc1c6"
      },
      "execution_count": 5,
      "outputs": [
        {
          "output_type": "stream",
          "name": "stdout",
          "text": [
            "Index(['CreditScore', 'FirstPaymentDate', 'FirstTimeHomebuyer', 'MaturityDate',\n",
            "       'MSA', 'MIP', 'Units', 'Occupancy', 'OCLTV', 'DTI', 'OrigUPB', 'LTV',\n",
            "       'OrigInterestRate', 'Channel', 'PPM', 'ProductType', 'PropertyState',\n",
            "       'PropertyType', 'PostalCode', 'LoanSeqNum', 'LoanPurpose',\n",
            "       'OrigLoanTerm', 'NumBorrowers', 'SellerName', 'ServicerName',\n",
            "       'EverDelinquent', 'MonthsDelinquent', 'MonthsInRepayment'],\n",
            "      dtype='object')\n"
          ]
        }
      ]
    },
    {
      "cell_type": "code",
      "source": [
        "Loan_data.dtypes"
      ],
      "metadata": {
        "colab": {
          "base_uri": "https://localhost:8080/"
        },
        "id": "9O1G92L476yx",
        "outputId": "46832ed5-324d-40d7-92c4-39fd7884ce62"
      },
      "execution_count": 6,
      "outputs": [
        {
          "output_type": "execute_result",
          "data": {
            "text/plain": [
              "CreditScore             int64\n",
              "FirstPaymentDate        int64\n",
              "FirstTimeHomebuyer     object\n",
              "MaturityDate            int64\n",
              "MSA                    object\n",
              "MIP                     int64\n",
              "Units                   int64\n",
              "Occupancy              object\n",
              "OCLTV                   int64\n",
              "DTI                     int64\n",
              "OrigUPB                 int64\n",
              "LTV                   float64\n",
              "OrigInterestRate      float64\n",
              "Channel                object\n",
              "PPM                    object\n",
              "ProductType            object\n",
              "PropertyState          object\n",
              "PropertyType           object\n",
              "PostalCode             object\n",
              "LoanSeqNum             object\n",
              "LoanPurpose            object\n",
              "OrigLoanTerm          float64\n",
              "NumBorrowers           object\n",
              "SellerName             object\n",
              "ServicerName           object\n",
              "EverDelinquent        float64\n",
              "MonthsDelinquent      float64\n",
              "MonthsInRepayment     float64\n",
              "dtype: object"
            ]
          },
          "metadata": {},
          "execution_count": 6
        }
      ]
    },
    {
      "cell_type": "code",
      "source": [
        "#count data types\n",
        "Loan_data.dtypes.value_counts()"
      ],
      "metadata": {
        "colab": {
          "base_uri": "https://localhost:8080/"
        },
        "id": "XUpJzJUtGKUy",
        "outputId": "91e83e92-adb2-4897-bb03-f2d74f2c053e"
      },
      "execution_count": 7,
      "outputs": [
        {
          "output_type": "execute_result",
          "data": {
            "text/plain": [
              "object     14\n",
              "int64       8\n",
              "float64     6\n",
              "dtype: int64"
            ]
          },
          "metadata": {},
          "execution_count": 7
        }
      ]
    },
    {
      "cell_type": "code",
      "source": [
        "Loan_data.describe()\n"
      ],
      "metadata": {
        "colab": {
          "base_uri": "https://localhost:8080/",
          "height": 364
        },
        "id": "PnTVgb_I8JGJ",
        "outputId": "11a1075c-5faf-4fc0-845c-7ed8956ebcfd"
      },
      "execution_count": null,
      "outputs": [
        {
          "output_type": "execute_result",
          "data": {
            "text/plain": [
              "         CreditScore  FirstPaymentDate   MaturityDate            MIP  \\\n",
              "count  291451.000000     291451.000000  291451.000000  291451.000000   \n",
              "mean      708.936991     199904.760553  202902.367043       9.216685   \n",
              "std        68.408791         13.821228      16.090508      12.648273   \n",
              "min         0.000000     199901.000000  202402.000000       0.000000   \n",
              "25%       675.000000     199903.000000  202902.000000       0.000000   \n",
              "50%       717.000000     199904.000000  202903.000000       0.000000   \n",
              "75%       753.000000     199905.000000  202904.000000      25.000000   \n",
              "max       849.000000     201303.000000  204302.000000      55.000000   \n",
              "\n",
              "               Units          OCLTV            DTI        OrigUPB  \\\n",
              "count  291451.000000  291451.000000  291451.000000  291451.000000   \n",
              "mean        1.026022      76.960529      30.033453  124940.387921   \n",
              "std         0.202986      15.236154      13.203974   53657.440624   \n",
              "min         0.000000       0.000000       0.000000    8000.000000   \n",
              "25%         1.000000      70.000000      22.000000   83000.000000   \n",
              "50%         1.000000      80.000000      31.000000  117000.000000   \n",
              "75%         1.000000      90.000000      39.000000  160000.000000   \n",
              "max         4.000000     110.000000      65.000000  497000.000000   \n",
              "\n",
              "                 LTV  OrigInterestRate   OrigLoanTerm  EverDelinquent  \\\n",
              "count  291451.000000     291451.000000  291451.000000   291451.000000   \n",
              "mean       76.937986          6.926547     359.835375        0.197848   \n",
              "std        15.225298          0.343541       2.286939        0.398378   \n",
              "min         0.000000          4.000000     301.000000        0.000000   \n",
              "25%        70.000000          6.750000     360.000000        0.000000   \n",
              "50%        80.000000          6.875000     360.000000        0.000000   \n",
              "75%        90.000000          7.125000     360.000000        0.000000   \n",
              "max       103.000000         12.350000     361.000000        1.000000   \n",
              "\n",
              "       MonthsDelinquent  MonthsInRepayment  \n",
              "count     291451.000000      291451.000000  \n",
              "mean           1.837729          60.805291  \n",
              "std            8.809392          46.142599  \n",
              "min            0.000000           1.000000  \n",
              "25%            0.000000          34.000000  \n",
              "50%            0.000000          48.000000  \n",
              "75%            0.000000          63.000000  \n",
              "max          180.000000         212.000000  "
            ],
            "text/html": [
              "\n",
              "  <div id=\"df-5d584a2c-88b9-4954-ac50-9e982d9d4b49\">\n",
              "    <div class=\"colab-df-container\">\n",
              "      <div>\n",
              "<style scoped>\n",
              "    .dataframe tbody tr th:only-of-type {\n",
              "        vertical-align: middle;\n",
              "    }\n",
              "\n",
              "    .dataframe tbody tr th {\n",
              "        vertical-align: top;\n",
              "    }\n",
              "\n",
              "    .dataframe thead th {\n",
              "        text-align: right;\n",
              "    }\n",
              "</style>\n",
              "<table border=\"1\" class=\"dataframe\">\n",
              "  <thead>\n",
              "    <tr style=\"text-align: right;\">\n",
              "      <th></th>\n",
              "      <th>CreditScore</th>\n",
              "      <th>FirstPaymentDate</th>\n",
              "      <th>MaturityDate</th>\n",
              "      <th>MIP</th>\n",
              "      <th>Units</th>\n",
              "      <th>OCLTV</th>\n",
              "      <th>DTI</th>\n",
              "      <th>OrigUPB</th>\n",
              "      <th>LTV</th>\n",
              "      <th>OrigInterestRate</th>\n",
              "      <th>OrigLoanTerm</th>\n",
              "      <th>EverDelinquent</th>\n",
              "      <th>MonthsDelinquent</th>\n",
              "      <th>MonthsInRepayment</th>\n",
              "    </tr>\n",
              "  </thead>\n",
              "  <tbody>\n",
              "    <tr>\n",
              "      <th>count</th>\n",
              "      <td>291451.000000</td>\n",
              "      <td>291451.000000</td>\n",
              "      <td>291451.000000</td>\n",
              "      <td>291451.000000</td>\n",
              "      <td>291451.000000</td>\n",
              "      <td>291451.000000</td>\n",
              "      <td>291451.000000</td>\n",
              "      <td>291451.000000</td>\n",
              "      <td>291451.000000</td>\n",
              "      <td>291451.000000</td>\n",
              "      <td>291451.000000</td>\n",
              "      <td>291451.000000</td>\n",
              "      <td>291451.000000</td>\n",
              "      <td>291451.000000</td>\n",
              "    </tr>\n",
              "    <tr>\n",
              "      <th>mean</th>\n",
              "      <td>708.936991</td>\n",
              "      <td>199904.760553</td>\n",
              "      <td>202902.367043</td>\n",
              "      <td>9.216685</td>\n",
              "      <td>1.026022</td>\n",
              "      <td>76.960529</td>\n",
              "      <td>30.033453</td>\n",
              "      <td>124940.387921</td>\n",
              "      <td>76.937986</td>\n",
              "      <td>6.926547</td>\n",
              "      <td>359.835375</td>\n",
              "      <td>0.197848</td>\n",
              "      <td>1.837729</td>\n",
              "      <td>60.805291</td>\n",
              "    </tr>\n",
              "    <tr>\n",
              "      <th>std</th>\n",
              "      <td>68.408791</td>\n",
              "      <td>13.821228</td>\n",
              "      <td>16.090508</td>\n",
              "      <td>12.648273</td>\n",
              "      <td>0.202986</td>\n",
              "      <td>15.236154</td>\n",
              "      <td>13.203974</td>\n",
              "      <td>53657.440624</td>\n",
              "      <td>15.225298</td>\n",
              "      <td>0.343541</td>\n",
              "      <td>2.286939</td>\n",
              "      <td>0.398378</td>\n",
              "      <td>8.809392</td>\n",
              "      <td>46.142599</td>\n",
              "    </tr>\n",
              "    <tr>\n",
              "      <th>min</th>\n",
              "      <td>0.000000</td>\n",
              "      <td>199901.000000</td>\n",
              "      <td>202402.000000</td>\n",
              "      <td>0.000000</td>\n",
              "      <td>0.000000</td>\n",
              "      <td>0.000000</td>\n",
              "      <td>0.000000</td>\n",
              "      <td>8000.000000</td>\n",
              "      <td>0.000000</td>\n",
              "      <td>4.000000</td>\n",
              "      <td>301.000000</td>\n",
              "      <td>0.000000</td>\n",
              "      <td>0.000000</td>\n",
              "      <td>1.000000</td>\n",
              "    </tr>\n",
              "    <tr>\n",
              "      <th>25%</th>\n",
              "      <td>675.000000</td>\n",
              "      <td>199903.000000</td>\n",
              "      <td>202902.000000</td>\n",
              "      <td>0.000000</td>\n",
              "      <td>1.000000</td>\n",
              "      <td>70.000000</td>\n",
              "      <td>22.000000</td>\n",
              "      <td>83000.000000</td>\n",
              "      <td>70.000000</td>\n",
              "      <td>6.750000</td>\n",
              "      <td>360.000000</td>\n",
              "      <td>0.000000</td>\n",
              "      <td>0.000000</td>\n",
              "      <td>34.000000</td>\n",
              "    </tr>\n",
              "    <tr>\n",
              "      <th>50%</th>\n",
              "      <td>717.000000</td>\n",
              "      <td>199904.000000</td>\n",
              "      <td>202903.000000</td>\n",
              "      <td>0.000000</td>\n",
              "      <td>1.000000</td>\n",
              "      <td>80.000000</td>\n",
              "      <td>31.000000</td>\n",
              "      <td>117000.000000</td>\n",
              "      <td>80.000000</td>\n",
              "      <td>6.875000</td>\n",
              "      <td>360.000000</td>\n",
              "      <td>0.000000</td>\n",
              "      <td>0.000000</td>\n",
              "      <td>48.000000</td>\n",
              "    </tr>\n",
              "    <tr>\n",
              "      <th>75%</th>\n",
              "      <td>753.000000</td>\n",
              "      <td>199905.000000</td>\n",
              "      <td>202904.000000</td>\n",
              "      <td>25.000000</td>\n",
              "      <td>1.000000</td>\n",
              "      <td>90.000000</td>\n",
              "      <td>39.000000</td>\n",
              "      <td>160000.000000</td>\n",
              "      <td>90.000000</td>\n",
              "      <td>7.125000</td>\n",
              "      <td>360.000000</td>\n",
              "      <td>0.000000</td>\n",
              "      <td>0.000000</td>\n",
              "      <td>63.000000</td>\n",
              "    </tr>\n",
              "    <tr>\n",
              "      <th>max</th>\n",
              "      <td>849.000000</td>\n",
              "      <td>201303.000000</td>\n",
              "      <td>204302.000000</td>\n",
              "      <td>55.000000</td>\n",
              "      <td>4.000000</td>\n",
              "      <td>110.000000</td>\n",
              "      <td>65.000000</td>\n",
              "      <td>497000.000000</td>\n",
              "      <td>103.000000</td>\n",
              "      <td>12.350000</td>\n",
              "      <td>361.000000</td>\n",
              "      <td>1.000000</td>\n",
              "      <td>180.000000</td>\n",
              "      <td>212.000000</td>\n",
              "    </tr>\n",
              "  </tbody>\n",
              "</table>\n",
              "</div>\n",
              "      <button class=\"colab-df-convert\" onclick=\"convertToInteractive('df-5d584a2c-88b9-4954-ac50-9e982d9d4b49')\"\n",
              "              title=\"Convert this dataframe to an interactive table.\"\n",
              "              style=\"display:none;\">\n",
              "        \n",
              "  <svg xmlns=\"http://www.w3.org/2000/svg\" height=\"24px\"viewBox=\"0 0 24 24\"\n",
              "       width=\"24px\">\n",
              "    <path d=\"M0 0h24v24H0V0z\" fill=\"none\"/>\n",
              "    <path d=\"M18.56 5.44l.94 2.06.94-2.06 2.06-.94-2.06-.94-.94-2.06-.94 2.06-2.06.94zm-11 1L8.5 8.5l.94-2.06 2.06-.94-2.06-.94L8.5 2.5l-.94 2.06-2.06.94zm10 10l.94 2.06.94-2.06 2.06-.94-2.06-.94-.94-2.06-.94 2.06-2.06.94z\"/><path d=\"M17.41 7.96l-1.37-1.37c-.4-.4-.92-.59-1.43-.59-.52 0-1.04.2-1.43.59L10.3 9.45l-7.72 7.72c-.78.78-.78 2.05 0 2.83L4 21.41c.39.39.9.59 1.41.59.51 0 1.02-.2 1.41-.59l7.78-7.78 2.81-2.81c.8-.78.8-2.07 0-2.86zM5.41 20L4 18.59l7.72-7.72 1.47 1.35L5.41 20z\"/>\n",
              "  </svg>\n",
              "      </button>\n",
              "      \n",
              "  <style>\n",
              "    .colab-df-container {\n",
              "      display:flex;\n",
              "      flex-wrap:wrap;\n",
              "      gap: 12px;\n",
              "    }\n",
              "\n",
              "    .colab-df-convert {\n",
              "      background-color: #E8F0FE;\n",
              "      border: none;\n",
              "      border-radius: 50%;\n",
              "      cursor: pointer;\n",
              "      display: none;\n",
              "      fill: #1967D2;\n",
              "      height: 32px;\n",
              "      padding: 0 0 0 0;\n",
              "      width: 32px;\n",
              "    }\n",
              "\n",
              "    .colab-df-convert:hover {\n",
              "      background-color: #E2EBFA;\n",
              "      box-shadow: 0px 1px 2px rgba(60, 64, 67, 0.3), 0px 1px 3px 1px rgba(60, 64, 67, 0.15);\n",
              "      fill: #174EA6;\n",
              "    }\n",
              "\n",
              "    [theme=dark] .colab-df-convert {\n",
              "      background-color: #3B4455;\n",
              "      fill: #D2E3FC;\n",
              "    }\n",
              "\n",
              "    [theme=dark] .colab-df-convert:hover {\n",
              "      background-color: #434B5C;\n",
              "      box-shadow: 0px 1px 3px 1px rgba(0, 0, 0, 0.15);\n",
              "      filter: drop-shadow(0px 1px 2px rgba(0, 0, 0, 0.3));\n",
              "      fill: #FFFFFF;\n",
              "    }\n",
              "  </style>\n",
              "\n",
              "      <script>\n",
              "        const buttonEl =\n",
              "          document.querySelector('#df-5d584a2c-88b9-4954-ac50-9e982d9d4b49 button.colab-df-convert');\n",
              "        buttonEl.style.display =\n",
              "          google.colab.kernel.accessAllowed ? 'block' : 'none';\n",
              "\n",
              "        async function convertToInteractive(key) {\n",
              "          const element = document.querySelector('#df-5d584a2c-88b9-4954-ac50-9e982d9d4b49');\n",
              "          const dataTable =\n",
              "            await google.colab.kernel.invokeFunction('convertToInteractive',\n",
              "                                                     [key], {});\n",
              "          if (!dataTable) return;\n",
              "\n",
              "          const docLinkHtml = 'Like what you see? Visit the ' +\n",
              "            '<a target=\"_blank\" href=https://colab.research.google.com/notebooks/data_table.ipynb>data table notebook</a>'\n",
              "            + ' to learn more about interactive tables.';\n",
              "          element.innerHTML = '';\n",
              "          dataTable['output_type'] = 'display_data';\n",
              "          await google.colab.output.renderOutput(dataTable, element);\n",
              "          const docLink = document.createElement('div');\n",
              "          docLink.innerHTML = docLinkHtml;\n",
              "          element.appendChild(docLink);\n",
              "        }\n",
              "      </script>\n",
              "    </div>\n",
              "  </div>\n",
              "  "
            ]
          },
          "metadata": {},
          "execution_count": 7
        }
      ]
    },
    {
      "cell_type": "markdown",
      "source": [
        "Abbriviations:\n",
        "\n",
        "MSA - Marketing Services Agreements\n",
        "\n",
        "OCLTV - Combined loan-to-value\n",
        "\n",
        "LTV - Loan to value\n",
        "\n",
        "PPM - Private Placement Memorandum\n",
        "\n",
        "MIP% - Mortgag Insurance Percentage / MIP- Mortgage Insurance Premium\n",
        "\n",
        "OCLTV - Original Combined Loan to Value\n",
        "\n",
        "DTI - Debt to Income ratio\n",
        "\n",
        "OrigUPB - Original Unpaid principal balance\n",
        "\n",
        "PPM - Prepayment Penalty Mortgage"
      ],
      "metadata": {
        "id": "4npq1Jx-3AVy"
      }
    },
    {
      "cell_type": "code",
      "source": [
        "Loan_data.head()"
      ],
      "metadata": {
        "colab": {
          "base_uri": "https://localhost:8080/",
          "height": 300
        },
        "id": "fk_baSA1-irt",
        "outputId": "d9e588a0-8168-4dba-dca2-35ca31cc3243"
      },
      "execution_count": 8,
      "outputs": [
        {
          "output_type": "execute_result",
          "data": {
            "text/plain": [
              "   CreditScore  FirstPaymentDate FirstTimeHomebuyer  MaturityDate    MSA  MIP  \\\n",
              "0            0            199902                  N        202901  16974   25   \n",
              "1            0            199902                  N        202901  19740    0   \n",
              "2            0            199902                  N        202901  29940    0   \n",
              "3            0            199902                  N        202901  31084    0   \n",
              "4            0            199902                  N        202901  35644    0   \n",
              "\n",
              "   Units Occupancy  OCLTV  DTI  ...  PostalCode    LoanSeqNum  LoanPurpose  \\\n",
              "0      1         O     89   27  ...       60400  F199Q1268030            P   \n",
              "1      1         O     73   17  ...       80200  F199Q1015092            N   \n",
              "2      1         O     75   16  ...       66000  F199Q1266886            N   \n",
              "3      1         O     76   14  ...       90700  F199Q1178167            N   \n",
              "4      1         O     78   18  ...        7600  F199Q1178517            N   \n",
              "\n",
              "  OrigLoanTerm NumBorrowers SellerName          ServicerName EverDelinquent  \\\n",
              "0        360.0            2         FL  WASHINGTONMUTUALBANK            0.0   \n",
              "1        360.0            1         FT  CHASEHOMEFINANCELLC             0.0   \n",
              "2        360.0            2         FL  WASHINGTONMUTUALBANK            0.0   \n",
              "3        360.0            2         GM  GMACMTGECORP                    0.0   \n",
              "4        360.0            2         GM  GMACMTGECORP                    0.0   \n",
              "\n",
              "  MonthsDelinquent MonthsInRepayment  \n",
              "0              0.0              52.0  \n",
              "1              0.0             144.0  \n",
              "2              0.0              67.0  \n",
              "3              0.0              35.0  \n",
              "4              0.0              54.0  \n",
              "\n",
              "[5 rows x 28 columns]"
            ],
            "text/html": [
              "\n",
              "  <div id=\"df-a5dd44df-b6c0-4f7a-b8e5-4f2cd3ca1ed4\">\n",
              "    <div class=\"colab-df-container\">\n",
              "      <div>\n",
              "<style scoped>\n",
              "    .dataframe tbody tr th:only-of-type {\n",
              "        vertical-align: middle;\n",
              "    }\n",
              "\n",
              "    .dataframe tbody tr th {\n",
              "        vertical-align: top;\n",
              "    }\n",
              "\n",
              "    .dataframe thead th {\n",
              "        text-align: right;\n",
              "    }\n",
              "</style>\n",
              "<table border=\"1\" class=\"dataframe\">\n",
              "  <thead>\n",
              "    <tr style=\"text-align: right;\">\n",
              "      <th></th>\n",
              "      <th>CreditScore</th>\n",
              "      <th>FirstPaymentDate</th>\n",
              "      <th>FirstTimeHomebuyer</th>\n",
              "      <th>MaturityDate</th>\n",
              "      <th>MSA</th>\n",
              "      <th>MIP</th>\n",
              "      <th>Units</th>\n",
              "      <th>Occupancy</th>\n",
              "      <th>OCLTV</th>\n",
              "      <th>DTI</th>\n",
              "      <th>...</th>\n",
              "      <th>PostalCode</th>\n",
              "      <th>LoanSeqNum</th>\n",
              "      <th>LoanPurpose</th>\n",
              "      <th>OrigLoanTerm</th>\n",
              "      <th>NumBorrowers</th>\n",
              "      <th>SellerName</th>\n",
              "      <th>ServicerName</th>\n",
              "      <th>EverDelinquent</th>\n",
              "      <th>MonthsDelinquent</th>\n",
              "      <th>MonthsInRepayment</th>\n",
              "    </tr>\n",
              "  </thead>\n",
              "  <tbody>\n",
              "    <tr>\n",
              "      <th>0</th>\n",
              "      <td>0</td>\n",
              "      <td>199902</td>\n",
              "      <td>N</td>\n",
              "      <td>202901</td>\n",
              "      <td>16974</td>\n",
              "      <td>25</td>\n",
              "      <td>1</td>\n",
              "      <td>O</td>\n",
              "      <td>89</td>\n",
              "      <td>27</td>\n",
              "      <td>...</td>\n",
              "      <td>60400</td>\n",
              "      <td>F199Q1268030</td>\n",
              "      <td>P</td>\n",
              "      <td>360.0</td>\n",
              "      <td>2</td>\n",
              "      <td>FL</td>\n",
              "      <td>WASHINGTONMUTUALBANK</td>\n",
              "      <td>0.0</td>\n",
              "      <td>0.0</td>\n",
              "      <td>52.0</td>\n",
              "    </tr>\n",
              "    <tr>\n",
              "      <th>1</th>\n",
              "      <td>0</td>\n",
              "      <td>199902</td>\n",
              "      <td>N</td>\n",
              "      <td>202901</td>\n",
              "      <td>19740</td>\n",
              "      <td>0</td>\n",
              "      <td>1</td>\n",
              "      <td>O</td>\n",
              "      <td>73</td>\n",
              "      <td>17</td>\n",
              "      <td>...</td>\n",
              "      <td>80200</td>\n",
              "      <td>F199Q1015092</td>\n",
              "      <td>N</td>\n",
              "      <td>360.0</td>\n",
              "      <td>1</td>\n",
              "      <td>FT</td>\n",
              "      <td>CHASEHOMEFINANCELLC</td>\n",
              "      <td>0.0</td>\n",
              "      <td>0.0</td>\n",
              "      <td>144.0</td>\n",
              "    </tr>\n",
              "    <tr>\n",
              "      <th>2</th>\n",
              "      <td>0</td>\n",
              "      <td>199902</td>\n",
              "      <td>N</td>\n",
              "      <td>202901</td>\n",
              "      <td>29940</td>\n",
              "      <td>0</td>\n",
              "      <td>1</td>\n",
              "      <td>O</td>\n",
              "      <td>75</td>\n",
              "      <td>16</td>\n",
              "      <td>...</td>\n",
              "      <td>66000</td>\n",
              "      <td>F199Q1266886</td>\n",
              "      <td>N</td>\n",
              "      <td>360.0</td>\n",
              "      <td>2</td>\n",
              "      <td>FL</td>\n",
              "      <td>WASHINGTONMUTUALBANK</td>\n",
              "      <td>0.0</td>\n",
              "      <td>0.0</td>\n",
              "      <td>67.0</td>\n",
              "    </tr>\n",
              "    <tr>\n",
              "      <th>3</th>\n",
              "      <td>0</td>\n",
              "      <td>199902</td>\n",
              "      <td>N</td>\n",
              "      <td>202901</td>\n",
              "      <td>31084</td>\n",
              "      <td>0</td>\n",
              "      <td>1</td>\n",
              "      <td>O</td>\n",
              "      <td>76</td>\n",
              "      <td>14</td>\n",
              "      <td>...</td>\n",
              "      <td>90700</td>\n",
              "      <td>F199Q1178167</td>\n",
              "      <td>N</td>\n",
              "      <td>360.0</td>\n",
              "      <td>2</td>\n",
              "      <td>GM</td>\n",
              "      <td>GMACMTGECORP</td>\n",
              "      <td>0.0</td>\n",
              "      <td>0.0</td>\n",
              "      <td>35.0</td>\n",
              "    </tr>\n",
              "    <tr>\n",
              "      <th>4</th>\n",
              "      <td>0</td>\n",
              "      <td>199902</td>\n",
              "      <td>N</td>\n",
              "      <td>202901</td>\n",
              "      <td>35644</td>\n",
              "      <td>0</td>\n",
              "      <td>1</td>\n",
              "      <td>O</td>\n",
              "      <td>78</td>\n",
              "      <td>18</td>\n",
              "      <td>...</td>\n",
              "      <td>7600</td>\n",
              "      <td>F199Q1178517</td>\n",
              "      <td>N</td>\n",
              "      <td>360.0</td>\n",
              "      <td>2</td>\n",
              "      <td>GM</td>\n",
              "      <td>GMACMTGECORP</td>\n",
              "      <td>0.0</td>\n",
              "      <td>0.0</td>\n",
              "      <td>54.0</td>\n",
              "    </tr>\n",
              "  </tbody>\n",
              "</table>\n",
              "<p>5 rows × 28 columns</p>\n",
              "</div>\n",
              "      <button class=\"colab-df-convert\" onclick=\"convertToInteractive('df-a5dd44df-b6c0-4f7a-b8e5-4f2cd3ca1ed4')\"\n",
              "              title=\"Convert this dataframe to an interactive table.\"\n",
              "              style=\"display:none;\">\n",
              "        \n",
              "  <svg xmlns=\"http://www.w3.org/2000/svg\" height=\"24px\"viewBox=\"0 0 24 24\"\n",
              "       width=\"24px\">\n",
              "    <path d=\"M0 0h24v24H0V0z\" fill=\"none\"/>\n",
              "    <path d=\"M18.56 5.44l.94 2.06.94-2.06 2.06-.94-2.06-.94-.94-2.06-.94 2.06-2.06.94zm-11 1L8.5 8.5l.94-2.06 2.06-.94-2.06-.94L8.5 2.5l-.94 2.06-2.06.94zm10 10l.94 2.06.94-2.06 2.06-.94-2.06-.94-.94-2.06-.94 2.06-2.06.94z\"/><path d=\"M17.41 7.96l-1.37-1.37c-.4-.4-.92-.59-1.43-.59-.52 0-1.04.2-1.43.59L10.3 9.45l-7.72 7.72c-.78.78-.78 2.05 0 2.83L4 21.41c.39.39.9.59 1.41.59.51 0 1.02-.2 1.41-.59l7.78-7.78 2.81-2.81c.8-.78.8-2.07 0-2.86zM5.41 20L4 18.59l7.72-7.72 1.47 1.35L5.41 20z\"/>\n",
              "  </svg>\n",
              "      </button>\n",
              "      \n",
              "  <style>\n",
              "    .colab-df-container {\n",
              "      display:flex;\n",
              "      flex-wrap:wrap;\n",
              "      gap: 12px;\n",
              "    }\n",
              "\n",
              "    .colab-df-convert {\n",
              "      background-color: #E8F0FE;\n",
              "      border: none;\n",
              "      border-radius: 50%;\n",
              "      cursor: pointer;\n",
              "      display: none;\n",
              "      fill: #1967D2;\n",
              "      height: 32px;\n",
              "      padding: 0 0 0 0;\n",
              "      width: 32px;\n",
              "    }\n",
              "\n",
              "    .colab-df-convert:hover {\n",
              "      background-color: #E2EBFA;\n",
              "      box-shadow: 0px 1px 2px rgba(60, 64, 67, 0.3), 0px 1px 3px 1px rgba(60, 64, 67, 0.15);\n",
              "      fill: #174EA6;\n",
              "    }\n",
              "\n",
              "    [theme=dark] .colab-df-convert {\n",
              "      background-color: #3B4455;\n",
              "      fill: #D2E3FC;\n",
              "    }\n",
              "\n",
              "    [theme=dark] .colab-df-convert:hover {\n",
              "      background-color: #434B5C;\n",
              "      box-shadow: 0px 1px 3px 1px rgba(0, 0, 0, 0.15);\n",
              "      filter: drop-shadow(0px 1px 2px rgba(0, 0, 0, 0.3));\n",
              "      fill: #FFFFFF;\n",
              "    }\n",
              "  </style>\n",
              "\n",
              "      <script>\n",
              "        const buttonEl =\n",
              "          document.querySelector('#df-a5dd44df-b6c0-4f7a-b8e5-4f2cd3ca1ed4 button.colab-df-convert');\n",
              "        buttonEl.style.display =\n",
              "          google.colab.kernel.accessAllowed ? 'block' : 'none';\n",
              "\n",
              "        async function convertToInteractive(key) {\n",
              "          const element = document.querySelector('#df-a5dd44df-b6c0-4f7a-b8e5-4f2cd3ca1ed4');\n",
              "          const dataTable =\n",
              "            await google.colab.kernel.invokeFunction('convertToInteractive',\n",
              "                                                     [key], {});\n",
              "          if (!dataTable) return;\n",
              "\n",
              "          const docLinkHtml = 'Like what you see? Visit the ' +\n",
              "            '<a target=\"_blank\" href=https://colab.research.google.com/notebooks/data_table.ipynb>data table notebook</a>'\n",
              "            + ' to learn more about interactive tables.';\n",
              "          element.innerHTML = '';\n",
              "          dataTable['output_type'] = 'display_data';\n",
              "          await google.colab.output.renderOutput(dataTable, element);\n",
              "          const docLink = document.createElement('div');\n",
              "          docLink.innerHTML = docLinkHtml;\n",
              "          element.appendChild(docLink);\n",
              "        }\n",
              "      </script>\n",
              "    </div>\n",
              "  </div>\n",
              "  "
            ]
          },
          "metadata": {},
          "execution_count": 8
        }
      ]
    },
    {
      "cell_type": "markdown",
      "source": [
        "**Borrower Financial Information:** Credit Score, First_Time_Homebuyer_Flag, original debt-to-income (DTI) ratio, number of borrowers, occupancy status (primary residence, investment or second home)\n",
        "\n",
        "**Loan Information:** First_Payment (date), Maturity_Date, MI_pert (% mortgage insured), original LTV (loan-to-value) ratio, original combined LTV ratio, original interest rate, original unpaid balance, PPM (prepayment penalty mortgage) flag, loan purpose (purchase vs refinance), original loan term, super-conforming flag\n",
        "\n",
        "**Property information:** number of units, property type (condo, single-family home, etc.)\n",
        "\n",
        "**Location:** MSA_Code (Metropolitan statistical area), Property_state, postal_code\n",
        "\n",
        "**Seller/Servicer information: **channel (retail, broker, etc.), seller name, servicer name"
      ],
      "metadata": {
        "id": "wAHuGsJYGp9u"
      }
    },
    {
      "cell_type": "code",
      "source": [
        "Loan_data.tail()"
      ],
      "metadata": {
        "colab": {
          "base_uri": "https://localhost:8080/",
          "height": 300
        },
        "id": "1vxyUnPP-2uF",
        "outputId": "f3c912c7-427c-48a7-92cd-544bc87797ee"
      },
      "execution_count": 9,
      "outputs": [
        {
          "output_type": "execute_result",
          "data": {
            "text/plain": [
              "        CreditScore  FirstPaymentDate FirstTimeHomebuyer  MaturityDate    MSA  \\\n",
              "206929          747            199905                  N        202904  24860   \n",
              "206930          747            199905                  N        202904  25420   \n",
              "206931          747            199905                  N        202904  25420   \n",
              "206932          747            199905                  N        202904  25540   \n",
              "206933          747            199905                  N        202904  25860   \n",
              "\n",
              "        MIP  Units Occupancy  OCLTV  DTI  ...  PostalCode    LoanSeqNum  \\\n",
              "206929   30      1         O     95   28  ...     29600.0  F199Q1144321   \n",
              "206930   25      1         O     89   41  ...     17000.0  F199Q1080927   \n",
              "206931   30      1         O     95   40  ...     17000.0  F199Q1348909   \n",
              "206932   25      1         O     90   28  ...      6000.0  F199Q1057957   \n",
              "206933    0      1         O     64   32  ...         NaN           NaN   \n",
              "\n",
              "        LoanPurpose OrigLoanTerm NumBorrowers SellerName  \\\n",
              "206929            P        360.0            2        NaN   \n",
              "206930            N        360.0            1         Ot   \n",
              "206931            P        360.0            2         AC   \n",
              "206932            P        360.0            2         NO   \n",
              "206933          NaN          NaN          NaN        NaN   \n",
              "\n",
              "                ServicerName EverDelinquent MonthsDelinquent MonthsInRepayment  \n",
              "206929  Other servicers                 0.0              0.0              30.0  \n",
              "206930  Other servicers                 0.0              0.0              68.0  \n",
              "206931  Other servicers                 0.0              0.0             210.0  \n",
              "206932  WELLSFARGOHOMEMORTGA            0.0              0.0              45.0  \n",
              "206933                   NaN            NaN              NaN               NaN  \n",
              "\n",
              "[5 rows x 28 columns]"
            ],
            "text/html": [
              "\n",
              "  <div id=\"df-2047dc0c-e18a-42a3-8ffe-66effc9db2d0\">\n",
              "    <div class=\"colab-df-container\">\n",
              "      <div>\n",
              "<style scoped>\n",
              "    .dataframe tbody tr th:only-of-type {\n",
              "        vertical-align: middle;\n",
              "    }\n",
              "\n",
              "    .dataframe tbody tr th {\n",
              "        vertical-align: top;\n",
              "    }\n",
              "\n",
              "    .dataframe thead th {\n",
              "        text-align: right;\n",
              "    }\n",
              "</style>\n",
              "<table border=\"1\" class=\"dataframe\">\n",
              "  <thead>\n",
              "    <tr style=\"text-align: right;\">\n",
              "      <th></th>\n",
              "      <th>CreditScore</th>\n",
              "      <th>FirstPaymentDate</th>\n",
              "      <th>FirstTimeHomebuyer</th>\n",
              "      <th>MaturityDate</th>\n",
              "      <th>MSA</th>\n",
              "      <th>MIP</th>\n",
              "      <th>Units</th>\n",
              "      <th>Occupancy</th>\n",
              "      <th>OCLTV</th>\n",
              "      <th>DTI</th>\n",
              "      <th>...</th>\n",
              "      <th>PostalCode</th>\n",
              "      <th>LoanSeqNum</th>\n",
              "      <th>LoanPurpose</th>\n",
              "      <th>OrigLoanTerm</th>\n",
              "      <th>NumBorrowers</th>\n",
              "      <th>SellerName</th>\n",
              "      <th>ServicerName</th>\n",
              "      <th>EverDelinquent</th>\n",
              "      <th>MonthsDelinquent</th>\n",
              "      <th>MonthsInRepayment</th>\n",
              "    </tr>\n",
              "  </thead>\n",
              "  <tbody>\n",
              "    <tr>\n",
              "      <th>206929</th>\n",
              "      <td>747</td>\n",
              "      <td>199905</td>\n",
              "      <td>N</td>\n",
              "      <td>202904</td>\n",
              "      <td>24860</td>\n",
              "      <td>30</td>\n",
              "      <td>1</td>\n",
              "      <td>O</td>\n",
              "      <td>95</td>\n",
              "      <td>28</td>\n",
              "      <td>...</td>\n",
              "      <td>29600.0</td>\n",
              "      <td>F199Q1144321</td>\n",
              "      <td>P</td>\n",
              "      <td>360.0</td>\n",
              "      <td>2</td>\n",
              "      <td>NaN</td>\n",
              "      <td>Other servicers</td>\n",
              "      <td>0.0</td>\n",
              "      <td>0.0</td>\n",
              "      <td>30.0</td>\n",
              "    </tr>\n",
              "    <tr>\n",
              "      <th>206930</th>\n",
              "      <td>747</td>\n",
              "      <td>199905</td>\n",
              "      <td>N</td>\n",
              "      <td>202904</td>\n",
              "      <td>25420</td>\n",
              "      <td>25</td>\n",
              "      <td>1</td>\n",
              "      <td>O</td>\n",
              "      <td>89</td>\n",
              "      <td>41</td>\n",
              "      <td>...</td>\n",
              "      <td>17000.0</td>\n",
              "      <td>F199Q1080927</td>\n",
              "      <td>N</td>\n",
              "      <td>360.0</td>\n",
              "      <td>1</td>\n",
              "      <td>Ot</td>\n",
              "      <td>Other servicers</td>\n",
              "      <td>0.0</td>\n",
              "      <td>0.0</td>\n",
              "      <td>68.0</td>\n",
              "    </tr>\n",
              "    <tr>\n",
              "      <th>206931</th>\n",
              "      <td>747</td>\n",
              "      <td>199905</td>\n",
              "      <td>N</td>\n",
              "      <td>202904</td>\n",
              "      <td>25420</td>\n",
              "      <td>30</td>\n",
              "      <td>1</td>\n",
              "      <td>O</td>\n",
              "      <td>95</td>\n",
              "      <td>40</td>\n",
              "      <td>...</td>\n",
              "      <td>17000.0</td>\n",
              "      <td>F199Q1348909</td>\n",
              "      <td>P</td>\n",
              "      <td>360.0</td>\n",
              "      <td>2</td>\n",
              "      <td>AC</td>\n",
              "      <td>Other servicers</td>\n",
              "      <td>0.0</td>\n",
              "      <td>0.0</td>\n",
              "      <td>210.0</td>\n",
              "    </tr>\n",
              "    <tr>\n",
              "      <th>206932</th>\n",
              "      <td>747</td>\n",
              "      <td>199905</td>\n",
              "      <td>N</td>\n",
              "      <td>202904</td>\n",
              "      <td>25540</td>\n",
              "      <td>25</td>\n",
              "      <td>1</td>\n",
              "      <td>O</td>\n",
              "      <td>90</td>\n",
              "      <td>28</td>\n",
              "      <td>...</td>\n",
              "      <td>6000.0</td>\n",
              "      <td>F199Q1057957</td>\n",
              "      <td>P</td>\n",
              "      <td>360.0</td>\n",
              "      <td>2</td>\n",
              "      <td>NO</td>\n",
              "      <td>WELLSFARGOHOMEMORTGA</td>\n",
              "      <td>0.0</td>\n",
              "      <td>0.0</td>\n",
              "      <td>45.0</td>\n",
              "    </tr>\n",
              "    <tr>\n",
              "      <th>206933</th>\n",
              "      <td>747</td>\n",
              "      <td>199905</td>\n",
              "      <td>N</td>\n",
              "      <td>202904</td>\n",
              "      <td>25860</td>\n",
              "      <td>0</td>\n",
              "      <td>1</td>\n",
              "      <td>O</td>\n",
              "      <td>64</td>\n",
              "      <td>32</td>\n",
              "      <td>...</td>\n",
              "      <td>NaN</td>\n",
              "      <td>NaN</td>\n",
              "      <td>NaN</td>\n",
              "      <td>NaN</td>\n",
              "      <td>NaN</td>\n",
              "      <td>NaN</td>\n",
              "      <td>NaN</td>\n",
              "      <td>NaN</td>\n",
              "      <td>NaN</td>\n",
              "      <td>NaN</td>\n",
              "    </tr>\n",
              "  </tbody>\n",
              "</table>\n",
              "<p>5 rows × 28 columns</p>\n",
              "</div>\n",
              "      <button class=\"colab-df-convert\" onclick=\"convertToInteractive('df-2047dc0c-e18a-42a3-8ffe-66effc9db2d0')\"\n",
              "              title=\"Convert this dataframe to an interactive table.\"\n",
              "              style=\"display:none;\">\n",
              "        \n",
              "  <svg xmlns=\"http://www.w3.org/2000/svg\" height=\"24px\"viewBox=\"0 0 24 24\"\n",
              "       width=\"24px\">\n",
              "    <path d=\"M0 0h24v24H0V0z\" fill=\"none\"/>\n",
              "    <path d=\"M18.56 5.44l.94 2.06.94-2.06 2.06-.94-2.06-.94-.94-2.06-.94 2.06-2.06.94zm-11 1L8.5 8.5l.94-2.06 2.06-.94-2.06-.94L8.5 2.5l-.94 2.06-2.06.94zm10 10l.94 2.06.94-2.06 2.06-.94-2.06-.94-.94-2.06-.94 2.06-2.06.94z\"/><path d=\"M17.41 7.96l-1.37-1.37c-.4-.4-.92-.59-1.43-.59-.52 0-1.04.2-1.43.59L10.3 9.45l-7.72 7.72c-.78.78-.78 2.05 0 2.83L4 21.41c.39.39.9.59 1.41.59.51 0 1.02-.2 1.41-.59l7.78-7.78 2.81-2.81c.8-.78.8-2.07 0-2.86zM5.41 20L4 18.59l7.72-7.72 1.47 1.35L5.41 20z\"/>\n",
              "  </svg>\n",
              "      </button>\n",
              "      \n",
              "  <style>\n",
              "    .colab-df-container {\n",
              "      display:flex;\n",
              "      flex-wrap:wrap;\n",
              "      gap: 12px;\n",
              "    }\n",
              "\n",
              "    .colab-df-convert {\n",
              "      background-color: #E8F0FE;\n",
              "      border: none;\n",
              "      border-radius: 50%;\n",
              "      cursor: pointer;\n",
              "      display: none;\n",
              "      fill: #1967D2;\n",
              "      height: 32px;\n",
              "      padding: 0 0 0 0;\n",
              "      width: 32px;\n",
              "    }\n",
              "\n",
              "    .colab-df-convert:hover {\n",
              "      background-color: #E2EBFA;\n",
              "      box-shadow: 0px 1px 2px rgba(60, 64, 67, 0.3), 0px 1px 3px 1px rgba(60, 64, 67, 0.15);\n",
              "      fill: #174EA6;\n",
              "    }\n",
              "\n",
              "    [theme=dark] .colab-df-convert {\n",
              "      background-color: #3B4455;\n",
              "      fill: #D2E3FC;\n",
              "    }\n",
              "\n",
              "    [theme=dark] .colab-df-convert:hover {\n",
              "      background-color: #434B5C;\n",
              "      box-shadow: 0px 1px 3px 1px rgba(0, 0, 0, 0.15);\n",
              "      filter: drop-shadow(0px 1px 2px rgba(0, 0, 0, 0.3));\n",
              "      fill: #FFFFFF;\n",
              "    }\n",
              "  </style>\n",
              "\n",
              "      <script>\n",
              "        const buttonEl =\n",
              "          document.querySelector('#df-2047dc0c-e18a-42a3-8ffe-66effc9db2d0 button.colab-df-convert');\n",
              "        buttonEl.style.display =\n",
              "          google.colab.kernel.accessAllowed ? 'block' : 'none';\n",
              "\n",
              "        async function convertToInteractive(key) {\n",
              "          const element = document.querySelector('#df-2047dc0c-e18a-42a3-8ffe-66effc9db2d0');\n",
              "          const dataTable =\n",
              "            await google.colab.kernel.invokeFunction('convertToInteractive',\n",
              "                                                     [key], {});\n",
              "          if (!dataTable) return;\n",
              "\n",
              "          const docLinkHtml = 'Like what you see? Visit the ' +\n",
              "            '<a target=\"_blank\" href=https://colab.research.google.com/notebooks/data_table.ipynb>data table notebook</a>'\n",
              "            + ' to learn more about interactive tables.';\n",
              "          element.innerHTML = '';\n",
              "          dataTable['output_type'] = 'display_data';\n",
              "          await google.colab.output.renderOutput(dataTable, element);\n",
              "          const docLink = document.createElement('div');\n",
              "          docLink.innerHTML = docLinkHtml;\n",
              "          element.appendChild(docLink);\n",
              "        }\n",
              "      </script>\n",
              "    </div>\n",
              "  </div>\n",
              "  "
            ]
          },
          "metadata": {},
          "execution_count": 9
        }
      ]
    },
    {
      "cell_type": "markdown",
      "source": [
        "**Unit** refres to number of properties morrtgage\n",
        "\n",
        "**Occupancy** values refer to O:owner ,Occupaied ,I:investment Peoperty ,S:secondary home\n",
        "\n",
        "**Channel** values refer to R:retail, B:broker, C:correspondent\n",
        "\n",
        "**Product** Type value FRM:fixed rate mortgages"
      ],
      "metadata": {
        "id": "8EIuqvlgG3rH"
      }
    },
    {
      "cell_type": "code",
      "source": [
        "Loan_data.info()"
      ],
      "metadata": {
        "colab": {
          "base_uri": "https://localhost:8080/"
        },
        "id": "IfDpbvUT_-Xq",
        "outputId": "a27ac0eb-3e05-46ea-8a23-c51c23b53552"
      },
      "execution_count": 10,
      "outputs": [
        {
          "output_type": "stream",
          "name": "stdout",
          "text": [
            "<class 'pandas.core.frame.DataFrame'>\n",
            "RangeIndex: 206934 entries, 0 to 206933\n",
            "Data columns (total 28 columns):\n",
            " #   Column              Non-Null Count   Dtype  \n",
            "---  ------              --------------   -----  \n",
            " 0   CreditScore         206934 non-null  int64  \n",
            " 1   FirstPaymentDate    206934 non-null  int64  \n",
            " 2   FirstTimeHomebuyer  206934 non-null  object \n",
            " 3   MaturityDate        206934 non-null  int64  \n",
            " 4   MSA                 206934 non-null  object \n",
            " 5   MIP                 206934 non-null  int64  \n",
            " 6   Units               206934 non-null  int64  \n",
            " 7   Occupancy           206934 non-null  object \n",
            " 8   OCLTV               206934 non-null  int64  \n",
            " 9   DTI                 206934 non-null  int64  \n",
            " 10  OrigUPB             206934 non-null  int64  \n",
            " 11  LTV                 206933 non-null  float64\n",
            " 12  OrigInterestRate    206933 non-null  float64\n",
            " 13  Channel             206933 non-null  object \n",
            " 14  PPM                 206933 non-null  object \n",
            " 15  ProductType         206933 non-null  object \n",
            " 16  PropertyState       206933 non-null  object \n",
            " 17  PropertyType        206933 non-null  object \n",
            " 18  PostalCode          206933 non-null  object \n",
            " 19  LoanSeqNum          206933 non-null  object \n",
            " 20  LoanPurpose         206933 non-null  object \n",
            " 21  OrigLoanTerm        206933 non-null  float64\n",
            " 22  NumBorrowers        206933 non-null  object \n",
            " 23  SellerName          189203 non-null  object \n",
            " 24  ServicerName        206933 non-null  object \n",
            " 25  EverDelinquent      206933 non-null  float64\n",
            " 26  MonthsDelinquent    206933 non-null  float64\n",
            " 27  MonthsInRepayment   206933 non-null  float64\n",
            "dtypes: float64(6), int64(8), object(14)\n",
            "memory usage: 44.2+ MB\n"
          ]
        }
      ]
    },
    {
      "cell_type": "code",
      "source": [
        "#filter columns by dtype\n",
        "Loan_data.select_dtypes(include=['float64']).columns"
      ],
      "metadata": {
        "colab": {
          "base_uri": "https://localhost:8080/"
        },
        "id": "Vsrlp2WMIM8s",
        "outputId": "fe7402a4-57ec-4738-e5ba-9f4f3a234014"
      },
      "execution_count": 17,
      "outputs": [
        {
          "output_type": "execute_result",
          "data": {
            "text/plain": [
              "Index(['LTV', 'OrigInterestRate', 'OrigLoanTerm', 'EverDelinquent',\n",
              "       'MonthsDelinquent', 'MonthsInRepayment'],\n",
              "      dtype='object')"
            ]
          },
          "metadata": {},
          "execution_count": 17
        }
      ]
    },
    {
      "cell_type": "code",
      "source": [
        "Loan_data.select_dtypes(include=['object']).columns"
      ],
      "metadata": {
        "colab": {
          "base_uri": "https://localhost:8080/"
        },
        "id": "RzKbHz7iIfkV",
        "outputId": "f442117a-8da7-405c-efbd-12c372e9f7f5"
      },
      "execution_count": 18,
      "outputs": [
        {
          "output_type": "execute_result",
          "data": {
            "text/plain": [
              "Index(['FirstTimeHomebuyer', 'MSA', 'Occupancy', 'Channel', 'PPM',\n",
              "       'ProductType', 'PropertyState', 'PropertyType', 'PostalCode',\n",
              "       'LoanSeqNum', 'LoanPurpose', 'NumBorrowers', 'SellerName',\n",
              "       'ServicerName'],\n",
              "      dtype='object')"
            ]
          },
          "metadata": {},
          "execution_count": 18
        }
      ]
    },
    {
      "cell_type": "code",
      "source": [
        "Loan_data.select_dtypes(include=['int64']).columns"
      ],
      "metadata": {
        "colab": {
          "base_uri": "https://localhost:8080/"
        },
        "id": "ZdY8KroyJSUe",
        "outputId": "ecf62db5-f41c-4e5f-e8c3-8eca8e59b24f"
      },
      "execution_count": 19,
      "outputs": [
        {
          "output_type": "execute_result",
          "data": {
            "text/plain": [
              "Index(['CreditScore', 'FirstPaymentDate', 'MaturityDate', 'MIP', 'Units',\n",
              "       'OCLTV', 'DTI', 'OrigUPB'],\n",
              "      dtype='object')"
            ]
          },
          "metadata": {},
          "execution_count": 19
        }
      ]
    },
    {
      "cell_type": "code",
      "source": [
        "# convert column that contain Date value to datetime \n",
        "Loan_data['FirstPaymentDate'] = pd.to_datetime(Loan_data['FirstPaymentDate'])\n",
        "\n",
        "Loan_data['MaturityDate'] = pd.to_datetime(Loan_data['MaturityDate'])"
      ],
      "metadata": {
        "id": "yUhjo39SLn9o"
      },
      "execution_count": 21,
      "outputs": []
    },
    {
      "cell_type": "code",
      "source": [
        "Loan_data.info()"
      ],
      "metadata": {
        "colab": {
          "base_uri": "https://localhost:8080/"
        },
        "id": "LVtbvE1CMg2h",
        "outputId": "e891f058-0020-42c8-f4d0-c64f3ceca5bc"
      },
      "execution_count": 22,
      "outputs": [
        {
          "output_type": "stream",
          "name": "stdout",
          "text": [
            "<class 'pandas.core.frame.DataFrame'>\n",
            "RangeIndex: 206934 entries, 0 to 206933\n",
            "Data columns (total 28 columns):\n",
            " #   Column              Non-Null Count   Dtype         \n",
            "---  ------              --------------   -----         \n",
            " 0   CreditScore         206934 non-null  int64         \n",
            " 1   FirstPaymentDate    206934 non-null  datetime64[ns]\n",
            " 2   FirstTimeHomebuyer  206934 non-null  object        \n",
            " 3   MaturityDate        206934 non-null  datetime64[ns]\n",
            " 4   MSA                 206934 non-null  object        \n",
            " 5   MIP                 206934 non-null  int64         \n",
            " 6   Units               206934 non-null  int64         \n",
            " 7   Occupancy           206934 non-null  object        \n",
            " 8   OCLTV               206934 non-null  int64         \n",
            " 9   DTI                 206934 non-null  int64         \n",
            " 10  OrigUPB             206934 non-null  int64         \n",
            " 11  LTV                 206933 non-null  float64       \n",
            " 12  OrigInterestRate    206933 non-null  float64       \n",
            " 13  Channel             206933 non-null  object        \n",
            " 14  PPM                 206933 non-null  object        \n",
            " 15  ProductType         206933 non-null  object        \n",
            " 16  PropertyState       206933 non-null  object        \n",
            " 17  PropertyType        206933 non-null  object        \n",
            " 18  PostalCode          206933 non-null  object        \n",
            " 19  LoanSeqNum          206933 non-null  object        \n",
            " 20  LoanPurpose         206933 non-null  object        \n",
            " 21  OrigLoanTerm        206933 non-null  float64       \n",
            " 22  NumBorrowers        206933 non-null  object        \n",
            " 23  SellerName          189203 non-null  object        \n",
            " 24  ServicerName        206933 non-null  object        \n",
            " 25  EverDelinquent      206933 non-null  float64       \n",
            " 26  MonthsDelinquent    206933 non-null  float64       \n",
            " 27  MonthsInRepayment   206933 non-null  float64       \n",
            "dtypes: datetime64[ns](2), float64(6), int64(6), object(14)\n",
            "memory usage: 44.2+ MB\n"
          ]
        }
      ]
    },
    {
      "cell_type": "markdown",
      "source": [
        "Processing Data"
      ],
      "metadata": {
        "id": "xeTKLdzcZUvY"
      }
    },
    {
      "cell_type": "code",
      "source": [
        "Loan_data.corr()"
      ],
      "metadata": {
        "colab": {
          "base_uri": "https://localhost:8080/",
          "height": 490
        },
        "id": "XwkxE21wHWsv",
        "outputId": "1735359f-7663-4725-af8b-8325b1769e3e"
      },
      "execution_count": 23,
      "outputs": [
        {
          "output_type": "execute_result",
          "data": {
            "text/plain": [
              "                   CreditScore       MIP     Units     OCLTV       DTI  \\\n",
              "CreditScore           1.000000 -0.078480 -0.000843 -0.075210 -0.017742   \n",
              "MIP                  -0.078480  1.000000 -0.048504  0.729289  0.083277   \n",
              "Units                -0.000843 -0.048504  1.000000 -0.060889  0.008211   \n",
              "OCLTV                -0.075210  0.729289 -0.060889  1.000000  0.082155   \n",
              "DTI                  -0.017742  0.083277  0.008211  0.082155  1.000000   \n",
              "OrigUPB               0.036925  0.003037  0.039129  0.076858  0.061530   \n",
              "LTV                  -0.075499  0.730580 -0.060732  0.999345  0.081651   \n",
              "OrigInterestRate     -0.090413  0.115526  0.071992  0.086837  0.084274   \n",
              "OrigLoanTerm          0.006676  0.011151  0.005103  0.016740  0.029405   \n",
              "EverDelinquent       -0.149670  0.032675  0.007752  0.034270  0.040639   \n",
              "MonthsDelinquent     -0.115365  0.034549 -0.005415  0.042993  0.028321   \n",
              "MonthsInRepayment    -0.032668 -0.087611  0.024484 -0.088436 -0.003871   \n",
              "\n",
              "                    OrigUPB       LTV  OrigInterestRate  OrigLoanTerm  \\\n",
              "CreditScore        0.036925 -0.075499         -0.090413      0.006676   \n",
              "MIP                0.003037  0.730580          0.115526      0.011151   \n",
              "Units              0.039129 -0.060732          0.071992      0.005103   \n",
              "OCLTV              0.076858  0.999345          0.086837      0.016740   \n",
              "DTI                0.061530  0.081651          0.084274      0.029405   \n",
              "OrigUPB            1.000000  0.076209         -0.135152     -0.002545   \n",
              "LTV                0.076209  1.000000          0.087134      0.016642   \n",
              "OrigInterestRate  -0.135152  0.087134          1.000000     -0.004125   \n",
              "OrigLoanTerm      -0.002545  0.016642         -0.004125      1.000000   \n",
              "EverDelinquent    -0.081305  0.034539          0.053039      0.007702   \n",
              "MonthsDelinquent  -0.079268  0.043152          0.047319      0.005745   \n",
              "MonthsInRepayment -0.205998 -0.088643         -0.109395      0.014769   \n",
              "\n",
              "                   EverDelinquent  MonthsDelinquent  MonthsInRepayment  \n",
              "CreditScore             -0.149670         -0.115365          -0.032668  \n",
              "MIP                      0.032675          0.034549          -0.087611  \n",
              "Units                    0.007752         -0.005415           0.024484  \n",
              "OCLTV                    0.034270          0.042993          -0.088436  \n",
              "DTI                      0.040639          0.028321          -0.003871  \n",
              "OrigUPB                 -0.081305         -0.079268          -0.205998  \n",
              "LTV                      0.034539          0.043152          -0.088643  \n",
              "OrigInterestRate         0.053039          0.047319          -0.109395  \n",
              "OrigLoanTerm             0.007702          0.005745           0.014769  \n",
              "EverDelinquent           1.000000          0.423373           0.259599  \n",
              "MonthsDelinquent         0.423373          1.000000           0.354454  \n",
              "MonthsInRepayment        0.259599          0.354454           1.000000  "
            ],
            "text/html": [
              "\n",
              "  <div id=\"df-f51dfaad-ba53-45c0-a152-e352753b6d1e\">\n",
              "    <div class=\"colab-df-container\">\n",
              "      <div>\n",
              "<style scoped>\n",
              "    .dataframe tbody tr th:only-of-type {\n",
              "        vertical-align: middle;\n",
              "    }\n",
              "\n",
              "    .dataframe tbody tr th {\n",
              "        vertical-align: top;\n",
              "    }\n",
              "\n",
              "    .dataframe thead th {\n",
              "        text-align: right;\n",
              "    }\n",
              "</style>\n",
              "<table border=\"1\" class=\"dataframe\">\n",
              "  <thead>\n",
              "    <tr style=\"text-align: right;\">\n",
              "      <th></th>\n",
              "      <th>CreditScore</th>\n",
              "      <th>MIP</th>\n",
              "      <th>Units</th>\n",
              "      <th>OCLTV</th>\n",
              "      <th>DTI</th>\n",
              "      <th>OrigUPB</th>\n",
              "      <th>LTV</th>\n",
              "      <th>OrigInterestRate</th>\n",
              "      <th>OrigLoanTerm</th>\n",
              "      <th>EverDelinquent</th>\n",
              "      <th>MonthsDelinquent</th>\n",
              "      <th>MonthsInRepayment</th>\n",
              "    </tr>\n",
              "  </thead>\n",
              "  <tbody>\n",
              "    <tr>\n",
              "      <th>CreditScore</th>\n",
              "      <td>1.000000</td>\n",
              "      <td>-0.078480</td>\n",
              "      <td>-0.000843</td>\n",
              "      <td>-0.075210</td>\n",
              "      <td>-0.017742</td>\n",
              "      <td>0.036925</td>\n",
              "      <td>-0.075499</td>\n",
              "      <td>-0.090413</td>\n",
              "      <td>0.006676</td>\n",
              "      <td>-0.149670</td>\n",
              "      <td>-0.115365</td>\n",
              "      <td>-0.032668</td>\n",
              "    </tr>\n",
              "    <tr>\n",
              "      <th>MIP</th>\n",
              "      <td>-0.078480</td>\n",
              "      <td>1.000000</td>\n",
              "      <td>-0.048504</td>\n",
              "      <td>0.729289</td>\n",
              "      <td>0.083277</td>\n",
              "      <td>0.003037</td>\n",
              "      <td>0.730580</td>\n",
              "      <td>0.115526</td>\n",
              "      <td>0.011151</td>\n",
              "      <td>0.032675</td>\n",
              "      <td>0.034549</td>\n",
              "      <td>-0.087611</td>\n",
              "    </tr>\n",
              "    <tr>\n",
              "      <th>Units</th>\n",
              "      <td>-0.000843</td>\n",
              "      <td>-0.048504</td>\n",
              "      <td>1.000000</td>\n",
              "      <td>-0.060889</td>\n",
              "      <td>0.008211</td>\n",
              "      <td>0.039129</td>\n",
              "      <td>-0.060732</td>\n",
              "      <td>0.071992</td>\n",
              "      <td>0.005103</td>\n",
              "      <td>0.007752</td>\n",
              "      <td>-0.005415</td>\n",
              "      <td>0.024484</td>\n",
              "    </tr>\n",
              "    <tr>\n",
              "      <th>OCLTV</th>\n",
              "      <td>-0.075210</td>\n",
              "      <td>0.729289</td>\n",
              "      <td>-0.060889</td>\n",
              "      <td>1.000000</td>\n",
              "      <td>0.082155</td>\n",
              "      <td>0.076858</td>\n",
              "      <td>0.999345</td>\n",
              "      <td>0.086837</td>\n",
              "      <td>0.016740</td>\n",
              "      <td>0.034270</td>\n",
              "      <td>0.042993</td>\n",
              "      <td>-0.088436</td>\n",
              "    </tr>\n",
              "    <tr>\n",
              "      <th>DTI</th>\n",
              "      <td>-0.017742</td>\n",
              "      <td>0.083277</td>\n",
              "      <td>0.008211</td>\n",
              "      <td>0.082155</td>\n",
              "      <td>1.000000</td>\n",
              "      <td>0.061530</td>\n",
              "      <td>0.081651</td>\n",
              "      <td>0.084274</td>\n",
              "      <td>0.029405</td>\n",
              "      <td>0.040639</td>\n",
              "      <td>0.028321</td>\n",
              "      <td>-0.003871</td>\n",
              "    </tr>\n",
              "    <tr>\n",
              "      <th>OrigUPB</th>\n",
              "      <td>0.036925</td>\n",
              "      <td>0.003037</td>\n",
              "      <td>0.039129</td>\n",
              "      <td>0.076858</td>\n",
              "      <td>0.061530</td>\n",
              "      <td>1.000000</td>\n",
              "      <td>0.076209</td>\n",
              "      <td>-0.135152</td>\n",
              "      <td>-0.002545</td>\n",
              "      <td>-0.081305</td>\n",
              "      <td>-0.079268</td>\n",
              "      <td>-0.205998</td>\n",
              "    </tr>\n",
              "    <tr>\n",
              "      <th>LTV</th>\n",
              "      <td>-0.075499</td>\n",
              "      <td>0.730580</td>\n",
              "      <td>-0.060732</td>\n",
              "      <td>0.999345</td>\n",
              "      <td>0.081651</td>\n",
              "      <td>0.076209</td>\n",
              "      <td>1.000000</td>\n",
              "      <td>0.087134</td>\n",
              "      <td>0.016642</td>\n",
              "      <td>0.034539</td>\n",
              "      <td>0.043152</td>\n",
              "      <td>-0.088643</td>\n",
              "    </tr>\n",
              "    <tr>\n",
              "      <th>OrigInterestRate</th>\n",
              "      <td>-0.090413</td>\n",
              "      <td>0.115526</td>\n",
              "      <td>0.071992</td>\n",
              "      <td>0.086837</td>\n",
              "      <td>0.084274</td>\n",
              "      <td>-0.135152</td>\n",
              "      <td>0.087134</td>\n",
              "      <td>1.000000</td>\n",
              "      <td>-0.004125</td>\n",
              "      <td>0.053039</td>\n",
              "      <td>0.047319</td>\n",
              "      <td>-0.109395</td>\n",
              "    </tr>\n",
              "    <tr>\n",
              "      <th>OrigLoanTerm</th>\n",
              "      <td>0.006676</td>\n",
              "      <td>0.011151</td>\n",
              "      <td>0.005103</td>\n",
              "      <td>0.016740</td>\n",
              "      <td>0.029405</td>\n",
              "      <td>-0.002545</td>\n",
              "      <td>0.016642</td>\n",
              "      <td>-0.004125</td>\n",
              "      <td>1.000000</td>\n",
              "      <td>0.007702</td>\n",
              "      <td>0.005745</td>\n",
              "      <td>0.014769</td>\n",
              "    </tr>\n",
              "    <tr>\n",
              "      <th>EverDelinquent</th>\n",
              "      <td>-0.149670</td>\n",
              "      <td>0.032675</td>\n",
              "      <td>0.007752</td>\n",
              "      <td>0.034270</td>\n",
              "      <td>0.040639</td>\n",
              "      <td>-0.081305</td>\n",
              "      <td>0.034539</td>\n",
              "      <td>0.053039</td>\n",
              "      <td>0.007702</td>\n",
              "      <td>1.000000</td>\n",
              "      <td>0.423373</td>\n",
              "      <td>0.259599</td>\n",
              "    </tr>\n",
              "    <tr>\n",
              "      <th>MonthsDelinquent</th>\n",
              "      <td>-0.115365</td>\n",
              "      <td>0.034549</td>\n",
              "      <td>-0.005415</td>\n",
              "      <td>0.042993</td>\n",
              "      <td>0.028321</td>\n",
              "      <td>-0.079268</td>\n",
              "      <td>0.043152</td>\n",
              "      <td>0.047319</td>\n",
              "      <td>0.005745</td>\n",
              "      <td>0.423373</td>\n",
              "      <td>1.000000</td>\n",
              "      <td>0.354454</td>\n",
              "    </tr>\n",
              "    <tr>\n",
              "      <th>MonthsInRepayment</th>\n",
              "      <td>-0.032668</td>\n",
              "      <td>-0.087611</td>\n",
              "      <td>0.024484</td>\n",
              "      <td>-0.088436</td>\n",
              "      <td>-0.003871</td>\n",
              "      <td>-0.205998</td>\n",
              "      <td>-0.088643</td>\n",
              "      <td>-0.109395</td>\n",
              "      <td>0.014769</td>\n",
              "      <td>0.259599</td>\n",
              "      <td>0.354454</td>\n",
              "      <td>1.000000</td>\n",
              "    </tr>\n",
              "  </tbody>\n",
              "</table>\n",
              "</div>\n",
              "      <button class=\"colab-df-convert\" onclick=\"convertToInteractive('df-f51dfaad-ba53-45c0-a152-e352753b6d1e')\"\n",
              "              title=\"Convert this dataframe to an interactive table.\"\n",
              "              style=\"display:none;\">\n",
              "        \n",
              "  <svg xmlns=\"http://www.w3.org/2000/svg\" height=\"24px\"viewBox=\"0 0 24 24\"\n",
              "       width=\"24px\">\n",
              "    <path d=\"M0 0h24v24H0V0z\" fill=\"none\"/>\n",
              "    <path d=\"M18.56 5.44l.94 2.06.94-2.06 2.06-.94-2.06-.94-.94-2.06-.94 2.06-2.06.94zm-11 1L8.5 8.5l.94-2.06 2.06-.94-2.06-.94L8.5 2.5l-.94 2.06-2.06.94zm10 10l.94 2.06.94-2.06 2.06-.94-2.06-.94-.94-2.06-.94 2.06-2.06.94z\"/><path d=\"M17.41 7.96l-1.37-1.37c-.4-.4-.92-.59-1.43-.59-.52 0-1.04.2-1.43.59L10.3 9.45l-7.72 7.72c-.78.78-.78 2.05 0 2.83L4 21.41c.39.39.9.59 1.41.59.51 0 1.02-.2 1.41-.59l7.78-7.78 2.81-2.81c.8-.78.8-2.07 0-2.86zM5.41 20L4 18.59l7.72-7.72 1.47 1.35L5.41 20z\"/>\n",
              "  </svg>\n",
              "      </button>\n",
              "      \n",
              "  <style>\n",
              "    .colab-df-container {\n",
              "      display:flex;\n",
              "      flex-wrap:wrap;\n",
              "      gap: 12px;\n",
              "    }\n",
              "\n",
              "    .colab-df-convert {\n",
              "      background-color: #E8F0FE;\n",
              "      border: none;\n",
              "      border-radius: 50%;\n",
              "      cursor: pointer;\n",
              "      display: none;\n",
              "      fill: #1967D2;\n",
              "      height: 32px;\n",
              "      padding: 0 0 0 0;\n",
              "      width: 32px;\n",
              "    }\n",
              "\n",
              "    .colab-df-convert:hover {\n",
              "      background-color: #E2EBFA;\n",
              "      box-shadow: 0px 1px 2px rgba(60, 64, 67, 0.3), 0px 1px 3px 1px rgba(60, 64, 67, 0.15);\n",
              "      fill: #174EA6;\n",
              "    }\n",
              "\n",
              "    [theme=dark] .colab-df-convert {\n",
              "      background-color: #3B4455;\n",
              "      fill: #D2E3FC;\n",
              "    }\n",
              "\n",
              "    [theme=dark] .colab-df-convert:hover {\n",
              "      background-color: #434B5C;\n",
              "      box-shadow: 0px 1px 3px 1px rgba(0, 0, 0, 0.15);\n",
              "      filter: drop-shadow(0px 1px 2px rgba(0, 0, 0, 0.3));\n",
              "      fill: #FFFFFF;\n",
              "    }\n",
              "  </style>\n",
              "\n",
              "      <script>\n",
              "        const buttonEl =\n",
              "          document.querySelector('#df-f51dfaad-ba53-45c0-a152-e352753b6d1e button.colab-df-convert');\n",
              "        buttonEl.style.display =\n",
              "          google.colab.kernel.accessAllowed ? 'block' : 'none';\n",
              "\n",
              "        async function convertToInteractive(key) {\n",
              "          const element = document.querySelector('#df-f51dfaad-ba53-45c0-a152-e352753b6d1e');\n",
              "          const dataTable =\n",
              "            await google.colab.kernel.invokeFunction('convertToInteractive',\n",
              "                                                     [key], {});\n",
              "          if (!dataTable) return;\n",
              "\n",
              "          const docLinkHtml = 'Like what you see? Visit the ' +\n",
              "            '<a target=\"_blank\" href=https://colab.research.google.com/notebooks/data_table.ipynb>data table notebook</a>'\n",
              "            + ' to learn more about interactive tables.';\n",
              "          element.innerHTML = '';\n",
              "          dataTable['output_type'] = 'display_data';\n",
              "          await google.colab.output.renderOutput(dataTable, element);\n",
              "          const docLink = document.createElement('div');\n",
              "          docLink.innerHTML = docLinkHtml;\n",
              "          element.appendChild(docLink);\n",
              "        }\n",
              "      </script>\n",
              "    </div>\n",
              "  </div>\n",
              "  "
            ]
          },
          "metadata": {},
          "execution_count": 23
        }
      ]
    },
    {
      "cell_type": "code",
      "source": [
        "#count/find null values\n",
        "missing_values= Loan_data.isnull().sum()\n",
        "missing_values"
      ],
      "metadata": {
        "colab": {
          "base_uri": "https://localhost:8080/"
        },
        "id": "pik5v7G2AFTf",
        "outputId": "cf5f7edd-5c5b-46d4-d44a-8620878dc2d4"
      },
      "execution_count": 25,
      "outputs": [
        {
          "output_type": "execute_result",
          "data": {
            "text/plain": [
              "CreditScore               0\n",
              "FirstPaymentDate          0\n",
              "FirstTimeHomebuyer        0\n",
              "MaturityDate              0\n",
              "MSA                       0\n",
              "MIP                       0\n",
              "Units                     0\n",
              "Occupancy                 0\n",
              "OCLTV                     0\n",
              "DTI                       0\n",
              "OrigUPB                   0\n",
              "LTV                       1\n",
              "OrigInterestRate          1\n",
              "Channel                   1\n",
              "PPM                       1\n",
              "ProductType               1\n",
              "PropertyState             1\n",
              "PropertyType              1\n",
              "PostalCode                1\n",
              "LoanSeqNum                1\n",
              "LoanPurpose               1\n",
              "OrigLoanTerm              1\n",
              "NumBorrowers              1\n",
              "SellerName            17731\n",
              "ServicerName              1\n",
              "EverDelinquent            1\n",
              "MonthsDelinquent          1\n",
              "MonthsInRepayment         1\n",
              "dtype: int64"
            ]
          },
          "metadata": {},
          "execution_count": 25
        }
      ]
    },
    {
      "cell_type": "code",
      "source": [
        "#total missing values\n",
        "total_missing_values= missing_values.sum()\n",
        "print(\"total missing values= \", total_missing_values)\n",
        "\n",
        "#count total cells\n",
        "total_cells = np.product(Loan_data.shape)\n",
        "print(\"total number of cells= \", total_cells)\n",
        "\n",
        "#percentage of total missing values\n",
        "total_missing_values_percentage= (total_missing_values/total_cells)*100\n",
        "print(\"percent of total missing values= %\" ,total_missing_values_percentage)"
      ],
      "metadata": {
        "colab": {
          "base_uri": "https://localhost:8080/"
        },
        "id": "gbIAeie2NbS9",
        "outputId": "b4d631b7-1a12-494b-de0d-97da1c659a7f"
      },
      "execution_count": 26,
      "outputs": [
        {
          "output_type": "stream",
          "name": "stdout",
          "text": [
            "total missing values=  17747\n",
            "total number of cells=  5794152\n",
            "percent of total missing values= % 0.30629158503263293\n"
          ]
        }
      ]
    },
    {
      "cell_type": "code",
      "source": [
        "#bar plot showing where is missing values\n",
        "msno.bar(Loan_data)"
      ],
      "metadata": {
        "id": "kSWIQZX5Atcj",
        "colab": {
          "base_uri": "https://localhost:8080/",
          "height": 499
        },
        "outputId": "537700d1-234a-4633-d5c2-f2b3a2fd2a9f"
      },
      "execution_count": 27,
      "outputs": [
        {
          "output_type": "execute_result",
          "data": {
            "text/plain": [
              "<matplotlib.axes._subplots.AxesSubplot at 0x7fa468325f10>"
            ]
          },
          "metadata": {},
          "execution_count": 27
        },
        {
          "output_type": "display_data",
          "data": {
            "text/plain": [
              "<Figure size 1800x720 with 3 Axes>"
            ],
            "image/png": "[encoded data removed]"
          },
          "metadata": {
            "needs_background": "light"
          }
        }
      ]
    },
    {
      "cell_type": "code",
      "source": [
        "#plot shows position of missing values\n",
        "msno.matrix(Loan_data)"
      ],
      "metadata": {
        "colab": {
          "base_uri": "https://localhost:8080/",
          "height": 475
        },
        "id": "Rpx2Nrz2HP-P",
        "outputId": "02f86142-ad4f-481a-e199-f88ea15f7ab9"
      },
      "execution_count": 28,
      "outputs": [
        {
          "output_type": "execute_result",
          "data": {
            "text/plain": [
              "<matplotlib.axes._subplots.AxesSubplot at 0x7fa4681521d0>"
            ]
          },
          "metadata": {},
          "execution_count": 28
        },
        {
          "output_type": "display_data",
          "data": {
            "text/plain": [
              "<Figure size 1800x720 with 2 Axes>"
            ],
            "image/png": "[encoded data removed]"
          },
          "metadata": {
            "needs_background": "light"
          }
        }
      ]
    },
    {
      "cell_type": "code",
      "source": [
        " # filling null values . \n",
        "Loan_data [\"SellerName\"].fillna(\"No Seller Name\", inplace = True)"
      ],
      "metadata": {
        "id": "KUnTQXM3OhnR"
      },
      "execution_count": 35,
      "outputs": []
    },
    {
      "cell_type": "code",
      "source": [
        "Loan_data['SellerName'].isnull().sum()"
      ],
      "metadata": {
        "colab": {
          "base_uri": "https://localhost:8080/"
        },
        "id": "XCiRBOqDP79t",
        "outputId": "db7bc515-7544-44c2-b204-d2e72e3823d6"
      },
      "execution_count": 44,
      "outputs": [
        {
          "output_type": "execute_result",
          "data": {
            "text/plain": [
              "0"
            ]
          },
          "metadata": {},
          "execution_count": 44
        }
      ]
    },
    {
      "cell_type": "code",
      "source": [
        "Loan_data['FirstTimeHomebuyer'].unique()"
      ],
      "metadata": {
        "colab": {
          "base_uri": "https://localhost:8080/"
        },
        "id": "w2WJfip4Qwbq",
        "outputId": "1b0db393-f5dc-4c85-885c-ee60bbf5e3e2"
      },
      "execution_count": 46,
      "outputs": [
        {
          "output_type": "execute_result",
          "data": {
            "text/plain": [
              "array(['N', 'X', 'Y'], dtype=object)"
            ]
          },
          "metadata": {},
          "execution_count": 46
        }
      ]
    },
    {
      "cell_type": "code",
      "source": [
        "plt.figure(figsize=(5, 5))\n",
        "sns.countplot(Loan_data.FirstTimeHomebuyer)"
      ],
      "metadata": {
        "colab": {
          "base_uri": "https://localhost:8080/",
          "height": 406
        },
        "id": "_legUrnoREKA",
        "outputId": "62685bc2-cfdf-4cf4-ed66-113b71900a75"
      },
      "execution_count": 50,
      "outputs": [
        {
          "output_type": "stream",
          "name": "stderr",
          "text": [
            "/usr/local/lib/python3.7/dist-packages/seaborn/_decorators.py:43: FutureWarning: Pass the following variable as a keyword arg: x. From version 0.12, the only valid positional argument will be `data`, and passing other arguments without an explicit keyword will result in an error or misinterpretation.\n",
            "  FutureWarning\n"
          ]
        },
        {
          "output_type": "execute_result",
          "data": {
            "text/plain": [
              "<matplotlib.axes._subplots.AxesSubplot at 0x7fa46802bcd0>"
            ]
          },
          "metadata": {},
          "execution_count": 50
        },
        {
          "output_type": "display_data",
          "data": {
            "text/plain": [
              "<Figure size 360x360 with 1 Axes>"
            ],
            "image/png": "[encoded data removed]"
          },
          "metadata": {
            "needs_background": "light"
          }
        }
      ]
    },
    {
      "cell_type": "code",
      "source": [
        "plt.figure(figsize=(25,15))\n",
        "sns.heatmap(Loan_data.corr(),vmax=1, square=True,annot=True, cmap='viridis')\n",
        "plt.title('Correlation between different attributes')\n",
        "plt.show()"
      ],
      "metadata": {
        "colab": {
          "base_uri": "https://localhost:8080/",
          "height": 992
        },
        "id": "0jEQw3aHSL2Q",
        "outputId": "5875fbad-844f-44c4-deee-abc6be45f7ec"
      },
      "execution_count": 51,
      "outputs": [
        {
          "output_type": "display_data",
          "data": {
            "text/plain": [
              "<Figure size 1800x1080 with 2 Axes>"
            ],
            "image/png": "[encoded data removed]"
          },
          "metadata": {
            "needs_background": "light"
          }
        }
      ]
    },
    {
      "cell_type": "code",
      "source": [
        "Loan_data['Occupancy'].unique()"
      ],
      "metadata": {
        "colab": {
          "base_uri": "https://localhost:8080/"
        },
        "id": "laGlouoISmDm",
        "outputId": "40f93528-a7d2-4678-cd9a-77f4959d3a59"
      },
      "execution_count": 53,
      "outputs": [
        {
          "output_type": "execute_result",
          "data": {
            "text/plain": [
              "array(['O', 'I', 'S'], dtype=object)"
            ]
          },
          "metadata": {},
          "execution_count": 53
        }
      ]
    },
    {
      "cell_type": "code",
      "source": [
        "plt.figure(figsize=(5, 5))\n",
        "sns.countplot(Loan_data.Occupancy)"
      ],
      "metadata": {
        "colab": {
          "base_uri": "https://localhost:8080/",
          "height": 406
        },
        "id": "C1kb5W54Tcll",
        "outputId": "c06ab96a-733c-4249-ad56-b099e33a83af"
      },
      "execution_count": 58,
      "outputs": [
        {
          "output_type": "stream",
          "name": "stderr",
          "text": [
            "/usr/local/lib/python3.7/dist-packages/seaborn/_decorators.py:43: FutureWarning: Pass the following variable as a keyword arg: x. From version 0.12, the only valid positional argument will be `data`, and passing other arguments without an explicit keyword will result in an error or misinterpretation.\n",
            "  FutureWarning\n"
          ]
        },
        {
          "output_type": "execute_result",
          "data": {
            "text/plain": [
              "<matplotlib.axes._subplots.AxesSubplot at 0x7fa466021fd0>"
            ]
          },
          "metadata": {},
          "execution_count": 58
        },
        {
          "output_type": "display_data",
          "data": {
            "text/plain": [
              "<Figure size 360x360 with 1 Axes>"
            ],
            "image/png": "[encoded data removed]"
          },
          "metadata": {
            "needs_background": "light"
          }
        }
      ]
    },
    {
      "cell_type": "code",
      "source": [
        "plt.figure(figsize=(20, 10))\n",
        "sns.countplot(Loan_data.PropertyState)"
      ],
      "metadata": {
        "colab": {
          "base_uri": "https://localhost:8080/",
          "height": 559
        },
        "id": "4Lql29BXVuc4",
        "outputId": "0c740fff-6993-4abf-aab4-111726ac3bcc"
      },
      "execution_count": 69,
      "outputs": [
        {
          "output_type": "stream",
          "name": "stderr",
          "text": [
            "/usr/local/lib/python3.7/dist-packages/seaborn/_decorators.py:43: FutureWarning: Pass the following variable as a keyword arg: x. From version 0.12, the only valid positional argument will be `data`, and passing other arguments without an explicit keyword will result in an error or misinterpretation.\n",
            "  FutureWarning\n"
          ]
        },
        {
          "output_type": "execute_result",
          "data": {
            "text/plain": [
              "<matplotlib.axes._subplots.AxesSubplot at 0x7fa4641b3690>"
            ]
          },
          "metadata": {},
          "execution_count": 69
        },
        {
          "output_type": "display_data",
          "data": {
            "text/plain": [
              "<Figure size 1440x720 with 1 Axes>"
            ],
            "image/png": "[encoded data removed]"
          },
          "metadata": {
            "needs_background": "light"
          }
        }
      ]
    }
  ]
}